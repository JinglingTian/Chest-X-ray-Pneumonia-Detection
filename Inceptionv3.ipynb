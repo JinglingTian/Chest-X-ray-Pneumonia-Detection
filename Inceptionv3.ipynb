{
 "cells": [
  {
   "cell_type": "code",
   "execution_count": 1,
   "metadata": {
    "_cell_guid": "b1076dfc-b9ad-4769-8c92-a6c4dae69d19",
    "_uuid": "8f2839f25d086af736a60e9eeb907d3b93b6e0e5",
    "tags": []
   },
   "outputs": [
    {
     "data": {
      "text/plain": [
       "device(type='cuda', index=0)"
      ]
     },
     "execution_count": 1,
     "metadata": {},
     "output_type": "execute_result"
    }
   ],
   "source": [
    "import pandas as pd\n",
    "import os\n",
    "import shutil\n",
    "from tqdm import tqdm\n",
    "import torch\n",
    "import torch.nn as nn\n",
    "import numpy as np\n",
    "import torchvision\n",
    "from torchvision import transforms,datasets\n",
    "from torch.utils.data import Dataset,DataLoader,random_split\n",
    "import torch.nn.functional as F\n",
    "from torch.nn.parameter import Parameter\n",
    "\n",
    "torch.manual_seed(666)\n",
    "torch.cuda.manual_seed(666)\n",
    "DEVICE = torch.device(\"cuda:0\" if torch.cuda.is_available() else \"cpu\")\n",
    "DEVICE"
   ]
  },
  {
   "cell_type": "markdown",
   "metadata": {},
   "source": [
    "## 数据集：多种肺炎X光图像,四分类\n",
    "## 网络: Residua+Inception"
   ]
  },
  {
   "cell_type": "markdown",
   "metadata": {},
   "source": [
    "### 数据集"
   ]
  },
  {
   "cell_type": "code",
   "execution_count": 2,
   "metadata": {
    "tags": []
   },
   "outputs": [
    {
     "data": {
      "text/plain": [
       "(439, 2706, 244)"
      ]
     },
     "execution_count": 2,
     "metadata": {},
     "output_type": "execute_result"
    }
   ],
   "source": [
    "data_dir = \"../data/COVID_Dataset\"\n",
    "TRAIN = 'train'\n",
    "TEST = 'test'\n",
    "VAL = 'val'\n",
    "\n",
    "def apply_transform(mode=None):\n",
    "    size = (299,299)\n",
    "    crop = 299\n",
    "    if mode == 'train':\n",
    "        transform = transforms.Compose([transforms.Resize(size),\n",
    "                               transforms.RandomHorizontalFlip(),\n",
    "                               transforms.RandomRotation((-20,+20)),\n",
    "                               transforms.CenterCrop(crop),\n",
    "                               transforms.ToTensor(),\n",
    "                               transforms.Normalize([0.485, 0.456, 0.406],\n",
    "                                           [0.229, 0.224, 0.225])\n",
    "                              ])\n",
    "\n",
    "    elif mode == 'test' or mode == 'val':\n",
    "        transform = transforms.Compose([transforms.Resize(size),\n",
    "                               transforms.CenterCrop(crop),\n",
    "                               transforms.ToTensor(),\n",
    "                               transforms.Normalize([0.485, 0.456, 0.406],\n",
    "                                           [0.229, 0.224, 0.225])\n",
    "                              ])\n",
    "\n",
    "    return transform\n",
    "\n",
    "trainset = datasets.ImageFolder(os.path.join(data_dir, TRAIN),\n",
    "                                transform = apply_transform(TRAIN))\n",
    "\n",
    "trainset,valset = random_split(trainset,[len(trainset)-int(len(trainset)*0.1),int(len(trainset)*0.1)])\n",
    "\n",
    "testset = datasets.ImageFolder(os.path.join(data_dir, TEST),\n",
    "                               transform = apply_transform(TEST))\n",
    "\n",
    "train_loader = DataLoader(trainset,\n",
    "                          batch_size=50,\n",
    "                          shuffle=True)\n",
    "\n",
    "val_loader = DataLoader(valset,\n",
    "                        batch_size=10)\n",
    "\n",
    "test_loader = DataLoader(testset,\n",
    "                         batch_size=1)\n",
    "\n",
    "len(train_loader),len(test_loader),len(val_loader)\n",
    "\n",
    "\n"
   ]
  },
  {
   "cell_type": "markdown",
   "metadata": {},
   "source": [
    "### 模型"
   ]
  },
  {
   "cell_type": "code",
   "execution_count": 3,
   "metadata": {
    "tags": []
   },
   "outputs": [],
   "source": [
    "# SA模块\n",
    "class SA_Layer(nn.Module):\n",
    "    def __init__(self,channels,groups=64) -> None:\n",
    "        super().__init__()\n",
    "        self.groups = groups\n",
    "        self.avg_pool = nn.AdaptiveAvgPool2d(1)\n",
    "        self.cweight = Parameter(torch.zeros(1,channels//(2*groups),1,1))\n",
    "        self.cbias = Parameter(torch.ones(1,channels//(2*groups),1,1))\n",
    "        self.sweight = Parameter(torch.zeros(1,channels//(2*groups),1,1))\n",
    "        self.sbias = Parameter(torch.ones(1,channels//(2*groups),1,1))\n",
    "        \n",
    "        self.sigmoid = nn.Sigmoid()\n",
    "        self.gn = nn.GroupNorm(channels//(2*groups),channels//(2*groups))\n",
    "\n",
    "    @staticmethod\n",
    "    def channel_suffle(x,groups):\n",
    "        b,c,h,w = x.shape\n",
    "        # 输入特征图分组\n",
    "        x = x.reshape(b,groups,-1,h,w)\n",
    "        # 洗牌\n",
    "        x = x.permute(0,2,1,3,4)\n",
    "        x = x.reshape(b,-1,h,w)\n",
    "        return x\n",
    "    \n",
    "\n",
    "    def forward(self,x):\n",
    "        b,c,h,w = x.shape\n",
    "        x = x.reshape(b*self.groups,-1,h,w)\n",
    "        x_0, x_1 = x.chunk(2,dim=1)\n",
    "\n",
    "        # 通道注意力\n",
    "        xn = self.avg_pool(x_0)\n",
    "        xn = self.cweight * xn + self.cbias\n",
    "        xn = x_0*self.sigmoid(xn)\n",
    "\n",
    "        # 空间注意力\n",
    "        xs = self.gn(x_1)\n",
    "        xs = self.sweight * xs + self.sbias\n",
    "        xs = x_1*self.sigmoid(xs)\n",
    "\n",
    "        # 在通道维度上拼接\n",
    "        out = torch.cat([xn,xs],dim=1)\n",
    "        out = out.reshape(b,-1,h,w)\n",
    "        out = self.channel_suffle(out,2)\n",
    "\n",
    "        return out\n",
    "\n",
    "# Inception层\n",
    "class Inception(nn.Module):\n",
    "    def __init__(self,in_channels,c1,c2,c3,c4) -> None:\n",
    "        super().__init__()\n",
    "        # 路线1    1*1conv\n",
    "        self.route1x1_1 = nn.Conv2d(in_channels,c1,kernel_size=(1,1))\n",
    "        # 路线2    1*1conv,3*3conv\n",
    "        self.route1x1_2 = nn.Conv2d(in_channels,c2[0],kernel_size=(1,1))\n",
    "        self.route3x3_2 = nn.Conv2d(c2[0],c2[1],kernel_size=(3,3),padding=1)       \n",
    "        # 路线3    1*1conv,5*5conv\n",
    "        self.route1x1_3 = nn.Conv2d(in_channels,c3[0],kernel_size=(1,1))\n",
    "        self.route5x5_3 = nn.Conv2d(c3[0],c3[1],kernel_size=(5,5),padding=2)\n",
    "        # 路线4    3*3pool,1*1conv\n",
    "        self.route3x3_4 = nn.MaxPool2d((3,3),stride=1,padding=1)\n",
    "        self.route1x1_4 = nn.Conv2d(in_channels,c4,kernel_size=(1,1))\n",
    "    \n",
    "    def forward(self,x):\n",
    "        route1 = F.relu(self.route1x1_1(x))\n",
    "        route2 = F.relu(self.route3x3_2(F.relu(self.route1x1_2(x))))\n",
    "        route3 = F.relu(self.route5x5_3(F.relu(self.route1x1_3(x))))\n",
    "        route4 = F.relu(self.route1x1_4(self.route3x3_4(x)))\n",
    "        out = torch.concat([route1,route2,route3,route4],dim=1)\n",
    "        return out\n",
    "\n",
    "# Basic卷积层\n",
    "class BasicConv2d(nn.Module):\n",
    "    def __init__(self,in_channels,out_channels,kernel,stride=1,padding=0) -> None:\n",
    "        super().__init__()\n",
    "        self.conv = nn.Sequential(\n",
    "            nn.Conv2d(in_channels,out_channels,kernel_size=kernel,stride=stride,padding=padding),\n",
    "            nn.BatchNorm2d(out_channels),\n",
    "            nn.ReLU()\n",
    "        )\n",
    "    def forward(self,x):\n",
    "        return self.conv(x)\n",
    "\n",
    "# Inception 残差块\n",
    "class Residual(nn.Module):\n",
    "    def __init__(self,in_channels,out_channels,strid=1) -> None:\n",
    "        super().__init__()\n",
    "        self.conv1 = nn.Conv2d(in_channels,out_channels,kernel_size=(1,1),stride=1)\n",
    "        self.inception = nn.Sequential(Inception(256,64,(64,128),(16,32),32))\n",
    "    def forward(self,x):\n",
    "        x = self.conv1(x)\n",
    "        y = self.inception(x)\n",
    "        out = F.relu(x+y)\n",
    "        return out\n",
    "\n",
    "# 网络\n",
    "class Res_Inception(nn.Module):\n",
    "    def __init__(self,in_channel,num_classes) -> None:\n",
    "        super().__init__()\n",
    "        self.b1 = nn.Sequential(\n",
    "            BasicConv2d(in_channel,out_channels=64,kernel=(3,3),stride=2,padding=1),\n",
    "            nn.MaxPool2d((2,2),2)\n",
    "        )\n",
    "        self.b2 = nn.Sequential(\n",
    "            BasicConv2d(64,128,kernel=(3,3),padding=1),\n",
    "            nn.MaxPool2d((2,2),2)\n",
    "        )\n",
    "        self.b3 = nn.Sequential(\n",
    "            BasicConv2d(128,256,kernel=(3,3),padding=1),\n",
    "            nn.MaxPool2d((2,2),2),\n",
    "        )\n",
    "        self.b4 = nn.Sequential(\n",
    "            BasicConv2d(256,256,kernel=(3,3),padding=1),\n",
    "            nn.MaxPool2d((2,2),2)\n",
    "        )\n",
    "        self.b5 = nn.Sequential(\n",
    "            Inception(256,64,(64,128),(16,32),32),\n",
    "            nn.MaxPool2d((2,2),2),\n",
    "            Inception(256,64,(64,128),(16,32),32),\n",
    "            nn.MaxPool2d((2,2),2),\n",
    "            Inception(256,64,(64,128),(16,32),32)\n",
    "        )\n",
    "        self.AvgPool2D = nn.AvgPool2d((2,2),2)\n",
    "        self.flatten = nn.Flatten()\n",
    "        self.b6 = nn.Linear(256,num_classes)\n",
    "    \n",
    "    def forward(self,x):\n",
    "        x = self.b1(x)\n",
    "        x = self.b2(x)\n",
    "        x = self.b3(x)\n",
    "        x = self.b4(x)\n",
    "        x = self.b5(x)\n",
    "        x = self.AvgPool2D(x)\n",
    "        x = self.flatten(x)\n",
    "        x = self.b6(x)\n",
    "        return x\n",
    "        "
   ]
  },
  {
   "cell_type": "markdown",
   "metadata": {},
   "source": [
    "### 评价指标"
   ]
  },
  {
   "cell_type": "code",
   "execution_count": 4,
   "metadata": {
    "tags": []
   },
   "outputs": [],
   "source": [
    "def accuracy(preds, labels):\n",
    "    preds = torch.exp(preds)\n",
    "    top_p,top_class = preds.topk(1, dim=1)\n",
    "    equals = top_class == labels.view(*top_class.shape)\n",
    "    return torch.mean(equals.type(torch.FloatTensor))"
   ]
  },
  {
   "cell_type": "markdown",
   "metadata": {},
   "source": [
    "### 训练"
   ]
  },
  {
   "cell_type": "code",
   "execution_count": 5,
   "metadata": {
    "tags": []
   },
   "outputs": [
    {
     "name": "stderr",
     "output_type": "stream",
     "text": [
      "100%|██████████| 439/439 [03:05<00:00,  2.36it/s]\n",
      "100%|██████████| 244/244 [00:19<00:00, 12.59it/s]\n"
     ]
    },
    {
     "name": "stdout",
     "output_type": "stream",
     "text": [
      "Epoch : 1 \n",
      "train_loss : 0.834936, \tTrain_acc : 0.656328, \n",
      "Val_loss : 0.661006, \tVal_acc : 0.720628\n",
      "Validation loss decreased from (inf --> 0.661006).\n",
      "Saving model ...\n"
     ]
    },
    {
     "name": "stderr",
     "output_type": "stream",
     "text": [
      "100%|██████████| 439/439 [03:09<00:00,  2.31it/s]\n",
      "100%|██████████| 244/244 [00:19<00:00, 12.24it/s]\n"
     ]
    },
    {
     "name": "stdout",
     "output_type": "stream",
     "text": [
      "Epoch : 2 \n",
      "train_loss : 0.609891, \tTrain_acc : 0.753909, \n",
      "Val_loss : 0.552254, \tVal_acc : 0.787022\n",
      "Validation loss decreased from (0.661006 --> 0.552254).\n",
      "Saving model ...\n"
     ]
    },
    {
     "name": "stderr",
     "output_type": "stream",
     "text": [
      "100%|██████████| 439/439 [03:11<00:00,  2.30it/s]\n",
      "100%|██████████| 244/244 [00:19<00:00, 12.30it/s]\n"
     ]
    },
    {
     "name": "stdout",
     "output_type": "stream",
     "text": [
      "Epoch : 3 \n",
      "train_loss : 0.509270, \tTrain_acc : 0.798060, \n",
      "Val_loss : 0.598187, \tVal_acc : 0.780464\n"
     ]
    },
    {
     "name": "stderr",
     "output_type": "stream",
     "text": [
      "100%|██████████| 439/439 [03:03<00:00,  2.39it/s]\n",
      "100%|██████████| 244/244 [00:19<00:00, 12.38it/s]\n"
     ]
    },
    {
     "name": "stdout",
     "output_type": "stream",
     "text": [
      "Epoch : 4 \n",
      "train_loss : 0.459365, \tTrain_acc : 0.821108, \n",
      "Val_loss : 0.508369, \tVal_acc : 0.796858\n",
      "Validation loss decreased from (0.552254 --> 0.508369).\n",
      "Saving model ...\n"
     ]
    },
    {
     "name": "stderr",
     "output_type": "stream",
     "text": [
      "100%|██████████| 439/439 [03:06<00:00,  2.36it/s]\n",
      "100%|██████████| 244/244 [00:19<00:00, 12.67it/s]\n"
     ]
    },
    {
     "name": "stdout",
     "output_type": "stream",
     "text": [
      "Epoch : 5 \n",
      "train_loss : 0.422407, \tTrain_acc : 0.833254, \n",
      "Val_loss : 0.551516, \tVal_acc : 0.789344\n"
     ]
    },
    {
     "name": "stderr",
     "output_type": "stream",
     "text": [
      "100%|██████████| 439/439 [03:04<00:00,  2.39it/s]\n",
      "100%|██████████| 244/244 [00:19<00:00, 12.57it/s]\n"
     ]
    },
    {
     "name": "stdout",
     "output_type": "stream",
     "text": [
      "Epoch : 6 \n",
      "train_loss : 0.395811, \tTrain_acc : 0.841637, \n",
      "Val_loss : 0.412718, \tVal_acc : 0.835519\n",
      "Validation loss decreased from (0.508369 --> 0.412718).\n",
      "Saving model ...\n"
     ]
    },
    {
     "name": "stderr",
     "output_type": "stream",
     "text": [
      "100%|██████████| 439/439 [03:08<00:00,  2.33it/s]\n",
      "100%|██████████| 244/244 [00:20<00:00, 11.77it/s]\n"
     ]
    },
    {
     "name": "stdout",
     "output_type": "stream",
     "text": [
      "Epoch : 7 \n",
      "train_loss : 0.373262, \tTrain_acc : 0.853163, \n",
      "Val_loss : 0.380875, \tVal_acc : 0.850273\n",
      "Validation loss decreased from (0.412718 --> 0.380875).\n",
      "Saving model ...\n"
     ]
    },
    {
     "name": "stderr",
     "output_type": "stream",
     "text": [
      "100%|██████████| 439/439 [03:04<00:00,  2.38it/s]\n",
      "100%|██████████| 244/244 [00:19<00:00, 12.30it/s]\n"
     ]
    },
    {
     "name": "stdout",
     "output_type": "stream",
     "text": [
      "Epoch : 8 \n",
      "train_loss : 0.360677, \tTrain_acc : 0.855644, \n",
      "Val_loss : 0.368135, \tVal_acc : 0.850273\n",
      "Validation loss decreased from (0.380875 --> 0.368135).\n",
      "Saving model ...\n"
     ]
    },
    {
     "name": "stderr",
     "output_type": "stream",
     "text": [
      "100%|██████████| 439/439 [03:06<00:00,  2.35it/s]\n",
      "100%|██████████| 244/244 [00:19<00:00, 12.28it/s]\n"
     ]
    },
    {
     "name": "stdout",
     "output_type": "stream",
     "text": [
      "Epoch : 9 \n",
      "train_loss : 0.345865, \tTrain_acc : 0.861454, \n",
      "Val_loss : 0.418520, \tVal_acc : 0.836475\n"
     ]
    },
    {
     "name": "stderr",
     "output_type": "stream",
     "text": [
      "100%|██████████| 439/439 [03:04<00:00,  2.37it/s]\n",
      "100%|██████████| 244/244 [00:19<00:00, 12.69it/s]\n"
     ]
    },
    {
     "name": "stdout",
     "output_type": "stream",
     "text": [
      "Epoch : 10 \n",
      "train_loss : 0.333017, \tTrain_acc : 0.869040, \n",
      "Val_loss : 0.328846, \tVal_acc : 0.868579\n",
      "Validation loss decreased from (0.368135 --> 0.328846).\n",
      "Saving model ...\n"
     ]
    },
    {
     "name": "stderr",
     "output_type": "stream",
     "text": [
      "100%|██████████| 439/439 [03:06<00:00,  2.35it/s]\n",
      "100%|██████████| 244/244 [00:20<00:00, 11.78it/s]\n"
     ]
    },
    {
     "name": "stdout",
     "output_type": "stream",
     "text": [
      "Epoch : 11 \n",
      "train_loss : 0.324056, \tTrain_acc : 0.872891, \n",
      "Val_loss : 0.350411, \tVal_acc : 0.860109\n"
     ]
    },
    {
     "name": "stderr",
     "output_type": "stream",
     "text": [
      "100%|██████████| 439/439 [03:05<00:00,  2.37it/s]\n",
      "100%|██████████| 244/244 [00:19<00:00, 12.33it/s]\n"
     ]
    },
    {
     "name": "stdout",
     "output_type": "stream",
     "text": [
      "Epoch : 12 \n",
      "train_loss : 0.315579, \tTrain_acc : 0.873324, \n",
      "Val_loss : 0.360466, \tVal_acc : 0.864617\n"
     ]
    },
    {
     "name": "stderr",
     "output_type": "stream",
     "text": [
      "100%|██████████| 439/439 [03:04<00:00,  2.38it/s]\n",
      "100%|██████████| 244/244 [00:19<00:00, 12.53it/s]\n"
     ]
    },
    {
     "name": "stdout",
     "output_type": "stream",
     "text": [
      "Epoch : 13 \n",
      "train_loss : 0.303889, \tTrain_acc : 0.879019, \n",
      "Val_loss : 0.341776, \tVal_acc : 0.869535\n"
     ]
    },
    {
     "name": "stderr",
     "output_type": "stream",
     "text": [
      "100%|██████████| 439/439 [03:03<00:00,  2.39it/s]\n",
      "100%|██████████| 244/244 [00:19<00:00, 12.45it/s]\n"
     ]
    },
    {
     "name": "stdout",
     "output_type": "stream",
     "text": [
      "Epoch : 14 \n",
      "train_loss : 0.295178, \tTrain_acc : 0.882640, \n",
      "Val_loss : 0.373351, \tVal_acc : 0.852185\n"
     ]
    },
    {
     "name": "stderr",
     "output_type": "stream",
     "text": [
      "100%|██████████| 439/439 [03:03<00:00,  2.40it/s]\n",
      "100%|██████████| 244/244 [00:19<00:00, 12.72it/s]\n"
     ]
    },
    {
     "name": "stdout",
     "output_type": "stream",
     "text": [
      "Epoch : 15 \n",
      "train_loss : 0.246688, \tTrain_acc : 0.903529, \n",
      "Val_loss : 0.308171, \tVal_acc : 0.879235\n",
      "Validation loss decreased from (0.328846 --> 0.308171).\n",
      "Saving model ...\n"
     ]
    },
    {
     "name": "stderr",
     "output_type": "stream",
     "text": [
      "100%|██████████| 439/439 [03:10<00:00,  2.30it/s]\n",
      "100%|██████████| 244/244 [00:19<00:00, 12.31it/s]\n"
     ]
    },
    {
     "name": "stdout",
     "output_type": "stream",
     "text": [
      "Epoch : 16 \n",
      "train_loss : 0.232560, \tTrain_acc : 0.906968, \n",
      "Val_loss : 0.289677, \tVal_acc : 0.888251\n",
      "Validation loss decreased from (0.308171 --> 0.289677).\n",
      "Saving model ...\n"
     ]
    },
    {
     "name": "stderr",
     "output_type": "stream",
     "text": [
      "100%|██████████| 439/439 [03:03<00:00,  2.39it/s]\n",
      "100%|██████████| 244/244 [00:19<00:00, 12.51it/s]\n"
     ]
    },
    {
     "name": "stdout",
     "output_type": "stream",
     "text": [
      "Epoch : 17 \n",
      "train_loss : 0.224500, \tTrain_acc : 0.912665, \n",
      "Val_loss : 0.289425, \tVal_acc : 0.891940\n",
      "Validation loss decreased from (0.289677 --> 0.289425).\n",
      "Saving model ...\n"
     ]
    },
    {
     "name": "stderr",
     "output_type": "stream",
     "text": [
      "100%|██████████| 439/439 [03:08<00:00,  2.33it/s]\n",
      "100%|██████████| 244/244 [00:19<00:00, 12.74it/s]\n"
     ]
    },
    {
     "name": "stdout",
     "output_type": "stream",
     "text": [
      "Epoch : 18 \n",
      "train_loss : 0.220930, \tTrain_acc : 0.913553, \n",
      "Val_loss : 0.290935, \tVal_acc : 0.887841\n"
     ]
    },
    {
     "name": "stderr",
     "output_type": "stream",
     "text": [
      "100%|██████████| 439/439 [03:06<00:00,  2.36it/s]\n",
      "100%|██████████| 244/244 [00:19<00:00, 12.31it/s]\n"
     ]
    },
    {
     "name": "stdout",
     "output_type": "stream",
     "text": [
      "Epoch : 19 \n",
      "train_loss : 0.216787, \tTrain_acc : 0.916466, \n",
      "Val_loss : 0.286978, \tVal_acc : 0.887021\n",
      "Validation loss decreased from (0.289425 --> 0.286978).\n",
      "Saving model ...\n"
     ]
    },
    {
     "name": "stderr",
     "output_type": "stream",
     "text": [
      "100%|██████████| 439/439 [03:07<00:00,  2.34it/s]\n",
      "100%|██████████| 244/244 [00:19<00:00, 12.63it/s]\n"
     ]
    },
    {
     "name": "stdout",
     "output_type": "stream",
     "text": [
      "Epoch : 20 \n",
      "train_loss : 0.212356, \tTrain_acc : 0.916875, \n",
      "Val_loss : 0.287951, \tVal_acc : 0.893579\n"
     ]
    },
    {
     "name": "stderr",
     "output_type": "stream",
     "text": [
      "100%|██████████| 439/439 [03:04<00:00,  2.38it/s]\n",
      "100%|██████████| 244/244 [00:19<00:00, 12.83it/s]\n"
     ]
    },
    {
     "name": "stdout",
     "output_type": "stream",
     "text": [
      "Epoch : 21 \n",
      "train_loss : 0.210057, \tTrain_acc : 0.919430, \n",
      "Val_loss : 0.289895, \tVal_acc : 0.885792\n"
     ]
    },
    {
     "name": "stderr",
     "output_type": "stream",
     "text": [
      "100%|██████████| 439/439 [03:03<00:00,  2.39it/s]\n",
      "100%|██████████| 244/244 [00:19<00:00, 12.61it/s]\n"
     ]
    },
    {
     "name": "stdout",
     "output_type": "stream",
     "text": [
      "Epoch : 22 \n",
      "train_loss : 0.211507, \tTrain_acc : 0.917561, \n",
      "Val_loss : 0.275149, \tVal_acc : 0.894808\n",
      "Validation loss decreased from (0.286978 --> 0.275149).\n",
      "Saving model ...\n"
     ]
    },
    {
     "name": "stderr",
     "output_type": "stream",
     "text": [
      "100%|██████████| 439/439 [03:02<00:00,  2.41it/s]\n",
      "100%|██████████| 244/244 [00:19<00:00, 12.32it/s]\n"
     ]
    },
    {
     "name": "stdout",
     "output_type": "stream",
     "text": [
      "Epoch : 23 \n",
      "train_loss : 0.206052, \tTrain_acc : 0.919589, \n",
      "Val_loss : 0.292720, \tVal_acc : 0.883333\n"
     ]
    },
    {
     "name": "stderr",
     "output_type": "stream",
     "text": [
      "100%|██████████| 439/439 [03:02<00:00,  2.40it/s]\n",
      "100%|██████████| 244/244 [00:18<00:00, 12.92it/s]\n"
     ]
    },
    {
     "name": "stdout",
     "output_type": "stream",
     "text": [
      "Epoch : 24 \n",
      "train_loss : 0.205012, \tTrain_acc : 0.919178, \n",
      "Val_loss : 0.285381, \tVal_acc : 0.893306\n"
     ]
    },
    {
     "name": "stderr",
     "output_type": "stream",
     "text": [
      "100%|██████████| 439/439 [03:04<00:00,  2.37it/s]\n",
      "100%|██████████| 244/244 [00:19<00:00, 12.55it/s]\n"
     ]
    },
    {
     "name": "stdout",
     "output_type": "stream",
     "text": [
      "Epoch : 25 \n",
      "train_loss : 0.203571, \tTrain_acc : 0.919770, \n",
      "Val_loss : 0.281936, \tVal_acc : 0.891120\n"
     ]
    },
    {
     "name": "stderr",
     "output_type": "stream",
     "text": [
      "100%|██████████| 439/439 [03:06<00:00,  2.35it/s]\n",
      "100%|██████████| 244/244 [00:19<00:00, 12.40it/s]\n"
     ]
    },
    {
     "name": "stdout",
     "output_type": "stream",
     "text": [
      "Epoch : 26 \n",
      "train_loss : 0.203104, \tTrain_acc : 0.919680, \n",
      "Val_loss : 0.282455, \tVal_acc : 0.896858\n"
     ]
    },
    {
     "name": "stderr",
     "output_type": "stream",
     "text": [
      "100%|██████████| 439/439 [03:05<00:00,  2.37it/s]\n",
      "100%|██████████| 244/244 [00:19<00:00, 12.34it/s]\n"
     ]
    },
    {
     "name": "stdout",
     "output_type": "stream",
     "text": [
      "Epoch : 27 \n",
      "train_loss : 0.191586, \tTrain_acc : 0.926490, \n",
      "Val_loss : 0.277502, \tVal_acc : 0.895218\n"
     ]
    },
    {
     "name": "stderr",
     "output_type": "stream",
     "text": [
      "100%|██████████| 439/439 [03:06<00:00,  2.35it/s]\n",
      "100%|██████████| 244/244 [00:20<00:00, 12.15it/s]\n"
     ]
    },
    {
     "name": "stdout",
     "output_type": "stream",
     "text": [
      "Epoch : 28 \n",
      "train_loss : 0.192017, \tTrain_acc : 0.925057, \n",
      "Val_loss : 0.274516, \tVal_acc : 0.900956\n",
      "Validation loss decreased from (0.275149 --> 0.274516).\n",
      "Saving model ...\n"
     ]
    },
    {
     "name": "stderr",
     "output_type": "stream",
     "text": [
      "100%|██████████| 439/439 [03:03<00:00,  2.39it/s]\n",
      "100%|██████████| 244/244 [00:20<00:00, 11.97it/s]\n"
     ]
    },
    {
     "name": "stdout",
     "output_type": "stream",
     "text": [
      "Epoch : 29 \n",
      "train_loss : 0.191745, \tTrain_acc : 0.925784, \n",
      "Val_loss : 0.277521, \tVal_acc : 0.891940\n"
     ]
    },
    {
     "name": "stderr",
     "output_type": "stream",
     "text": [
      "100%|██████████| 439/439 [03:05<00:00,  2.37it/s]\n",
      "100%|██████████| 244/244 [00:19<00:00, 12.35it/s]\n"
     ]
    },
    {
     "name": "stdout",
     "output_type": "stream",
     "text": [
      "Epoch : 30 \n",
      "train_loss : 0.187887, \tTrain_acc : 0.926833, \n",
      "Val_loss : 0.281219, \tVal_acc : 0.891120\n"
     ]
    },
    {
     "name": "stderr",
     "output_type": "stream",
     "text": [
      "100%|██████████| 439/439 [03:04<00:00,  2.37it/s]\n",
      "100%|██████████| 244/244 [00:19<00:00, 12.68it/s]\n"
     ]
    },
    {
     "name": "stdout",
     "output_type": "stream",
     "text": [
      "Epoch : 31 \n",
      "train_loss : 0.188979, \tTrain_acc : 0.925581, \n",
      "Val_loss : 0.278435, \tVal_acc : 0.891530\n"
     ]
    },
    {
     "name": "stderr",
     "output_type": "stream",
     "text": [
      "100%|██████████| 439/439 [03:05<00:00,  2.36it/s]\n",
      "100%|██████████| 244/244 [00:19<00:00, 12.73it/s]\n"
     ]
    },
    {
     "name": "stdout",
     "output_type": "stream",
     "text": [
      "Epoch : 32 \n",
      "train_loss : 0.188800, \tTrain_acc : 0.926651, \n",
      "Val_loss : 0.277974, \tVal_acc : 0.894808\n"
     ]
    },
    {
     "name": "stderr",
     "output_type": "stream",
     "text": [
      "100%|██████████| 439/439 [03:03<00:00,  2.39it/s]\n",
      "100%|██████████| 244/244 [00:19<00:00, 12.48it/s]\n"
     ]
    },
    {
     "name": "stdout",
     "output_type": "stream",
     "text": [
      "Epoch : 33 \n",
      "train_loss : 0.188623, \tTrain_acc : 0.925969, \n",
      "Val_loss : 0.269324, \tVal_acc : 0.890710\n",
      "Validation loss decreased from (0.274516 --> 0.269324).\n",
      "Saving model ...\n"
     ]
    },
    {
     "name": "stderr",
     "output_type": "stream",
     "text": [
      "100%|██████████| 439/439 [03:06<00:00,  2.35it/s]\n",
      "100%|██████████| 244/244 [00:20<00:00, 11.93it/s]\n"
     ]
    },
    {
     "name": "stdout",
     "output_type": "stream",
     "text": [
      "Epoch : 34 \n",
      "train_loss : 0.188660, \tTrain_acc : 0.927356, \n",
      "Val_loss : 0.271316, \tVal_acc : 0.898087\n"
     ]
    },
    {
     "name": "stderr",
     "output_type": "stream",
     "text": [
      "100%|██████████| 439/439 [03:07<00:00,  2.34it/s]\n",
      "100%|██████████| 244/244 [00:19<00:00, 12.25it/s]\n"
     ]
    },
    {
     "name": "stdout",
     "output_type": "stream",
     "text": [
      "Epoch : 35 \n",
      "train_loss : 0.189335, \tTrain_acc : 0.927039, \n",
      "Val_loss : 0.285238, \tVal_acc : 0.892759\n"
     ]
    },
    {
     "name": "stderr",
     "output_type": "stream",
     "text": [
      "100%|██████████| 439/439 [03:02<00:00,  2.40it/s]\n",
      "100%|██████████| 244/244 [00:20<00:00, 11.88it/s]\n"
     ]
    },
    {
     "name": "stdout",
     "output_type": "stream",
     "text": [
      "Epoch : 36 \n",
      "train_loss : 0.187450, \tTrain_acc : 0.927631, \n",
      "Val_loss : 0.273646, \tVal_acc : 0.893989\n"
     ]
    },
    {
     "name": "stderr",
     "output_type": "stream",
     "text": [
      "100%|██████████| 439/439 [03:06<00:00,  2.35it/s]\n",
      "100%|██████████| 244/244 [00:19<00:00, 12.49it/s]\n"
     ]
    },
    {
     "name": "stdout",
     "output_type": "stream",
     "text": [
      "Epoch : 37 \n",
      "train_loss : 0.186823, \tTrain_acc : 0.928495, \n",
      "Val_loss : 0.283341, \tVal_acc : 0.893169\n"
     ]
    },
    {
     "name": "stderr",
     "output_type": "stream",
     "text": [
      "100%|██████████| 439/439 [03:05<00:00,  2.36it/s]\n",
      "100%|██████████| 244/244 [00:19<00:00, 12.79it/s]\n"
     ]
    },
    {
     "name": "stdout",
     "output_type": "stream",
     "text": [
      "Epoch : 38 \n",
      "train_loss : 0.186716, \tTrain_acc : 0.928063, \n",
      "Val_loss : 0.287956, \tVal_acc : 0.893989\n"
     ]
    },
    {
     "name": "stderr",
     "output_type": "stream",
     "text": [
      "100%|██████████| 439/439 [03:04<00:00,  2.38it/s]\n",
      "100%|██████████| 244/244 [00:19<00:00, 12.27it/s]\n"
     ]
    },
    {
     "name": "stdout",
     "output_type": "stream",
     "text": [
      "Epoch : 39 \n",
      "train_loss : 0.185889, \tTrain_acc : 0.928222, \n",
      "Val_loss : 0.281166, \tVal_acc : 0.893169\n"
     ]
    },
    {
     "name": "stderr",
     "output_type": "stream",
     "text": [
      "100%|██████████| 439/439 [03:06<00:00,  2.36it/s]\n",
      "100%|██████████| 244/244 [00:20<00:00, 12.17it/s]\n"
     ]
    },
    {
     "name": "stdout",
     "output_type": "stream",
     "text": [
      "Epoch : 40 \n",
      "train_loss : 0.189026, \tTrain_acc : 0.927722, \n",
      "Val_loss : 0.276926, \tVal_acc : 0.897267\n"
     ]
    },
    {
     "name": "stderr",
     "output_type": "stream",
     "text": [
      "100%|██████████| 439/439 [03:04<00:00,  2.38it/s]\n",
      "100%|██████████| 244/244 [00:20<00:00, 12.06it/s]\n"
     ]
    },
    {
     "name": "stdout",
     "output_type": "stream",
     "text": [
      "Epoch : 41 \n",
      "train_loss : 0.184577, \tTrain_acc : 0.928976, \n",
      "Val_loss : 0.273778, \tVal_acc : 0.895628\n"
     ]
    },
    {
     "name": "stderr",
     "output_type": "stream",
     "text": [
      "100%|██████████| 439/439 [03:04<00:00,  2.38it/s]\n",
      "100%|██████████| 244/244 [00:19<00:00, 12.54it/s]"
     ]
    },
    {
     "name": "stdout",
     "output_type": "stream",
     "text": [
      "Epoch : 42 \n",
      "train_loss : 0.188965, \tTrain_acc : 0.926354, \n",
      "Val_loss : 0.286462, \tVal_acc : 0.891940\n"
     ]
    },
    {
     "name": "stderr",
     "output_type": "stream",
     "text": [
      "\n"
     ]
    }
   ],
   "source": [
    "model = Res_Inception(3,4)\n",
    "criterion = nn.CrossEntropyLoss()\n",
    "optimizer = torch.optim.Adam(model.parameters(), lr=0.001)\n",
    "schedular = torch.optim.lr_scheduler.ReduceLROnPlateau(optimizer, factor=0.1, patience=3)\n",
    "\n",
    "epochs = 50\n",
    "val_loss_min = np.Inf\n",
    "max_e = 10\n",
    "\n",
    "# 模型存放路径\n",
    "model_path = os.path.join('./model')\n",
    "name = \"InceptionV3\"\n",
    "model = model.to(DEVICE)\n",
    "for epoch in range(epochs):\n",
    "\n",
    "    train_loss = 0.0\n",
    "    val_loss = 0.0\n",
    "    train_acc = 0.0\n",
    "    val_acc = 0.0\n",
    "\n",
    "    model.train()\n",
    "    for images,labels in tqdm(train_loader):\n",
    "        optimizer.zero_grad()\n",
    "        images = images.to(DEVICE)\n",
    "        labels = labels.to(DEVICE)\n",
    "        preds = model(images)\n",
    "        loss = criterion(preds, labels)\n",
    "        loss.backward()\n",
    "        optimizer.step()\n",
    "\n",
    "        train_loss += loss.item()\n",
    "        train_acc += accuracy(preds, labels)\n",
    "\n",
    "    avg_train_loss = train_loss / len(train_loader)\n",
    "    avg_train_acc = train_acc / len(train_loader)\n",
    "\n",
    "    model.eval()\n",
    "    with torch.no_grad():\n",
    "        for images,labels in tqdm(val_loader):\n",
    "            images = images.to(DEVICE)\n",
    "            labels = labels.to(DEVICE)\n",
    "\n",
    "            preds = model(images)\n",
    "            loss = criterion(preds, labels)\n",
    "            val_loss += loss.item()\n",
    "            val_acc += accuracy(preds, labels)\n",
    "\n",
    "        avg_val_loss = val_loss / len(val_loader)\n",
    "        avg_val_acc = val_acc / len(val_loader)\n",
    "\n",
    "    schedular.step(avg_val_loss)\n",
    "\n",
    "    print(\"Epoch : {} \\ntrain_loss : {:.6f}, \\tTrain_acc : {:.6f}, \\nVal_loss : {:.6f}, \\tVal_acc : {:.6f}\".format(epoch + 1,\n",
    "                                                                                                                   avg_train_loss, avg_train_acc,\n",
    "                                                                                                                   avg_val_loss, avg_val_acc))\n",
    "    if avg_val_loss <= val_loss_min:\n",
    "        print('Validation loss decreased from ({:.6f} --> {:.6f}).\\nSaving model ...'.format(val_loss_min, avg_val_loss))\n",
    "        torch.save(model,os.path.join(model_path,f\"{name}.pth\"))\n",
    "        val_loss_min = avg_val_loss\n",
    "        max_e = 10\n",
    "    max_e -= 1\n",
    "    if max_e<=0:\n",
    "        break\n"
   ]
  },
  {
   "cell_type": "code",
   "execution_count": 6,
   "metadata": {},
   "outputs": [
    {
     "data": {
      "text/plain": [
       "0.2693238788146953"
      ]
     },
     "execution_count": 6,
     "metadata": {},
     "output_type": "execute_result"
    }
   ],
   "source": [
    "val_loss_min"
   ]
  },
  {
   "cell_type": "markdown",
   "metadata": {},
   "source": [
    "### 测试"
   ]
  },
  {
   "cell_type": "code",
   "execution_count": 5,
   "metadata": {
    "tags": []
   },
   "outputs": [
    {
     "name": "stderr",
     "output_type": "stream",
     "text": [
      "100%|██████████| 2706/2706 [00:30<00:00, 89.45it/s] "
     ]
    },
    {
     "name": "stdout",
     "output_type": "stream",
     "text": [
      "Test_loss : 0.254678, \tTest_acc : 0.903178\n",
      "[[ 352    3    7    0]\n",
      " [  12  750   43   57]\n",
      " [   3   68 1118    3]\n",
      " [   0   58    8  224]]\n"
     ]
    },
    {
     "name": "stderr",
     "output_type": "stream",
     "text": [
      "\n"
     ]
    }
   ],
   "source": [
    "name = \"InceptionV3\"\n",
    "model_path = os.path.join('./model')\n",
    "model = torch.load(os.path.join(model_path,f\"{name}.pth\"))\n",
    "model = model.to(DEVICE)\n",
    "criterion = nn.CrossEntropyLoss()\n",
    "\n",
    "# 混淆矩阵\n",
    "M = np.zeros((4,4))\n",
    "with torch.no_grad():\n",
    "    test_loss=0\n",
    "    test_acc=0\n",
    "    for images,labels in tqdm(test_loader):\n",
    "        images = images.to(DEVICE)\n",
    "        labels = labels.to(DEVICE)\n",
    "\n",
    "        preds = model(images)\n",
    "        loss = criterion(preds, labels)\n",
    "        test_loss += loss.item()\n",
    "        test_acc += accuracy(preds, labels)\n",
    "        \n",
    "        M[preds.argmax(),labels[0]]+=1\n",
    "        \n",
    "    avg_test_loss = test_loss / len(test_loader)\n",
    "    avg_test_acc = test_acc / len(test_loader)\n",
    "    print(\"Test_loss : {:.6f}, \\tTest_acc : {:.6f}\".format(avg_test_loss,avg_test_acc))\n",
    "    \n",
    "    M = M.astype(\"int\")\n",
    "    print(M)\n",
    "    "
   ]
  }
 ],
 "metadata": {
  "kernelspec": {
   "display_name": "Python 3 (ipykernel)",
   "language": "python",
   "name": "python3"
  },
  "language_info": {
   "codemirror_mode": {
    "name": "ipython",
    "version": 3
   },
   "file_extension": ".py",
   "mimetype": "text/x-python",
   "name": "python",
   "nbconvert_exporter": "python",
   "pygments_lexer": "ipython3",
   "version": "3.9.15"
  },
  "vscode": {
   "interpreter": {
    "hash": "d9840a8de2b5de678e209fd904f7d6f8e9cbfcc43f84beeb436e5d7726cf947f"
   }
  }
 },
 "nbformat": 4,
 "nbformat_minor": 4
}
