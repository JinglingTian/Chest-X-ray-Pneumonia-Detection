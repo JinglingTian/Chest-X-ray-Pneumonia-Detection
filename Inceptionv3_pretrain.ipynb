{
 "cells": [
  {
   "cell_type": "code",
   "execution_count": 3,
   "metadata": {
    "_cell_guid": "b1076dfc-b9ad-4769-8c92-a6c4dae69d19",
    "_uuid": "8f2839f25d086af736a60e9eeb907d3b93b6e0e5",
    "tags": []
   },
   "outputs": [
    {
     "data": {
      "text/plain": [
       "device(type='cuda', index=0)"
      ]
     },
     "execution_count": 3,
     "metadata": {},
     "output_type": "execute_result"
    }
   ],
   "source": [
    "import pandas as pd\n",
    "import os\n",
    "import shutil\n",
    "from tqdm import tqdm\n",
    "import torch\n",
    "import torch.nn as nn\n",
    "import numpy as np\n",
    "import torchvision\n",
    "from torchvision import transforms,datasets\n",
    "from torch.utils.data import Dataset,DataLoader,random_split\n",
    "\n",
    "DEVICE = torch.device(\"cuda:0\" if torch.cuda.is_available() else \"cpu\")\n",
    "DEVICE"
   ]
  },
  {
   "cell_type": "markdown",
   "metadata": {},
   "source": [
    "## 数据集：多种肺炎X光图像"
   ]
  },
  {
   "cell_type": "markdown",
   "metadata": {},
   "source": [
    "### 数据集"
   ]
  },
  {
   "cell_type": "code",
   "execution_count": 4,
   "metadata": {
    "tags": []
   },
   "outputs": [
    {
     "data": {
      "text/plain": [
       "(439, 2706, 244)"
      ]
     },
     "execution_count": 4,
     "metadata": {},
     "output_type": "execute_result"
    }
   ],
   "source": [
    "data_dir = \"../data/COVID_Dataset\"\n",
    "TRAIN = 'train'\n",
    "TEST = 'test'\n",
    "VAL = 'val'\n",
    "\n",
    "def apply_transform(mode=None):\n",
    "    size = (299,299)\n",
    "    crop = 299\n",
    "    if mode == 'train':\n",
    "        transform = transforms.Compose([transforms.Resize(size),\n",
    "                               transforms.RandomHorizontalFlip(),\n",
    "                               transforms.RandomRotation((-20,+20)),\n",
    "                               transforms.CenterCrop(crop),\n",
    "                               transforms.ToTensor(),\n",
    "                               transforms.Normalize([0.485, 0.456, 0.406],\n",
    "                                           [0.229, 0.224, 0.225])\n",
    "                              ])\n",
    "\n",
    "    elif mode == 'test' or mode == 'val':\n",
    "        transform = transforms.Compose([transforms.Resize(size),\n",
    "                               transforms.CenterCrop(crop),\n",
    "                               transforms.ToTensor(),\n",
    "                               transforms.Normalize([0.485, 0.456, 0.406],\n",
    "                                           [0.229, 0.224, 0.225])\n",
    "                              ])\n",
    "\n",
    "    return transform\n",
    "\n",
    "trainset = datasets.ImageFolder(os.path.join(data_dir, TRAIN),\n",
    "                                transform = apply_transform(TRAIN))\n",
    "\n",
    "trainset,valset = random_split(trainset,[len(trainset)-int(len(trainset)*0.1),int(len(trainset)*0.1)])\n",
    "\n",
    "testset = datasets.ImageFolder(os.path.join(data_dir, TEST),\n",
    "                               transform = apply_transform(TEST))\n",
    "\n",
    "train_loader = DataLoader(trainset,\n",
    "                          batch_size=50,\n",
    "                          shuffle=True)\n",
    "\n",
    "val_loader = DataLoader(valset,\n",
    "                        batch_size=10)\n",
    "\n",
    "test_loader = DataLoader(testset,\n",
    "                         batch_size=1)\n",
    "\n",
    "len(train_loader),len(test_loader),len(val_loader)\n",
    "\n",
    "\n"
   ]
  },
  {
   "cell_type": "markdown",
   "metadata": {},
   "source": [
    "### 模型"
   ]
  },
  {
   "cell_type": "code",
   "execution_count": 5,
   "metadata": {
    "tags": []
   },
   "outputs": [],
   "source": [
    "def get_deepLavV3(out_ch):\n",
    "    model = torchvision.models.inception_v3(pretrained=True)\n",
    "    # 冻结参数\n",
    "    for param in model.parameters():\n",
    "        param.requires_grad = False\n",
    "    in_features = model.fc.in_features\n",
    "    classifier = nn.Sequential(\n",
    "        nn.Linear(in_features, 4096),\n",
    "        nn.ReLU(inplace=True),\n",
    "        nn.Dropout(0.5),\n",
    "        nn.Linear(4096, 4096),\n",
    "        nn.ReLU(inplace=True),\n",
    "        nn.Dropout(0.5),\n",
    "        nn.Linear(4096, out_ch),\n",
    "        nn.LogSoftmax(dim=1)\n",
    "    )\n",
    "    model.fc = classifier\n",
    "    return model\n",
    "\n",
    "# model = get_deepLavV3(2)\n",
    "# print(model)\n",
    "# x = torch.tensor(np.random.random((2,3,299,299))).float()\n",
    "# y,_ = model(x)\n",
    "# y.shape,_.shape\n"
   ]
  },
  {
   "cell_type": "markdown",
   "metadata": {},
   "source": [
    "### 评价指标"
   ]
  },
  {
   "cell_type": "code",
   "execution_count": 6,
   "metadata": {
    "tags": []
   },
   "outputs": [],
   "source": [
    "def accuracy(preds, labels):\n",
    "    preds = torch.exp(preds)\n",
    "    top_p,top_class = preds.topk(1, dim=1)\n",
    "    equals = top_class == labels.view(*top_class.shape)\n",
    "    return torch.mean(equals.type(torch.FloatTensor))"
   ]
  },
  {
   "cell_type": "markdown",
   "metadata": {},
   "source": [
    "### 冻结训练"
   ]
  },
  {
   "cell_type": "code",
   "execution_count": 5,
   "metadata": {
    "tags": []
   },
   "outputs": [
    {
     "name": "stderr",
     "output_type": "stream",
     "text": [
      "100%|██████████| 439/439 [03:36<00:00,  2.03it/s]\n",
      "100%|██████████| 244/244 [00:24<00:00,  9.87it/s]\n"
     ]
    },
    {
     "name": "stdout",
     "output_type": "stream",
     "text": [
      "Epoch : 1 \n",
      "train_loss : 0.892395, \tTrain_acc : 0.631608, \n",
      "Val_loss : 0.638627, \tVal_acc : 0.755328\n",
      "Validation loss decreased from (inf --> 0.638627).\n",
      "Saving model ...\n"
     ]
    },
    {
     "name": "stderr",
     "output_type": "stream",
     "text": [
      "100%|██████████| 439/439 [03:31<00:00,  2.07it/s]\n",
      "100%|██████████| 244/244 [00:24<00:00,  9.88it/s]\n"
     ]
    },
    {
     "name": "stdout",
     "output_type": "stream",
     "text": [
      "Epoch : 2 \n",
      "train_loss : 0.771784, \tTrain_acc : 0.690380, \n",
      "Val_loss : 0.615903, \tVal_acc : 0.778962\n",
      "Validation loss decreased from (0.638627 --> 0.615903).\n",
      "Saving model ...\n"
     ]
    },
    {
     "name": "stderr",
     "output_type": "stream",
     "text": [
      "100%|██████████| 439/439 [03:33<00:00,  2.05it/s]\n",
      "100%|██████████| 244/244 [00:25<00:00,  9.49it/s]\n"
     ]
    },
    {
     "name": "stdout",
     "output_type": "stream",
     "text": [
      "Epoch : 3 \n",
      "train_loss : 0.751810, \tTrain_acc : 0.698488, \n",
      "Val_loss : 0.621691, \tVal_acc : 0.768853\n"
     ]
    },
    {
     "name": "stderr",
     "output_type": "stream",
     "text": [
      "100%|██████████| 439/439 [03:33<00:00,  2.06it/s]\n",
      "100%|██████████| 244/244 [00:24<00:00,  9.93it/s]\n"
     ]
    },
    {
     "name": "stdout",
     "output_type": "stream",
     "text": [
      "Epoch : 4 \n",
      "train_loss : 0.745506, \tTrain_acc : 0.701930, \n",
      "Val_loss : 0.597029, \tVal_acc : 0.763525\n",
      "Validation loss decreased from (0.615903 --> 0.597029).\n",
      "Saving model ...\n"
     ]
    },
    {
     "name": "stderr",
     "output_type": "stream",
     "text": [
      "100%|██████████| 439/439 [03:33<00:00,  2.06it/s]\n",
      "100%|██████████| 244/244 [00:24<00:00,  9.99it/s]\n"
     ]
    },
    {
     "name": "stdout",
     "output_type": "stream",
     "text": [
      "Epoch : 5 \n",
      "train_loss : 0.729769, \tTrain_acc : 0.710654, \n",
      "Val_loss : 0.659505, \tVal_acc : 0.763524\n"
     ]
    },
    {
     "name": "stderr",
     "output_type": "stream",
     "text": [
      "100%|██████████| 439/439 [03:32<00:00,  2.06it/s]\n",
      "100%|██████████| 244/244 [00:24<00:00, 10.00it/s]\n"
     ]
    },
    {
     "name": "stdout",
     "output_type": "stream",
     "text": [
      "Epoch : 6 \n",
      "train_loss : 0.725808, \tTrain_acc : 0.716256, \n",
      "Val_loss : 0.571568, \tVal_acc : 0.782924\n",
      "Validation loss decreased from (0.597029 --> 0.571568).\n",
      "Saving model ...\n"
     ]
    },
    {
     "name": "stderr",
     "output_type": "stream",
     "text": [
      "100%|██████████| 439/439 [03:37<00:00,  2.02it/s]\n",
      "100%|██████████| 244/244 [00:26<00:00,  9.15it/s]\n"
     ]
    },
    {
     "name": "stdout",
     "output_type": "stream",
     "text": [
      "Epoch : 7 \n",
      "train_loss : 0.710236, \tTrain_acc : 0.723113, \n",
      "Val_loss : 0.606835, \tVal_acc : 0.787432\n"
     ]
    },
    {
     "name": "stderr",
     "output_type": "stream",
     "text": [
      "100%|██████████| 439/439 [03:38<00:00,  2.01it/s]\n",
      "100%|██████████| 244/244 [00:24<00:00,  9.85it/s]\n"
     ]
    },
    {
     "name": "stdout",
     "output_type": "stream",
     "text": [
      "Epoch : 8 \n",
      "train_loss : 0.713460, \tTrain_acc : 0.721769, \n",
      "Val_loss : 0.604279, \tVal_acc : 0.790983\n"
     ]
    },
    {
     "name": "stderr",
     "output_type": "stream",
     "text": [
      "100%|██████████| 439/439 [03:34<00:00,  2.05it/s]\n",
      "100%|██████████| 244/244 [00:24<00:00,  9.99it/s]\n"
     ]
    },
    {
     "name": "stdout",
     "output_type": "stream",
     "text": [
      "Epoch : 9 \n",
      "train_loss : 0.708958, \tTrain_acc : 0.719107, \n",
      "Val_loss : 0.645273, \tVal_acc : 0.776776\n"
     ]
    },
    {
     "name": "stderr",
     "output_type": "stream",
     "text": [
      "100%|██████████| 439/439 [03:33<00:00,  2.05it/s]\n",
      "100%|██████████| 244/244 [00:25<00:00,  9.68it/s]\n"
     ]
    },
    {
     "name": "stdout",
     "output_type": "stream",
     "text": [
      "Epoch : 10 \n",
      "train_loss : 0.704067, \tTrain_acc : 0.721496, \n",
      "Val_loss : 0.614827, \tVal_acc : 0.803962\n"
     ]
    },
    {
     "name": "stderr",
     "output_type": "stream",
     "text": [
      "100%|██████████| 439/439 [03:36<00:00,  2.03it/s]\n",
      "100%|██████████| 244/244 [00:24<00:00,  9.80it/s]\n"
     ]
    },
    {
     "name": "stdout",
     "output_type": "stream",
     "text": [
      "Epoch : 11 \n",
      "train_loss : 0.666677, \tTrain_acc : 0.737396, \n",
      "Val_loss : 0.612392, \tVal_acc : 0.803415\n"
     ]
    },
    {
     "name": "stderr",
     "output_type": "stream",
     "text": [
      "100%|██████████| 439/439 [03:37<00:00,  2.02it/s]\n",
      "100%|██████████| 244/244 [00:24<00:00,  9.83it/s]\n"
     ]
    },
    {
     "name": "stdout",
     "output_type": "stream",
     "text": [
      "Epoch : 12 \n",
      "train_loss : 0.647097, \tTrain_acc : 0.747373, \n",
      "Val_loss : 0.616484, \tVal_acc : 0.798497\n"
     ]
    },
    {
     "name": "stderr",
     "output_type": "stream",
     "text": [
      "100%|██████████| 439/439 [03:36<00:00,  2.03it/s]\n",
      "100%|██████████| 244/244 [00:24<00:00,  9.85it/s]\n"
     ]
    },
    {
     "name": "stdout",
     "output_type": "stream",
     "text": [
      "Epoch : 13 \n",
      "train_loss : 0.652059, \tTrain_acc : 0.742089, \n",
      "Val_loss : 0.617157, \tVal_acc : 0.804235\n"
     ]
    },
    {
     "name": "stderr",
     "output_type": "stream",
     "text": [
      "100%|██████████| 439/439 [03:36<00:00,  2.03it/s]\n",
      "100%|██████████| 244/244 [00:24<00:00,  9.91it/s]\n"
     ]
    },
    {
     "name": "stdout",
     "output_type": "stream",
     "text": [
      "Epoch : 14 \n",
      "train_loss : 0.644994, \tTrain_acc : 0.745348, \n",
      "Val_loss : 0.633357, \tVal_acc : 0.795492\n"
     ]
    },
    {
     "name": "stderr",
     "output_type": "stream",
     "text": [
      "100%|██████████| 439/439 [03:34<00:00,  2.05it/s]\n",
      "100%|██████████| 244/244 [00:25<00:00,  9.61it/s]\n"
     ]
    },
    {
     "name": "stdout",
     "output_type": "stream",
     "text": [
      "Epoch : 15 \n",
      "train_loss : 0.636095, \tTrain_acc : 0.750242, \n",
      "Val_loss : 0.628259, \tVal_acc : 0.801776\n"
     ]
    },
    {
     "name": "stderr",
     "output_type": "stream",
     "text": [
      "100%|██████████| 439/439 [03:35<00:00,  2.04it/s]\n",
      "100%|██████████| 244/244 [00:24<00:00,  9.92it/s]\n"
     ]
    },
    {
     "name": "stdout",
     "output_type": "stream",
     "text": [
      "Epoch : 16 \n",
      "train_loss : 0.638637, \tTrain_acc : 0.748992, \n",
      "Val_loss : 0.626239, \tVal_acc : 0.798087\n"
     ]
    },
    {
     "name": "stderr",
     "output_type": "stream",
     "text": [
      "100%|██████████| 439/439 [03:33<00:00,  2.05it/s]\n",
      "100%|██████████| 244/244 [00:24<00:00, 10.13it/s]\n"
     ]
    },
    {
     "name": "stdout",
     "output_type": "stream",
     "text": [
      "Epoch : 17 \n",
      "train_loss : 0.644238, \tTrain_acc : 0.746758, \n",
      "Val_loss : 0.625094, \tVal_acc : 0.803415\n"
     ]
    },
    {
     "name": "stderr",
     "output_type": "stream",
     "text": [
      "100%|██████████| 439/439 [03:36<00:00,  2.03it/s]\n",
      "100%|██████████| 244/244 [00:24<00:00,  9.86it/s]\n"
     ]
    },
    {
     "name": "stdout",
     "output_type": "stream",
     "text": [
      "Epoch : 18 \n",
      "train_loss : 0.649456, \tTrain_acc : 0.742885, \n",
      "Val_loss : 0.629901, \tVal_acc : 0.787432\n"
     ]
    },
    {
     "name": "stderr",
     "output_type": "stream",
     "text": [
      "100%|██████████| 439/439 [03:32<00:00,  2.07it/s]\n",
      "100%|██████████| 244/244 [00:24<00:00,  9.97it/s]\n"
     ]
    },
    {
     "name": "stdout",
     "output_type": "stream",
     "text": [
      "Epoch : 19 \n",
      "train_loss : 0.640824, \tTrain_acc : 0.748060, \n",
      "Val_loss : 0.626428, \tVal_acc : 0.793579\n"
     ]
    },
    {
     "name": "stderr",
     "output_type": "stream",
     "text": [
      "100%|██████████| 439/439 [03:32<00:00,  2.06it/s]\n",
      "100%|██████████| 244/244 [00:24<00:00,  9.83it/s]\n"
     ]
    },
    {
     "name": "stdout",
     "output_type": "stream",
     "text": [
      "Epoch : 20 \n",
      "train_loss : 0.644542, \tTrain_acc : 0.744666, \n",
      "Val_loss : 0.626106, \tVal_acc : 0.800137\n"
     ]
    },
    {
     "name": "stderr",
     "output_type": "stream",
     "text": [
      "100%|██████████| 439/439 [03:34<00:00,  2.05it/s]\n",
      "100%|██████████| 244/244 [00:24<00:00, 10.11it/s]\n"
     ]
    },
    {
     "name": "stdout",
     "output_type": "stream",
     "text": [
      "Epoch : 21 \n",
      "train_loss : 0.637732, \tTrain_acc : 0.749128, \n",
      "Val_loss : 0.625320, \tVal_acc : 0.794399\n"
     ]
    },
    {
     "name": "stderr",
     "output_type": "stream",
     "text": [
      "100%|██████████| 439/439 [03:33<00:00,  2.06it/s]\n",
      "100%|██████████| 244/244 [00:25<00:00,  9.67it/s]\n"
     ]
    },
    {
     "name": "stdout",
     "output_type": "stream",
     "text": [
      "Epoch : 22 \n",
      "train_loss : 0.641133, \tTrain_acc : 0.746668, \n",
      "Val_loss : 0.623771, \tVal_acc : 0.792350\n"
     ]
    },
    {
     "name": "stderr",
     "output_type": "stream",
     "text": [
      "100%|██████████| 439/439 [03:33<00:00,  2.06it/s]\n",
      "100%|██████████| 244/244 [00:23<00:00, 10.24it/s]\n"
     ]
    },
    {
     "name": "stdout",
     "output_type": "stream",
     "text": [
      "Epoch : 23 \n",
      "train_loss : 0.638755, \tTrain_acc : 0.747304, \n",
      "Val_loss : 0.620605, \tVal_acc : 0.797268\n"
     ]
    },
    {
     "name": "stderr",
     "output_type": "stream",
     "text": [
      "100%|██████████| 439/439 [03:32<00:00,  2.06it/s]\n",
      "100%|██████████| 244/244 [00:24<00:00,  9.96it/s]\n"
     ]
    },
    {
     "name": "stdout",
     "output_type": "stream",
     "text": [
      "Epoch : 24 \n",
      "train_loss : 0.644522, \tTrain_acc : 0.745776, \n",
      "Val_loss : 0.627244, \tVal_acc : 0.799727\n"
     ]
    },
    {
     "name": "stderr",
     "output_type": "stream",
     "text": [
      "100%|██████████| 439/439 [03:36<00:00,  2.03it/s]\n",
      "100%|██████████| 244/244 [00:24<00:00, 10.04it/s]"
     ]
    },
    {
     "name": "stdout",
     "output_type": "stream",
     "text": [
      "Epoch : 25 \n",
      "train_loss : 0.636012, \tTrain_acc : 0.748581, \n",
      "Val_loss : 0.628385, \tVal_acc : 0.798087\n"
     ]
    },
    {
     "name": "stderr",
     "output_type": "stream",
     "text": [
      "\n"
     ]
    }
   ],
   "source": [
    "model = get_deepLavV3(4)\n",
    "criterion = nn.CrossEntropyLoss()\n",
    "optimizer = torch.optim.Adam(model.parameters(), lr=0.001)\n",
    "schedular = torch.optim.lr_scheduler.ReduceLROnPlateau(optimizer, factor=0.1, patience=3)\n",
    "\n",
    "epochs = 25\n",
    "val_loss_min = np.Inf\n",
    "max_e = 10\n",
    "\n",
    "# 模型存放路径\n",
    "model_path = os.path.join('./model')\n",
    "name = \"InceptionV3_pre\"\n",
    "model = model.to(DEVICE)\n",
    "for epoch in range(epochs):\n",
    "\n",
    "    train_loss = 0.0\n",
    "    val_loss = 0.0\n",
    "    train_acc = 0.0\n",
    "    val_acc = 0.0\n",
    "\n",
    "    model.train()\n",
    "    for images,labels in tqdm(train_loader):\n",
    "        optimizer.zero_grad()\n",
    "        images = images.to(DEVICE)\n",
    "        labels = labels.to(DEVICE)\n",
    "        preds,_ = model(images)\n",
    "        loss = criterion(preds, labels)\n",
    "        loss.backward()\n",
    "        optimizer.step()\n",
    "\n",
    "        train_loss += loss.item()\n",
    "        train_acc += accuracy(preds, labels)\n",
    "\n",
    "    avg_train_loss = train_loss / len(train_loader)\n",
    "    avg_train_acc = train_acc / len(train_loader)\n",
    "\n",
    "    model.eval()\n",
    "    with torch.no_grad():\n",
    "        for images,labels in tqdm(val_loader):\n",
    "            images = images.to(DEVICE)\n",
    "            labels = labels.to(DEVICE)\n",
    "\n",
    "            preds = model(images)\n",
    "            loss = criterion(preds, labels)\n",
    "            val_loss += loss.item()\n",
    "            val_acc += accuracy(preds, labels)\n",
    "\n",
    "        avg_val_loss = val_loss / len(val_loader)\n",
    "        avg_val_acc = val_acc / len(val_loader)\n",
    "\n",
    "    schedular.step(avg_val_loss)\n",
    "\n",
    "    print(\"Epoch : {} \\ntrain_loss : {:.6f}, \\tTrain_acc : {:.6f}, \\nVal_loss : {:.6f}, \\tVal_acc : {:.6f}\".format(epoch + 1,\n",
    "                                                                                                                   avg_train_loss, avg_train_acc,\n",
    "                                                                                                                   avg_val_loss, avg_val_acc))\n",
    "    if avg_val_loss <= val_loss_min:\n",
    "        print('Validation loss decreased from ({:.6f} --> {:.6f}).\\nSaving model ...'.format(val_loss_min, avg_val_loss))\n",
    "        torch.save(model,os.path.join(model_path,f\"{name}.pth\"))\n",
    "        val_loss_min = avg_val_loss\n",
    "        max_e = 20\n",
    "    max_e -= 1\n",
    "    if max_e<=0:\n",
    "        break\n"
   ]
  },
  {
   "cell_type": "code",
   "execution_count": 6,
   "metadata": {},
   "outputs": [
    {
     "data": {
      "text/plain": [
       "0.5715676234027401"
      ]
     },
     "execution_count": 6,
     "metadata": {},
     "output_type": "execute_result"
    }
   ],
   "source": [
    "val_loss_min"
   ]
  },
  {
   "cell_type": "markdown",
   "metadata": {},
   "source": [
    "### 解冻参数"
   ]
  },
  {
   "cell_type": "code",
   "execution_count": 7,
   "metadata": {},
   "outputs": [],
   "source": [
    "model = torch.load(os.path.join(model_path,f\"{name}.pth\"))\n",
    "\n",
    "for param in model.Mixed_7c.parameters():\n",
    "    param.requires_grad = True\n",
    "for param in model.Mixed_7b.parameters():\n",
    "    param.requires_grad = True\n",
    "for param in model.Mixed_7a.parameters():\n",
    "    param.requires_grad = True\n",
    "\n",
    "# for k,v in model.named_parameters():\n",
    "#     print(f\"{k}: {v.requires_grad}\")\n",
    "# model"
   ]
  },
  {
   "cell_type": "markdown",
   "metadata": {},
   "source": [
    "### finetune"
   ]
  },
  {
   "cell_type": "code",
   "execution_count": 8,
   "metadata": {},
   "outputs": [
    {
     "name": "stderr",
     "output_type": "stream",
     "text": [
      "100%|██████████| 439/439 [03:40<00:00,  1.99it/s]\n",
      "100%|██████████| 244/244 [00:24<00:00, 10.01it/s]\n"
     ]
    },
    {
     "name": "stdout",
     "output_type": "stream",
     "text": [
      "Epoch : 1 \n",
      "train_loss : 0.510907, \tTrain_acc : 0.806536, \n",
      "Val_loss : 0.372776, \tVal_acc : 0.869672\n",
      "Validation loss decreased from (0.571568 --> 0.372776).\n",
      "Saving model ...\n"
     ]
    },
    {
     "name": "stderr",
     "output_type": "stream",
     "text": [
      "100%|██████████| 439/439 [03:41<00:00,  1.98it/s]\n",
      "100%|██████████| 244/244 [00:24<00:00,  9.77it/s]\n"
     ]
    },
    {
     "name": "stdout",
     "output_type": "stream",
     "text": [
      "Epoch : 2 \n",
      "train_loss : 0.386504, \tTrain_acc : 0.854302, \n",
      "Val_loss : 0.359843, \tVal_acc : 0.872131\n",
      "Validation loss decreased from (0.372776 --> 0.359843).\n",
      "Saving model ...\n"
     ]
    },
    {
     "name": "stderr",
     "output_type": "stream",
     "text": [
      "100%|██████████| 439/439 [03:41<00:00,  1.98it/s]\n",
      "100%|██████████| 244/244 [00:23<00:00, 10.37it/s]\n"
     ]
    },
    {
     "name": "stdout",
     "output_type": "stream",
     "text": [
      "Epoch : 3 \n",
      "train_loss : 0.334233, \tTrain_acc : 0.873983, \n",
      "Val_loss : 0.312147, \tVal_acc : 0.899590\n",
      "Validation loss decreased from (0.359843 --> 0.312147).\n",
      "Saving model ...\n"
     ]
    },
    {
     "name": "stderr",
     "output_type": "stream",
     "text": [
      "100%|██████████| 439/439 [03:43<00:00,  1.97it/s]\n",
      "100%|██████████| 244/244 [00:25<00:00,  9.63it/s]\n"
     ]
    },
    {
     "name": "stdout",
     "output_type": "stream",
     "text": [
      "Epoch : 4 \n",
      "train_loss : 0.304362, \tTrain_acc : 0.883734, \n",
      "Val_loss : 0.298153, \tVal_acc : 0.903825\n",
      "Validation loss decreased from (0.312147 --> 0.298153).\n",
      "Saving model ...\n"
     ]
    },
    {
     "name": "stderr",
     "output_type": "stream",
     "text": [
      "100%|██████████| 439/439 [03:42<00:00,  1.97it/s]\n",
      "100%|██████████| 244/244 [00:25<00:00,  9.74it/s]\n"
     ]
    },
    {
     "name": "stdout",
     "output_type": "stream",
     "text": [
      "Epoch : 5 \n",
      "train_loss : 0.279127, \tTrain_acc : 0.893393, \n",
      "Val_loss : 0.302812, \tVal_acc : 0.900409\n"
     ]
    },
    {
     "name": "stderr",
     "output_type": "stream",
     "text": [
      "100%|██████████| 439/439 [03:38<00:00,  2.01it/s]\n",
      "100%|██████████| 244/244 [00:24<00:00,  9.85it/s]\n"
     ]
    },
    {
     "name": "stdout",
     "output_type": "stream",
     "text": [
      "Epoch : 6 \n",
      "train_loss : 0.260283, \tTrain_acc : 0.903664, \n",
      "Val_loss : 0.279971, \tVal_acc : 0.902459\n",
      "Validation loss decreased from (0.298153 --> 0.279971).\n",
      "Saving model ...\n"
     ]
    },
    {
     "name": "stderr",
     "output_type": "stream",
     "text": [
      "100%|██████████| 439/439 [03:38<00:00,  2.01it/s]\n",
      "100%|██████████| 244/244 [00:24<00:00,  9.99it/s]\n"
     ]
    },
    {
     "name": "stdout",
     "output_type": "stream",
     "text": [
      "Epoch : 7 \n",
      "train_loss : 0.243322, \tTrain_acc : 0.910614, \n",
      "Val_loss : 0.285521, \tVal_acc : 0.892213\n"
     ]
    },
    {
     "name": "stderr",
     "output_type": "stream",
     "text": [
      "100%|██████████| 439/439 [03:39<00:00,  2.00it/s]\n",
      "100%|██████████| 244/244 [00:24<00:00,  9.93it/s]\n"
     ]
    },
    {
     "name": "stdout",
     "output_type": "stream",
     "text": [
      "Epoch : 8 \n",
      "train_loss : 0.235160, \tTrain_acc : 0.912276, \n",
      "Val_loss : 0.261607, \tVal_acc : 0.912431\n",
      "Validation loss decreased from (0.279971 --> 0.261607).\n",
      "Saving model ...\n"
     ]
    },
    {
     "name": "stderr",
     "output_type": "stream",
     "text": [
      "100%|██████████| 439/439 [03:41<00:00,  1.98it/s]\n",
      "100%|██████████| 244/244 [00:25<00:00,  9.66it/s]\n"
     ]
    },
    {
     "name": "stdout",
     "output_type": "stream",
     "text": [
      "Epoch : 9 \n",
      "train_loss : 0.217291, \tTrain_acc : 0.921320, \n",
      "Val_loss : 0.275865, \tVal_acc : 0.903824\n"
     ]
    },
    {
     "name": "stderr",
     "output_type": "stream",
     "text": [
      "100%|██████████| 439/439 [03:38<00:00,  2.01it/s]\n",
      "100%|██████████| 244/244 [00:22<00:00, 10.81it/s]\n"
     ]
    },
    {
     "name": "stdout",
     "output_type": "stream",
     "text": [
      "Epoch : 10 \n",
      "train_loss : 0.214269, \tTrain_acc : 0.922687, \n",
      "Val_loss : 0.264187, \tVal_acc : 0.902049\n"
     ]
    },
    {
     "name": "stderr",
     "output_type": "stream",
     "text": [
      "100%|██████████| 439/439 [03:37<00:00,  2.02it/s]\n",
      "100%|██████████| 244/244 [00:23<00:00, 10.22it/s]\n"
     ]
    },
    {
     "name": "stdout",
     "output_type": "stream",
     "text": [
      "Epoch : 11 \n",
      "train_loss : 0.200284, \tTrain_acc : 0.926855, \n",
      "Val_loss : 0.268917, \tVal_acc : 0.903688\n"
     ]
    },
    {
     "name": "stderr",
     "output_type": "stream",
     "text": [
      "100%|██████████| 439/439 [03:38<00:00,  2.01it/s]\n",
      "100%|██████████| 244/244 [00:24<00:00,  9.91it/s]\n"
     ]
    },
    {
     "name": "stdout",
     "output_type": "stream",
     "text": [
      "Epoch : 12 \n",
      "train_loss : 0.189437, \tTrain_acc : 0.930203, \n",
      "Val_loss : 0.261944, \tVal_acc : 0.902049\n"
     ]
    },
    {
     "name": "stderr",
     "output_type": "stream",
     "text": [
      "100%|██████████| 439/439 [03:37<00:00,  2.02it/s]\n",
      "100%|██████████| 244/244 [00:24<00:00,  9.94it/s]\n"
     ]
    },
    {
     "name": "stdout",
     "output_type": "stream",
     "text": [
      "Epoch : 13 \n",
      "train_loss : 0.155373, \tTrain_acc : 0.943210, \n",
      "Val_loss : 0.222164, \tVal_acc : 0.916803\n",
      "Validation loss decreased from (0.261607 --> 0.222164).\n",
      "Saving model ...\n"
     ]
    },
    {
     "name": "stderr",
     "output_type": "stream",
     "text": [
      "100%|██████████| 439/439 [03:36<00:00,  2.02it/s]\n",
      "100%|██████████| 244/244 [00:24<00:00,  9.91it/s]\n"
     ]
    },
    {
     "name": "stdout",
     "output_type": "stream",
     "text": [
      "Epoch : 14 \n",
      "train_loss : 0.143409, \tTrain_acc : 0.948998, \n",
      "Val_loss : 0.227652, \tVal_acc : 0.917213\n"
     ]
    },
    {
     "name": "stderr",
     "output_type": "stream",
     "text": [
      "100%|██████████| 439/439 [03:39<00:00,  2.00it/s]\n",
      "100%|██████████| 244/244 [00:22<00:00, 10.91it/s]\n"
     ]
    },
    {
     "name": "stdout",
     "output_type": "stream",
     "text": [
      "Epoch : 15 \n",
      "train_loss : 0.134754, \tTrain_acc : 0.951754, \n",
      "Val_loss : 0.207232, \tVal_acc : 0.923360\n",
      "Validation loss decreased from (0.222164 --> 0.207232).\n",
      "Saving model ...\n"
     ]
    },
    {
     "name": "stderr",
     "output_type": "stream",
     "text": [
      "100%|██████████| 439/439 [03:41<00:00,  1.98it/s]\n",
      "100%|██████████| 244/244 [00:25<00:00,  9.65it/s]\n"
     ]
    },
    {
     "name": "stdout",
     "output_type": "stream",
     "text": [
      "Epoch : 16 \n",
      "train_loss : 0.129776, \tTrain_acc : 0.952593, \n",
      "Val_loss : 0.212084, \tVal_acc : 0.921311\n"
     ]
    },
    {
     "name": "stderr",
     "output_type": "stream",
     "text": [
      "100%|██████████| 439/439 [03:38<00:00,  2.01it/s]\n",
      "100%|██████████| 244/244 [00:24<00:00,  9.88it/s]\n"
     ]
    },
    {
     "name": "stdout",
     "output_type": "stream",
     "text": [
      "Epoch : 17 \n",
      "train_loss : 0.126873, \tTrain_acc : 0.953736, \n",
      "Val_loss : 0.220106, \tVal_acc : 0.915574\n"
     ]
    },
    {
     "name": "stderr",
     "output_type": "stream",
     "text": [
      "100%|██████████| 439/439 [03:38<00:00,  2.01it/s]\n",
      "100%|██████████| 244/244 [00:25<00:00,  9.75it/s]\n"
     ]
    },
    {
     "name": "stdout",
     "output_type": "stream",
     "text": [
      "Epoch : 18 \n",
      "train_loss : 0.123282, \tTrain_acc : 0.955810, \n",
      "Val_loss : 0.206184, \tVal_acc : 0.924180\n",
      "Validation loss decreased from (0.207232 --> 0.206184).\n",
      "Saving model ...\n"
     ]
    },
    {
     "name": "stderr",
     "output_type": "stream",
     "text": [
      "100%|██████████| 439/439 [03:33<00:00,  2.06it/s]\n",
      "100%|██████████| 244/244 [00:22<00:00, 10.68it/s]\n"
     ]
    },
    {
     "name": "stdout",
     "output_type": "stream",
     "text": [
      "Epoch : 19 \n",
      "train_loss : 0.118195, \tTrain_acc : 0.956880, \n",
      "Val_loss : 0.218737, \tVal_acc : 0.915573\n"
     ]
    },
    {
     "name": "stderr",
     "output_type": "stream",
     "text": [
      "100%|██████████| 439/439 [03:35<00:00,  2.03it/s]\n",
      "100%|██████████| 244/244 [00:25<00:00,  9.72it/s]\n"
     ]
    },
    {
     "name": "stdout",
     "output_type": "stream",
     "text": [
      "Epoch : 20 \n",
      "train_loss : 0.112436, \tTrain_acc : 0.958429, \n",
      "Val_loss : 0.216738, \tVal_acc : 0.918442\n"
     ]
    },
    {
     "name": "stderr",
     "output_type": "stream",
     "text": [
      "100%|██████████| 439/439 [03:40<00:00,  1.99it/s]\n",
      "100%|██████████| 244/244 [00:24<00:00, 10.05it/s]\n"
     ]
    },
    {
     "name": "stdout",
     "output_type": "stream",
     "text": [
      "Epoch : 21 \n",
      "train_loss : 0.107837, \tTrain_acc : 0.962301, \n",
      "Val_loss : 0.207267, \tVal_acc : 0.912705\n"
     ]
    },
    {
     "name": "stderr",
     "output_type": "stream",
     "text": [
      "100%|██████████| 439/439 [03:39<00:00,  2.00it/s]\n",
      "100%|██████████| 244/244 [00:24<00:00,  9.86it/s]\n"
     ]
    },
    {
     "name": "stdout",
     "output_type": "stream",
     "text": [
      "Epoch : 22 \n",
      "train_loss : 0.109104, \tTrain_acc : 0.961047, \n",
      "Val_loss : 0.204716, \tVal_acc : 0.922131\n",
      "Validation loss decreased from (0.206184 --> 0.204716).\n",
      "Saving model ...\n"
     ]
    },
    {
     "name": "stderr",
     "output_type": "stream",
     "text": [
      "100%|██████████| 439/439 [03:35<00:00,  2.04it/s]\n",
      "100%|██████████| 244/244 [00:24<00:00,  9.79it/s]\n"
     ]
    },
    {
     "name": "stdout",
     "output_type": "stream",
     "text": [
      "Epoch : 23 \n",
      "train_loss : 0.103188, \tTrain_acc : 0.961800, \n",
      "Val_loss : 0.199904, \tVal_acc : 0.924590\n",
      "Validation loss decreased from (0.204716 --> 0.199904).\n",
      "Saving model ...\n"
     ]
    },
    {
     "name": "stderr",
     "output_type": "stream",
     "text": [
      "100%|██████████| 439/439 [03:34<00:00,  2.04it/s]\n",
      "100%|██████████| 244/244 [00:25<00:00,  9.70it/s]\n"
     ]
    },
    {
     "name": "stdout",
     "output_type": "stream",
     "text": [
      "Epoch : 24 \n",
      "train_loss : 0.101842, \tTrain_acc : 0.964146, \n",
      "Val_loss : 0.188753, \tVal_acc : 0.925819\n",
      "Validation loss decreased from (0.199904 --> 0.188753).\n",
      "Saving model ...\n"
     ]
    },
    {
     "name": "stderr",
     "output_type": "stream",
     "text": [
      "100%|██████████| 439/439 [03:38<00:00,  2.01it/s]\n",
      "100%|██████████| 244/244 [00:24<00:00, 10.17it/s]"
     ]
    },
    {
     "name": "stdout",
     "output_type": "stream",
     "text": [
      "Epoch : 25 \n",
      "train_loss : 0.101155, \tTrain_acc : 0.963327, \n",
      "Val_loss : 0.199174, \tVal_acc : 0.922131\n"
     ]
    },
    {
     "name": "stderr",
     "output_type": "stream",
     "text": [
      "\n"
     ]
    }
   ],
   "source": [
    "criterion = nn.CrossEntropyLoss()\n",
    "optimizer = torch.optim.Adam(model.parameters(), lr=1e-4)\n",
    "schedular = torch.optim.lr_scheduler.ReduceLROnPlateau(optimizer, factor=0.1, patience=3)\n",
    "\n",
    "epochs =25\n",
    "# val_loss_min = np.Inf\n",
    "max_e = 10\n",
    "\n",
    "name = \"InceptionV3_pre_finetune\"\n",
    "model = model.to(DEVICE)\n",
    "for epoch in range(epochs):\n",
    "\n",
    "    train_loss = 0.0\n",
    "    val_loss = 0.0\n",
    "    train_acc = 0.0\n",
    "    val_acc = 0.0\n",
    "\n",
    "    model.train()\n",
    "    for images,labels in tqdm(train_loader):\n",
    "        optimizer.zero_grad()\n",
    "        images = images.to(DEVICE)\n",
    "        labels = labels.to(DEVICE)\n",
    "\n",
    "        preds,_ = model(images)\n",
    "        loss = criterion(preds, labels)\n",
    "        loss.backward()\n",
    "        optimizer.step()\n",
    "\n",
    "        train_loss += loss.item()\n",
    "        train_acc += accuracy(preds, labels)\n",
    "\n",
    "    avg_train_loss = train_loss / len(train_loader)\n",
    "    avg_train_acc = train_acc / len(train_loader)\n",
    "\n",
    "    model.eval()\n",
    "    with torch.no_grad():\n",
    "        for images,labels in tqdm(val_loader):\n",
    "            images = images.to(DEVICE)\n",
    "            labels = labels.to(DEVICE)\n",
    "\n",
    "            preds = model(images)\n",
    "            loss = criterion(preds, labels)\n",
    "            val_loss += loss.item()\n",
    "            val_acc += accuracy(preds, labels)\n",
    "\n",
    "        avg_val_loss = val_loss / len(val_loader)\n",
    "        avg_val_acc = val_acc / len(val_loader)\n",
    "\n",
    "    schedular.step(avg_val_loss)\n",
    "\n",
    "    print(\"Epoch : {} \\ntrain_loss : {:.6f}, \\tTrain_acc : {:.6f}, \\nVal_loss : {:.6f}, \\tVal_acc : {:.6f}\".format(epoch + 1,\n",
    "                                                                                                                   avg_train_loss, avg_train_acc,\n",
    "                                                                                                                   avg_val_loss, avg_val_acc))\n",
    "    if avg_val_loss <= val_loss_min:\n",
    "        print('Validation loss decreased from ({:.6f} --> {:.6f}).\\nSaving model ...'.format(val_loss_min, avg_val_loss))\n",
    "        torch.save(model, os.path.join(model_path,f\"{name}.pth\"))\n",
    "        val_loss_min = avg_val_loss\n",
    "        max_e = 10\n",
    "    max_e -= 1\n",
    "    if max_e<=0:\n",
    "        break\n"
   ]
  },
  {
   "cell_type": "code",
   "execution_count": 9,
   "metadata": {},
   "outputs": [
    {
     "data": {
      "text/plain": [
       "0.18875324098607066"
      ]
     },
     "execution_count": 9,
     "metadata": {},
     "output_type": "execute_result"
    }
   ],
   "source": [
    "val_loss_min"
   ]
  },
  {
   "cell_type": "markdown",
   "metadata": {},
   "source": [
    "### 测试"
   ]
  },
  {
   "cell_type": "code",
   "execution_count": 7,
   "metadata": {
    "tags": []
   },
   "outputs": [
    {
     "name": "stderr",
     "output_type": "stream",
     "text": [
      "100%|██████████| 2706/2706 [01:07<00:00, 39.91it/s]"
     ]
    },
    {
     "name": "stdout",
     "output_type": "stream",
     "text": [
      "Test_loss : 0.198834, \tTest_acc : 0.929047\n",
      "[[ 360    3    3    0]\n",
      " [   4  764   33   22]\n",
      " [   3   65 1132    4]\n",
      " [   0   47    8  258]]\n"
     ]
    },
    {
     "name": "stderr",
     "output_type": "stream",
     "text": [
      "\n"
     ]
    }
   ],
   "source": [
    "name = \"InceptionV3_pre_finetune\"\n",
    "model_path = os.path.join('./model')\n",
    "model = torch.load(os.path.join(model_path,f\"{name}.pth\"))\n",
    "model = model.to(DEVICE)\n",
    "criterion = nn.CrossEntropyLoss()\n",
    "\n",
    "# 混淆矩阵\n",
    "M = np.zeros((4,4))\n",
    "with torch.no_grad():\n",
    "    test_loss=0\n",
    "    test_acc=0\n",
    "    for images,labels in tqdm(test_loader):\n",
    "        images = images.to(DEVICE)\n",
    "        labels = labels.to(DEVICE)\n",
    "\n",
    "        preds = model(images)\n",
    "        loss = criterion(preds, labels)\n",
    "        test_loss += loss.item()\n",
    "        test_acc += accuracy(preds, labels)\n",
    "        \n",
    "        M[preds.argmax(),labels[0]]+=1\n",
    "        \n",
    "    avg_test_loss = test_loss / len(test_loader)\n",
    "    avg_test_acc = test_acc / len(test_loader)\n",
    "    print(\"Test_loss : {:.6f}, \\tTest_acc : {:.6f}\".format(avg_test_loss,avg_test_acc))\n",
    "    \n",
    "    M = M.astype(\"int\")\n",
    "    print(M)\n",
    "    "
   ]
  }
 ],
 "metadata": {
  "kernelspec": {
   "display_name": "Python 3 (ipykernel)",
   "language": "python",
   "name": "python3"
  },
  "language_info": {
   "codemirror_mode": {
    "name": "ipython",
    "version": 3
   },
   "file_extension": ".py",
   "mimetype": "text/x-python",
   "name": "python",
   "nbconvert_exporter": "python",
   "pygments_lexer": "ipython3",
   "version": "3.9.15"
  },
  "vscode": {
   "interpreter": {
    "hash": "d9840a8de2b5de678e209fd904f7d6f8e9cbfcc43f84beeb436e5d7726cf947f"
   }
  }
 },
 "nbformat": 4,
 "nbformat_minor": 4
}
