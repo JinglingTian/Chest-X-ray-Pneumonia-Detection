{
 "cells": [
  {
   "cell_type": "code",
   "execution_count": 1,
   "metadata": {
    "_cell_guid": "b1076dfc-b9ad-4769-8c92-a6c4dae69d19",
    "_uuid": "8f2839f25d086af736a60e9eeb907d3b93b6e0e5",
    "tags": []
   },
   "outputs": [
    {
     "data": {
      "text/plain": [
       "device(type='cuda', index=0)"
      ]
     },
     "execution_count": 1,
     "metadata": {},
     "output_type": "execute_result"
    }
   ],
   "source": [
    "import pandas as pd\n",
    "import os\n",
    "import shutil\n",
    "from tqdm import tqdm\n",
    "import torch\n",
    "import torch.nn as nn\n",
    "import torch.nn.functional as F\n",
    "import numpy as np\n",
    "import torchvision\n",
    "from torchvision import transforms,datasets\n",
    "from torch.utils.data import Dataset,DataLoader,random_split\n",
    "\n",
    "torch.manual_seed(666)\n",
    "torch.cuda.manual_seed(666)\n",
    "DEVICE = torch.device(\"cuda:0\" if torch.cuda.is_available() else \"cpu\")\n",
    "DEVICE"
   ]
  },
  {
   "cell_type": "markdown",
   "metadata": {},
   "source": [
    "## 数据集：多种肺炎X光图像"
   ]
  },
  {
   "cell_type": "markdown",
   "metadata": {},
   "source": [
    "### 数据集"
   ]
  },
  {
   "cell_type": "code",
   "execution_count": 2,
   "metadata": {
    "tags": []
   },
   "outputs": [
    {
     "data": {
      "text/plain": [
       "(439, 2706, 244)"
      ]
     },
     "execution_count": 2,
     "metadata": {},
     "output_type": "execute_result"
    }
   ],
   "source": [
    "data_dir = \"../data/COVID_Dataset\"\n",
    "TRAIN = 'train'\n",
    "TEST = 'test'\n",
    "VAL = 'val'\n",
    "\n",
    "def apply_transform(mode=None):\n",
    "    size = (299,299)\n",
    "    crop = 299\n",
    "    if mode == 'train':\n",
    "        transform = transforms.Compose([transforms.Resize(size),\n",
    "                               transforms.RandomHorizontalFlip(),\n",
    "                               transforms.RandomRotation((-20,+20)),\n",
    "                               transforms.CenterCrop(crop),\n",
    "                               transforms.ToTensor(),\n",
    "                               transforms.Normalize([0.485, 0.456, 0.406],\n",
    "                                           [0.229, 0.224, 0.225])\n",
    "                              ])\n",
    "\n",
    "    elif mode == 'test' or mode == 'val':\n",
    "        transform = transforms.Compose([transforms.Resize(size),\n",
    "                               transforms.CenterCrop(crop),\n",
    "                               transforms.ToTensor(),\n",
    "                               transforms.Normalize([0.485, 0.456, 0.406],\n",
    "                                           [0.229, 0.224, 0.225])\n",
    "                              ])\n",
    "\n",
    "    return transform\n",
    "\n",
    "trainset = datasets.ImageFolder(os.path.join(data_dir, TRAIN),\n",
    "                                transform = apply_transform(TRAIN))\n",
    "\n",
    "trainset,valset = random_split(trainset,[len(trainset)-int(len(trainset)*0.1),int(len(trainset)*0.1)])\n",
    "\n",
    "testset = datasets.ImageFolder(os.path.join(data_dir, TEST),\n",
    "                               transform = apply_transform(TEST))\n",
    "\n",
    "train_loader = DataLoader(trainset,\n",
    "                          batch_size=50,\n",
    "                          shuffle=True)\n",
    "\n",
    "val_loader = DataLoader(valset,\n",
    "                        batch_size=10)\n",
    "\n",
    "test_loader = DataLoader(testset,\n",
    "                         batch_size=1)\n",
    "\n",
    "len(train_loader),len(test_loader),len(val_loader)\n",
    "\n",
    "\n"
   ]
  },
  {
   "cell_type": "markdown",
   "metadata": {},
   "source": [
    "### 模型"
   ]
  },
  {
   "cell_type": "code",
   "execution_count": 3,
   "metadata": {
    "tags": []
   },
   "outputs": [],
   "source": [
    "# Inception 残差块\n",
    "class Residual(nn.Module):\n",
    "    def __init__(self,in_channels,out_channels,inception,kernel_size=(1,1),stride=1,padding=0) -> None:\n",
    "        super().__init__()\n",
    "        self.conv1 = nn.Conv2d(in_channels,out_channels,kernel_size=kernel_size,stride=stride,padding=padding)\n",
    "        self.inception = inception\n",
    "    def forward(self,x):\n",
    "        conv = self.conv1(x)\n",
    "        y = self.inception(x)\n",
    "        out = F.relu(conv+y)\n",
    "        return out\n",
    "\n",
    "def get_deepLavV3(out_ch):\n",
    "    model = torchvision.models.inception_v3(pretrained=True)\n",
    "    # 在每个Inception层 添加残差\n",
    "    model.Mixed_5b = Residual(192,256,model.Mixed_5b)\n",
    "    model.Mixed_5c = Residual(256,288,model.Mixed_5c)\n",
    "    model.Mixed_5d = Residual(288,288,model.Mixed_5d)\n",
    "    model.Mixed_6a = Residual(288,768,model.Mixed_6a,(5,5),2,1)\n",
    "    model.Mixed_6b = Residual(768,768,model.Mixed_6b)\n",
    "    model.Mixed_6c = Residual(768,768,model.Mixed_6c)\n",
    "    model.Mixed_6d = Residual(768,768,model.Mixed_6d)\n",
    "    model.Mixed_6e = Residual(768,768,model.Mixed_6e)\n",
    "    model.Mixed_7a = Residual(768,1280,model.Mixed_7a,(5,5),2,1)\n",
    "    model.Mixed_7b = Residual(1280,2048,model.Mixed_7b)\n",
    "    model.Mixed_7c = Residual(2048,2048,model.Mixed_7c)\n",
    "\n",
    "    # 冻结参数\n",
    "    for param in model.parameters():\n",
    "        param.requires_grad = False\n",
    "    # 改全连接层\n",
    "    in_features = model.fc.in_features\n",
    "    classifier = nn.Sequential(\n",
    "        nn.Linear(in_features, 4096),\n",
    "        nn.ReLU(inplace=True),\n",
    "        nn.Dropout(0.5),\n",
    "        nn.Linear(4096, 4096),\n",
    "        nn.ReLU(inplace=True),\n",
    "        nn.Dropout(0.5),\n",
    "        nn.Linear(4096, out_ch),\n",
    "        nn.LogSoftmax(dim=1)\n",
    "    )\n",
    "    model.fc = classifier\n",
    "    return model\n",
    "\n",
    "# model = get_deepLavV3(2)\n",
    "# print(model)\n",
    "# x = torch.tensor(np.random.random((2,3,299,299))).float()\n",
    "# y,_ = model(x)\n",
    "# y.shape,_.shape\n"
   ]
  },
  {
   "cell_type": "markdown",
   "metadata": {},
   "source": [
    "### 评价指标"
   ]
  },
  {
   "cell_type": "code",
   "execution_count": 4,
   "metadata": {
    "tags": []
   },
   "outputs": [],
   "source": [
    "def accuracy(preds, labels):\n",
    "    preds = torch.exp(preds)\n",
    "    top_p,top_class = preds.topk(1, dim=1)\n",
    "    equals = top_class == labels.view(*top_class.shape)\n",
    "    return torch.mean(equals.type(torch.FloatTensor))"
   ]
  },
  {
   "cell_type": "markdown",
   "metadata": {},
   "source": [
    "### 冻结训练"
   ]
  },
  {
   "cell_type": "code",
   "execution_count": 5,
   "metadata": {
    "tags": []
   },
   "outputs": [
    {
     "name": "stderr",
     "output_type": "stream",
     "text": [
      "Downloading: \"https://download.pytorch.org/models/inception_v3_google-0cc3c7bd.pth\" to /home/featurize/.cache/torch/hub/checkpoints/inception_v3_google-0cc3c7bd.pth\n"
     ]
    },
    {
     "data": {
      "application/vnd.jupyter.widget-view+json": {
       "model_id": "080fafde230441499a2488865d1f7ae0",
       "version_major": 2,
       "version_minor": 0
      },
      "text/plain": [
       "  0%|          | 0.00/104M [00:00<?, ?B/s]"
      ]
     },
     "metadata": {},
     "output_type": "display_data"
    },
    {
     "name": "stderr",
     "output_type": "stream",
     "text": [
      "100%|██████████| 439/439 [03:27<00:00,  2.12it/s]\n",
      "100%|██████████| 244/244 [00:24<00:00,  9.90it/s]\n"
     ]
    },
    {
     "name": "stdout",
     "output_type": "stream",
     "text": [
      "Epoch : 1 \n",
      "train_loss : 1.130528, \tTrain_acc : 0.519214, \n",
      "Val_loss : 0.981015, \tVal_acc : 0.617213\n",
      "Validation loss decreased from (inf --> 0.981015).\n",
      "Saving model ...\n"
     ]
    },
    {
     "name": "stderr",
     "output_type": "stream",
     "text": [
      "100%|██████████| 439/439 [03:28<00:00,  2.10it/s]\n",
      "100%|██████████| 244/244 [00:24<00:00, 10.05it/s]\n"
     ]
    },
    {
     "name": "stdout",
     "output_type": "stream",
     "text": [
      "Epoch : 2 \n",
      "train_loss : 1.044887, \tTrain_acc : 0.559582, \n",
      "Val_loss : 0.945682, \tVal_acc : 0.628006\n",
      "Validation loss decreased from (0.981015 --> 0.945682).\n",
      "Saving model ...\n"
     ]
    },
    {
     "name": "stderr",
     "output_type": "stream",
     "text": [
      "100%|██████████| 439/439 [03:25<00:00,  2.14it/s]\n",
      "100%|██████████| 244/244 [00:24<00:00, 10.12it/s]\n"
     ]
    },
    {
     "name": "stdout",
     "output_type": "stream",
     "text": [
      "Epoch : 3 \n",
      "train_loss : 1.016349, \tTrain_acc : 0.571699, \n",
      "Val_loss : 0.917051, \tVal_acc : 0.640984\n",
      "Validation loss decreased from (0.945682 --> 0.917051).\n",
      "Saving model ...\n"
     ]
    },
    {
     "name": "stderr",
     "output_type": "stream",
     "text": [
      "100%|██████████| 439/439 [03:29<00:00,  2.09it/s]\n",
      "100%|██████████| 244/244 [00:23<00:00, 10.17it/s]\n"
     ]
    },
    {
     "name": "stdout",
     "output_type": "stream",
     "text": [
      "Epoch : 4 \n",
      "train_loss : 1.008985, \tTrain_acc : 0.575774, \n",
      "Val_loss : 0.976752, \tVal_acc : 0.625136\n"
     ]
    },
    {
     "name": "stderr",
     "output_type": "stream",
     "text": [
      "100%|██████████| 439/439 [03:27<00:00,  2.11it/s]\n",
      "100%|██████████| 244/244 [00:23<00:00, 10.27it/s]\n"
     ]
    },
    {
     "name": "stdout",
     "output_type": "stream",
     "text": [
      "Epoch : 5 \n",
      "train_loss : 1.001285, \tTrain_acc : 0.580743, \n",
      "Val_loss : 0.902815, \tVal_acc : 0.647268\n",
      "Validation loss decreased from (0.917051 --> 0.902815).\n",
      "Saving model ...\n"
     ]
    },
    {
     "name": "stderr",
     "output_type": "stream",
     "text": [
      "100%|██████████| 439/439 [03:23<00:00,  2.15it/s]\n",
      "100%|██████████| 244/244 [00:23<00:00, 10.27it/s]\n"
     ]
    },
    {
     "name": "stdout",
     "output_type": "stream",
     "text": [
      "Epoch : 6 \n",
      "train_loss : 0.991850, \tTrain_acc : 0.580696, \n",
      "Val_loss : 0.920465, \tVal_acc : 0.649590\n"
     ]
    },
    {
     "name": "stderr",
     "output_type": "stream",
     "text": [
      "100%|██████████| 439/439 [03:25<00:00,  2.14it/s]\n",
      "100%|██████████| 244/244 [00:23<00:00, 10.49it/s]\n"
     ]
    },
    {
     "name": "stdout",
     "output_type": "stream",
     "text": [
      "Epoch : 7 \n",
      "train_loss : 0.993904, \tTrain_acc : 0.583271, \n",
      "Val_loss : 0.921895, \tVal_acc : 0.649590\n"
     ]
    },
    {
     "name": "stderr",
     "output_type": "stream",
     "text": [
      "100%|██████████| 439/439 [03:26<00:00,  2.13it/s]\n",
      "100%|██████████| 244/244 [00:23<00:00, 10.36it/s]\n"
     ]
    },
    {
     "name": "stdout",
     "output_type": "stream",
     "text": [
      "Epoch : 8 \n",
      "train_loss : 0.992066, \tTrain_acc : 0.585112, \n",
      "Val_loss : 0.919057, \tVal_acc : 0.659016\n"
     ]
    },
    {
     "name": "stderr",
     "output_type": "stream",
     "text": [
      "100%|██████████| 439/439 [03:24<00:00,  2.15it/s]\n",
      "100%|██████████| 244/244 [00:24<00:00, 10.05it/s]\n"
     ]
    },
    {
     "name": "stdout",
     "output_type": "stream",
     "text": [
      "Epoch : 9 \n",
      "train_loss : 0.987968, \tTrain_acc : 0.584800, \n",
      "Val_loss : 0.897197, \tVal_acc : 0.663661\n",
      "Validation loss decreased from (0.902815 --> 0.897197).\n",
      "Saving model ...\n"
     ]
    },
    {
     "name": "stderr",
     "output_type": "stream",
     "text": [
      "100%|██████████| 439/439 [03:27<00:00,  2.11it/s]\n",
      "100%|██████████| 244/244 [00:23<00:00, 10.58it/s]\n"
     ]
    },
    {
     "name": "stdout",
     "output_type": "stream",
     "text": [
      "Epoch : 10 \n",
      "train_loss : 0.979910, \tTrain_acc : 0.588596, \n",
      "Val_loss : 0.890320, \tVal_acc : 0.661885\n",
      "Validation loss decreased from (0.897197 --> 0.890320).\n",
      "Saving model ...\n"
     ]
    },
    {
     "name": "stderr",
     "output_type": "stream",
     "text": [
      "100%|██████████| 439/439 [03:23<00:00,  2.16it/s]\n",
      "100%|██████████| 244/244 [00:24<00:00, 10.06it/s]\n"
     ]
    },
    {
     "name": "stdout",
     "output_type": "stream",
     "text": [
      "Epoch : 11 \n",
      "train_loss : 0.977702, \tTrain_acc : 0.590375, \n",
      "Val_loss : 0.902381, \tVal_acc : 0.672541\n"
     ]
    },
    {
     "name": "stderr",
     "output_type": "stream",
     "text": [
      "100%|██████████| 439/439 [03:22<00:00,  2.17it/s]\n",
      "100%|██████████| 244/244 [00:23<00:00, 10.41it/s]\n"
     ]
    },
    {
     "name": "stdout",
     "output_type": "stream",
     "text": [
      "Epoch : 12 \n",
      "train_loss : 0.979777, \tTrain_acc : 0.583773, \n",
      "Val_loss : 0.939931, \tVal_acc : 0.682787\n"
     ]
    },
    {
     "name": "stderr",
     "output_type": "stream",
     "text": [
      "100%|██████████| 439/439 [03:29<00:00,  2.09it/s]\n",
      "100%|██████████| 244/244 [00:23<00:00, 10.18it/s]\n"
     ]
    },
    {
     "name": "stdout",
     "output_type": "stream",
     "text": [
      "Epoch : 13 \n",
      "train_loss : 0.979406, \tTrain_acc : 0.589375, \n",
      "Val_loss : 0.911889, \tVal_acc : 0.643033\n"
     ]
    },
    {
     "name": "stderr",
     "output_type": "stream",
     "text": [
      "100%|██████████| 439/439 [03:21<00:00,  2.18it/s]\n",
      "100%|██████████| 244/244 [00:23<00:00, 10.41it/s]\n"
     ]
    },
    {
     "name": "stdout",
     "output_type": "stream",
     "text": [
      "Epoch : 14 \n",
      "train_loss : 0.979113, \tTrain_acc : 0.592266, \n",
      "Val_loss : 0.959644, \tVal_acc : 0.646311\n"
     ]
    },
    {
     "name": "stderr",
     "output_type": "stream",
     "text": [
      "100%|██████████| 439/439 [03:24<00:00,  2.15it/s]\n",
      "100%|██████████| 244/244 [00:23<00:00, 10.53it/s]\n"
     ]
    },
    {
     "name": "stdout",
     "output_type": "stream",
     "text": [
      "Epoch : 15 \n",
      "train_loss : 0.948419, \tTrain_acc : 0.601788, \n",
      "Val_loss : 0.913864, \tVal_acc : 0.682787\n"
     ]
    },
    {
     "name": "stderr",
     "output_type": "stream",
     "text": [
      "100%|██████████| 439/439 [03:19<00:00,  2.20it/s]\n",
      "100%|██████████| 244/244 [00:22<00:00, 10.91it/s]\n"
     ]
    },
    {
     "name": "stdout",
     "output_type": "stream",
     "text": [
      "Epoch : 16 \n",
      "train_loss : 0.948916, \tTrain_acc : 0.599330, \n",
      "Val_loss : 0.900223, \tVal_acc : 0.681557\n"
     ]
    },
    {
     "name": "stderr",
     "output_type": "stream",
     "text": [
      "100%|██████████| 439/439 [03:21<00:00,  2.18it/s]\n",
      "100%|██████████| 244/244 [00:22<00:00, 10.73it/s]\n"
     ]
    },
    {
     "name": "stdout",
     "output_type": "stream",
     "text": [
      "Epoch : 17 \n",
      "train_loss : 0.948235, \tTrain_acc : 0.600446, \n",
      "Val_loss : 0.918013, \tVal_acc : 0.680464\n"
     ]
    },
    {
     "name": "stderr",
     "output_type": "stream",
     "text": [
      "100%|██████████| 439/439 [03:21<00:00,  2.18it/s]\n",
      "100%|██████████| 244/244 [00:23<00:00, 10.53it/s]\n"
     ]
    },
    {
     "name": "stdout",
     "output_type": "stream",
     "text": [
      "Epoch : 18 \n",
      "train_loss : 0.947002, \tTrain_acc : 0.600857, \n",
      "Val_loss : 0.909396, \tVal_acc : 0.686066\n"
     ]
    },
    {
     "name": "stderr",
     "output_type": "stream",
     "text": [
      "100%|██████████| 439/439 [03:20<00:00,  2.19it/s]\n",
      "100%|██████████| 244/244 [00:23<00:00, 10.49it/s]\n"
     ]
    },
    {
     "name": "stdout",
     "output_type": "stream",
     "text": [
      "Epoch : 19 \n",
      "train_loss : 0.953090, \tTrain_acc : 0.596209, \n",
      "Val_loss : 0.905628, \tVal_acc : 0.687432\n"
     ]
    },
    {
     "name": "stderr",
     "output_type": "stream",
     "text": [
      "100%|██████████| 439/439 [03:19<00:00,  2.20it/s]\n",
      "100%|██████████| 244/244 [00:22<00:00, 10.73it/s]\n"
     ]
    },
    {
     "name": "stdout",
     "output_type": "stream",
     "text": [
      "Epoch : 20 \n",
      "train_loss : 0.945794, \tTrain_acc : 0.602382, \n",
      "Val_loss : 0.907010, \tVal_acc : 0.672268\n"
     ]
    },
    {
     "name": "stderr",
     "output_type": "stream",
     "text": [
      "100%|██████████| 439/439 [03:20<00:00,  2.19it/s]\n",
      "100%|██████████| 244/244 [00:23<00:00, 10.33it/s]\n"
     ]
    },
    {
     "name": "stdout",
     "output_type": "stream",
     "text": [
      "Epoch : 21 \n",
      "train_loss : 0.945022, \tTrain_acc : 0.601628, \n",
      "Val_loss : 0.898196, \tVal_acc : 0.690573\n"
     ]
    },
    {
     "name": "stderr",
     "output_type": "stream",
     "text": [
      "100%|██████████| 439/439 [03:21<00:00,  2.18it/s]\n",
      "100%|██████████| 244/244 [00:23<00:00, 10.57it/s]\n"
     ]
    },
    {
     "name": "stdout",
     "output_type": "stream",
     "text": [
      "Epoch : 22 \n",
      "train_loss : 0.944868, \tTrain_acc : 0.602862, \n",
      "Val_loss : 0.900685, \tVal_acc : 0.678825\n"
     ]
    },
    {
     "name": "stderr",
     "output_type": "stream",
     "text": [
      "100%|██████████| 439/439 [03:20<00:00,  2.19it/s]\n",
      "100%|██████████| 244/244 [00:23<00:00, 10.55it/s]\n"
     ]
    },
    {
     "name": "stdout",
     "output_type": "stream",
     "text": [
      "Epoch : 23 \n",
      "train_loss : 0.942678, \tTrain_acc : 0.598603, \n",
      "Val_loss : 0.901195, \tVal_acc : 0.687295\n"
     ]
    },
    {
     "name": "stderr",
     "output_type": "stream",
     "text": [
      "100%|██████████| 439/439 [03:17<00:00,  2.22it/s]\n",
      "100%|██████████| 244/244 [00:23<00:00, 10.59it/s]\n"
     ]
    },
    {
     "name": "stdout",
     "output_type": "stream",
     "text": [
      "Epoch : 24 \n",
      "train_loss : 0.944298, \tTrain_acc : 0.599398, \n",
      "Val_loss : 0.900669, \tVal_acc : 0.677049\n"
     ]
    },
    {
     "name": "stderr",
     "output_type": "stream",
     "text": [
      "100%|██████████| 439/439 [03:21<00:00,  2.18it/s]\n",
      "100%|██████████| 244/244 [00:23<00:00, 10.49it/s]"
     ]
    },
    {
     "name": "stdout",
     "output_type": "stream",
     "text": [
      "Epoch : 25 \n",
      "train_loss : 0.948375, \tTrain_acc : 0.601128, \n",
      "Val_loss : 0.901749, \tVal_acc : 0.683607\n"
     ]
    },
    {
     "name": "stderr",
     "output_type": "stream",
     "text": [
      "\n"
     ]
    }
   ],
   "source": [
    "model = get_deepLavV3(4)\n",
    "criterion = nn.CrossEntropyLoss()\n",
    "optimizer = torch.optim.Adam(model.parameters(), lr=0.001)\n",
    "schedular = torch.optim.lr_scheduler.ReduceLROnPlateau(optimizer, factor=0.1, patience=3)\n",
    "\n",
    "epochs = 25\n",
    "val_loss_min = np.Inf\n",
    "max_e = 10\n",
    "\n",
    "# 模型存放路径\n",
    "model_path = os.path.join('./model')\n",
    "name = \"Res_InceptionV3_pre\"\n",
    "model = model.to(DEVICE)\n",
    "for epoch in range(epochs):\n",
    "\n",
    "    train_loss = 0.0\n",
    "    val_loss = 0.0\n",
    "    train_acc = 0.0\n",
    "    val_acc = 0.0\n",
    "\n",
    "    model.train()\n",
    "    for images,labels in tqdm(train_loader):\n",
    "        optimizer.zero_grad()\n",
    "        images = images.to(DEVICE)\n",
    "        labels = labels.to(DEVICE)\n",
    "        preds,_ = model(images)\n",
    "        loss = criterion(preds, labels)\n",
    "        loss.backward()\n",
    "        optimizer.step()\n",
    "\n",
    "        train_loss += loss.item()\n",
    "        train_acc += accuracy(preds, labels)\n",
    "\n",
    "    avg_train_loss = train_loss / len(train_loader)\n",
    "    avg_train_acc = train_acc / len(train_loader)\n",
    "\n",
    "    model.eval()\n",
    "    with torch.no_grad():\n",
    "        for images,labels in tqdm(val_loader):\n",
    "            images = images.to(DEVICE)\n",
    "            labels = labels.to(DEVICE)\n",
    "\n",
    "            preds = model(images)\n",
    "            loss = criterion(preds, labels)\n",
    "            val_loss += loss.item()\n",
    "            val_acc += accuracy(preds, labels)\n",
    "\n",
    "        avg_val_loss = val_loss / len(val_loader)\n",
    "        avg_val_acc = val_acc / len(val_loader)\n",
    "\n",
    "    schedular.step(avg_val_loss)\n",
    "\n",
    "    print(\"Epoch : {} \\ntrain_loss : {:.6f}, \\tTrain_acc : {:.6f}, \\nVal_loss : {:.6f}, \\tVal_acc : {:.6f}\".format(epoch + 1,\n",
    "                                                                                                                   avg_train_loss, avg_train_acc,\n",
    "                                                                                                                   avg_val_loss, avg_val_acc))\n",
    "    if avg_val_loss <= val_loss_min:\n",
    "        print('Validation loss decreased from ({:.6f} --> {:.6f}).\\nSaving model ...'.format(val_loss_min, avg_val_loss))\n",
    "        torch.save(model,os.path.join(model_path,f\"{name}.pth\"))\n",
    "        val_loss_min = avg_val_loss\n",
    "        max_e = 20\n",
    "    max_e -= 1\n",
    "    if max_e<=0:\n",
    "        break\n"
   ]
  },
  {
   "cell_type": "code",
   "execution_count": 6,
   "metadata": {},
   "outputs": [
    {
     "data": {
      "text/plain": [
       "0.8903199996127457"
      ]
     },
     "execution_count": 6,
     "metadata": {},
     "output_type": "execute_result"
    }
   ],
   "source": [
    "val_loss_min"
   ]
  },
  {
   "cell_type": "markdown",
   "metadata": {},
   "source": [
    "### 解冻参数"
   ]
  },
  {
   "cell_type": "code",
   "execution_count": 7,
   "metadata": {},
   "outputs": [],
   "source": [
    "model = torch.load(os.path.join(model_path,f\"{name}.pth\"))\n",
    "\n",
    "for param in model.parameters():\n",
    "        param.requires_grad = True\n",
    "\n",
    "# for k,v in model.named_parameters():\n",
    "#     print(f\"{k}: {v.requires_grad}\")\n",
    "# model"
   ]
  },
  {
   "cell_type": "markdown",
   "metadata": {},
   "source": [
    "### finetune"
   ]
  },
  {
   "cell_type": "code",
   "execution_count": 8,
   "metadata": {},
   "outputs": [
    {
     "name": "stderr",
     "output_type": "stream",
     "text": [
      "100%|██████████| 439/439 [04:49<00:00,  1.52it/s]\n",
      "100%|██████████| 244/244 [00:23<00:00, 10.59it/s]\n"
     ]
    },
    {
     "name": "stdout",
     "output_type": "stream",
     "text": [
      "Epoch : 1 \n",
      "train_loss : 0.657715, \tTrain_acc : 0.741113, \n",
      "Val_loss : 0.386418, \tVal_acc : 0.873224\n",
      "Validation loss decreased from (0.890320 --> 0.386418).\n",
      "Saving model ...\n"
     ]
    },
    {
     "name": "stderr",
     "output_type": "stream",
     "text": [
      "100%|██████████| 439/439 [04:45<00:00,  1.54it/s]\n",
      "100%|██████████| 244/244 [00:23<00:00, 10.40it/s]\n"
     ]
    },
    {
     "name": "stdout",
     "output_type": "stream",
     "text": [
      "Epoch : 2 \n",
      "train_loss : 0.392956, \tTrain_acc : 0.857103, \n",
      "Val_loss : 0.372892, \tVal_acc : 0.864208\n",
      "Validation loss decreased from (0.386418 --> 0.372892).\n",
      "Saving model ...\n"
     ]
    },
    {
     "name": "stderr",
     "output_type": "stream",
     "text": [
      "100%|██████████| 439/439 [04:46<00:00,  1.53it/s]\n",
      "100%|██████████| 244/244 [00:24<00:00, 10.15it/s]\n"
     ]
    },
    {
     "name": "stdout",
     "output_type": "stream",
     "text": [
      "Epoch : 3 \n",
      "train_loss : 0.308455, \tTrain_acc : 0.886991, \n",
      "Val_loss : 0.280242, \tVal_acc : 0.900136\n",
      "Validation loss decreased from (0.372892 --> 0.280242).\n",
      "Saving model ...\n"
     ]
    },
    {
     "name": "stderr",
     "output_type": "stream",
     "text": [
      "100%|██████████| 439/439 [04:44<00:00,  1.54it/s]\n",
      "100%|██████████| 244/244 [00:22<00:00, 10.66it/s]\n"
     ]
    },
    {
     "name": "stdout",
     "output_type": "stream",
     "text": [
      "Epoch : 4 \n",
      "train_loss : 0.278430, \tTrain_acc : 0.898791, \n",
      "Val_loss : 0.339702, \tVal_acc : 0.872541\n"
     ]
    },
    {
     "name": "stderr",
     "output_type": "stream",
     "text": [
      "100%|██████████| 439/439 [04:47<00:00,  1.53it/s]\n",
      "100%|██████████| 244/244 [00:23<00:00, 10.31it/s]\n"
     ]
    },
    {
     "name": "stdout",
     "output_type": "stream",
     "text": [
      "Epoch : 5 \n",
      "train_loss : 0.259536, \tTrain_acc : 0.906217, \n",
      "Val_loss : 0.256560, \tVal_acc : 0.901776\n",
      "Validation loss decreased from (0.280242 --> 0.256560).\n",
      "Saving model ...\n"
     ]
    },
    {
     "name": "stderr",
     "output_type": "stream",
     "text": [
      "100%|██████████| 439/439 [04:46<00:00,  1.53it/s]\n",
      "100%|██████████| 244/244 [00:23<00:00, 10.51it/s]\n"
     ]
    },
    {
     "name": "stdout",
     "output_type": "stream",
     "text": [
      "Epoch : 6 \n",
      "train_loss : 0.238317, \tTrain_acc : 0.913075, \n",
      "Val_loss : 0.258006, \tVal_acc : 0.908606\n"
     ]
    },
    {
     "name": "stderr",
     "output_type": "stream",
     "text": [
      "100%|██████████| 439/439 [04:49<00:00,  1.52it/s]\n",
      "100%|██████████| 244/244 [00:23<00:00, 10.41it/s]\n"
     ]
    },
    {
     "name": "stdout",
     "output_type": "stream",
     "text": [
      "Epoch : 7 \n",
      "train_loss : 0.230541, \tTrain_acc : 0.914439, \n",
      "Val_loss : 0.273416, \tVal_acc : 0.882787\n"
     ]
    },
    {
     "name": "stderr",
     "output_type": "stream",
     "text": [
      "100%|██████████| 439/439 [04:44<00:00,  1.54it/s]\n",
      "100%|██████████| 244/244 [00:22<00:00, 10.65it/s]\n"
     ]
    },
    {
     "name": "stdout",
     "output_type": "stream",
     "text": [
      "Epoch : 8 \n",
      "train_loss : 0.215989, \tTrain_acc : 0.922369, \n",
      "Val_loss : 0.240677, \tVal_acc : 0.915710\n",
      "Validation loss decreased from (0.256560 --> 0.240677).\n",
      "Saving model ...\n"
     ]
    },
    {
     "name": "stderr",
     "output_type": "stream",
     "text": [
      "100%|██████████| 439/439 [04:48<00:00,  1.52it/s]\n",
      "100%|██████████| 244/244 [00:23<00:00, 10.17it/s]\n"
     ]
    },
    {
     "name": "stdout",
     "output_type": "stream",
     "text": [
      "Epoch : 9 \n",
      "train_loss : 0.203246, \tTrain_acc : 0.925216, \n",
      "Val_loss : 0.207783, \tVal_acc : 0.923360\n",
      "Validation loss decreased from (0.240677 --> 0.207783).\n",
      "Saving model ...\n"
     ]
    },
    {
     "name": "stderr",
     "output_type": "stream",
     "text": [
      "100%|██████████| 439/439 [04:47<00:00,  1.53it/s]\n",
      "100%|██████████| 244/244 [00:24<00:00, 10.16it/s]\n"
     ]
    },
    {
     "name": "stdout",
     "output_type": "stream",
     "text": [
      "Epoch : 10 \n",
      "train_loss : 0.192066, \tTrain_acc : 0.927331, \n",
      "Val_loss : 0.242928, \tVal_acc : 0.910109\n"
     ]
    },
    {
     "name": "stderr",
     "output_type": "stream",
     "text": [
      "100%|██████████| 439/439 [04:51<00:00,  1.51it/s]\n",
      "100%|██████████| 244/244 [00:23<00:00, 10.50it/s]\n"
     ]
    },
    {
     "name": "stdout",
     "output_type": "stream",
     "text": [
      "Epoch : 11 \n",
      "train_loss : 0.180419, \tTrain_acc : 0.932733, \n",
      "Val_loss : 0.330035, \tVal_acc : 0.874454\n"
     ]
    },
    {
     "name": "stderr",
     "output_type": "stream",
     "text": [
      "100%|██████████| 439/439 [04:44<00:00,  1.54it/s]\n",
      "100%|██████████| 244/244 [00:23<00:00, 10.53it/s]\n"
     ]
    },
    {
     "name": "stdout",
     "output_type": "stream",
     "text": [
      "Epoch : 12 \n",
      "train_loss : 0.169766, \tTrain_acc : 0.937450, \n",
      "Val_loss : 0.278304, \tVal_acc : 0.890573\n"
     ]
    },
    {
     "name": "stderr",
     "output_type": "stream",
     "text": [
      "100%|██████████| 439/439 [04:47<00:00,  1.53it/s]\n",
      "100%|██████████| 244/244 [00:23<00:00, 10.40it/s]\n"
     ]
    },
    {
     "name": "stdout",
     "output_type": "stream",
     "text": [
      "Epoch : 13 \n",
      "train_loss : 0.163676, \tTrain_acc : 0.939932, \n",
      "Val_loss : 0.210001, \tVal_acc : 0.924180\n"
     ]
    },
    {
     "name": "stderr",
     "output_type": "stream",
     "text": [
      "100%|██████████| 439/439 [04:51<00:00,  1.51it/s]\n",
      "100%|██████████| 244/244 [00:23<00:00, 10.24it/s]\n"
     ]
    },
    {
     "name": "stdout",
     "output_type": "stream",
     "text": [
      "Epoch : 14 \n",
      "train_loss : 0.111316, \tTrain_acc : 0.958383, \n",
      "Val_loss : 0.168599, \tVal_acc : 0.935655\n",
      "Validation loss decreased from (0.207783 --> 0.168599).\n",
      "Saving model ...\n"
     ]
    },
    {
     "name": "stderr",
     "output_type": "stream",
     "text": [
      "100%|██████████| 439/439 [04:49<00:00,  1.52it/s]\n",
      "100%|██████████| 244/244 [00:23<00:00, 10.58it/s]\n"
     ]
    },
    {
     "name": "stdout",
     "output_type": "stream",
     "text": [
      "Epoch : 15 \n",
      "train_loss : 0.095024, \tTrain_acc : 0.965421, \n",
      "Val_loss : 0.169664, \tVal_acc : 0.933606\n"
     ]
    },
    {
     "name": "stderr",
     "output_type": "stream",
     "text": [
      "100%|██████████| 439/439 [04:51<00:00,  1.50it/s]\n",
      "100%|██████████| 244/244 [00:23<00:00, 10.32it/s]\n"
     ]
    },
    {
     "name": "stdout",
     "output_type": "stream",
     "text": [
      "Epoch : 16 \n",
      "train_loss : 0.088339, \tTrain_acc : 0.968792, \n",
      "Val_loss : 0.169036, \tVal_acc : 0.936065\n"
     ]
    },
    {
     "name": "stderr",
     "output_type": "stream",
     "text": [
      "100%|██████████| 439/439 [04:47<00:00,  1.53it/s]\n",
      "100%|██████████| 244/244 [00:22<00:00, 10.61it/s]\n"
     ]
    },
    {
     "name": "stdout",
     "output_type": "stream",
     "text": [
      "Epoch : 17 \n",
      "train_loss : 0.082164, \tTrain_acc : 0.968839, \n",
      "Val_loss : 0.178194, \tVal_acc : 0.936475\n"
     ]
    },
    {
     "name": "stderr",
     "output_type": "stream",
     "text": [
      "100%|██████████| 439/439 [04:46<00:00,  1.53it/s]\n",
      "100%|██████████| 244/244 [00:23<00:00, 10.47it/s]\n"
     ]
    },
    {
     "name": "stdout",
     "output_type": "stream",
     "text": [
      "Epoch : 18 \n",
      "train_loss : 0.075396, \tTrain_acc : 0.972164, \n",
      "Val_loss : 0.188425, \tVal_acc : 0.939344\n"
     ]
    },
    {
     "name": "stderr",
     "output_type": "stream",
     "text": [
      "100%|██████████| 439/439 [04:47<00:00,  1.53it/s]\n",
      "100%|██████████| 244/244 [00:24<00:00, 10.04it/s]\n"
     ]
    },
    {
     "name": "stdout",
     "output_type": "stream",
     "text": [
      "Epoch : 19 \n",
      "train_loss : 0.068116, \tTrain_acc : 0.975263, \n",
      "Val_loss : 0.183803, \tVal_acc : 0.942622\n"
     ]
    },
    {
     "name": "stderr",
     "output_type": "stream",
     "text": [
      "100%|██████████| 439/439 [04:49<00:00,  1.51it/s]\n",
      "100%|██████████| 244/244 [00:23<00:00, 10.45it/s]\n"
     ]
    },
    {
     "name": "stdout",
     "output_type": "stream",
     "text": [
      "Epoch : 20 \n",
      "train_loss : 0.067052, \tTrain_acc : 0.975582, \n",
      "Val_loss : 0.175005, \tVal_acc : 0.938114\n"
     ]
    },
    {
     "name": "stderr",
     "output_type": "stream",
     "text": [
      "100%|██████████| 439/439 [04:44<00:00,  1.55it/s]\n",
      "100%|██████████| 244/244 [00:23<00:00, 10.29it/s]\n"
     ]
    },
    {
     "name": "stdout",
     "output_type": "stream",
     "text": [
      "Epoch : 21 \n",
      "train_loss : 0.066138, \tTrain_acc : 0.975535, \n",
      "Val_loss : 0.177611, \tVal_acc : 0.938524\n"
     ]
    },
    {
     "name": "stderr",
     "output_type": "stream",
     "text": [
      "100%|██████████| 439/439 [04:50<00:00,  1.51it/s]\n",
      "100%|██████████| 244/244 [00:23<00:00, 10.24it/s]\n"
     ]
    },
    {
     "name": "stdout",
     "output_type": "stream",
     "text": [
      "Epoch : 22 \n",
      "train_loss : 0.063385, \tTrain_acc : 0.977176, \n",
      "Val_loss : 0.180579, \tVal_acc : 0.933606\n"
     ]
    },
    {
     "name": "stderr",
     "output_type": "stream",
     "text": [
      "100%|██████████| 439/439 [04:45<00:00,  1.54it/s]\n",
      "100%|██████████| 244/244 [00:23<00:00, 10.42it/s]"
     ]
    },
    {
     "name": "stdout",
     "output_type": "stream",
     "text": [
      "Epoch : 23 \n",
      "train_loss : 0.062125, \tTrain_acc : 0.977314, \n",
      "Val_loss : 0.179738, \tVal_acc : 0.937704\n"
     ]
    },
    {
     "name": "stderr",
     "output_type": "stream",
     "text": [
      "\n"
     ]
    }
   ],
   "source": [
    "criterion = nn.CrossEntropyLoss()\n",
    "optimizer = torch.optim.Adam(model.parameters(), lr=1e-4)\n",
    "schedular = torch.optim.lr_scheduler.ReduceLROnPlateau(optimizer, factor=0.1, patience=3)\n",
    "\n",
    "epochs =50\n",
    "# val_loss_min = np.Inf\n",
    "max_e = 10\n",
    "\n",
    "name = \"Res_InceptionV3_pre\"\n",
    "model = model.to(DEVICE)\n",
    "for epoch in range(epochs):\n",
    "\n",
    "    train_loss = 0.0\n",
    "    val_loss = 0.0\n",
    "    train_acc = 0.0\n",
    "    val_acc = 0.0\n",
    "\n",
    "    model.train()\n",
    "    for images,labels in tqdm(train_loader):\n",
    "        optimizer.zero_grad()\n",
    "        images = images.to(DEVICE)\n",
    "        labels = labels.to(DEVICE)\n",
    "\n",
    "        preds,_ = model(images)\n",
    "        loss = criterion(preds, labels)\n",
    "        loss.backward()\n",
    "        optimizer.step()\n",
    "\n",
    "        train_loss += loss.item()\n",
    "        train_acc += accuracy(preds, labels)\n",
    "\n",
    "    avg_train_loss = train_loss / len(train_loader)\n",
    "    avg_train_acc = train_acc / len(train_loader)\n",
    "\n",
    "    model.eval()\n",
    "    with torch.no_grad():\n",
    "        for images,labels in tqdm(val_loader):\n",
    "            images = images.to(DEVICE)\n",
    "            labels = labels.to(DEVICE)\n",
    "\n",
    "            preds = model(images)\n",
    "            loss = criterion(preds, labels)\n",
    "            val_loss += loss.item()\n",
    "            val_acc += accuracy(preds, labels)\n",
    "\n",
    "        avg_val_loss = val_loss / len(val_loader)\n",
    "        avg_val_acc = val_acc / len(val_loader)\n",
    "\n",
    "    schedular.step(avg_val_loss)\n",
    "\n",
    "    print(\"Epoch : {} \\ntrain_loss : {:.6f}, \\tTrain_acc : {:.6f}, \\nVal_loss : {:.6f}, \\tVal_acc : {:.6f}\".format(epoch + 1,\n",
    "                                                                                                                   avg_train_loss, avg_train_acc,\n",
    "                                                                                                                   avg_val_loss, avg_val_acc))\n",
    "    if avg_val_loss <= val_loss_min:\n",
    "        print('Validation loss decreased from ({:.6f} --> {:.6f}).\\nSaving model ...'.format(val_loss_min, avg_val_loss))\n",
    "        torch.save(model, os.path.join(model_path,f\"{name}.pth\"))\n",
    "        val_loss_min = avg_val_loss\n",
    "        max_e = 10\n",
    "    max_e -= 1\n",
    "    if max_e<=0:\n",
    "        break\n"
   ]
  },
  {
   "cell_type": "code",
   "execution_count": 9,
   "metadata": {},
   "outputs": [
    {
     "data": {
      "text/plain": [
       "0.16859943654195436"
      ]
     },
     "execution_count": 9,
     "metadata": {},
     "output_type": "execute_result"
    }
   ],
   "source": [
    "val_loss_min"
   ]
  },
  {
   "cell_type": "markdown",
   "metadata": {},
   "source": [
    "### 测试"
   ]
  },
  {
   "cell_type": "code",
   "execution_count": 7,
   "metadata": {
    "tags": []
   },
   "outputs": [
    {
     "name": "stderr",
     "output_type": "stream",
     "text": [
      "100%|██████████| 2706/2706 [01:10<00:00, 38.60it/s]"
     ]
    },
    {
     "name": "stdout",
     "output_type": "stream",
     "text": [
      "Test_loss : 0.160139, \tTest_acc : 0.942720\n",
      "[[ 362    4    2    0]\n",
      " [   1  798   29   28]\n",
      " [   3   35 1137    2]\n",
      " [   1   42    8  254]]\n"
     ]
    },
    {
     "name": "stderr",
     "output_type": "stream",
     "text": [
      "\n"
     ]
    }
   ],
   "source": [
    "name = \"Res_InceptionV3_pre\"\n",
    "model_path = os.path.join('./model')\n",
    "model = torch.load(os.path.join(model_path,f\"{name}.pth\"))\n",
    "model = model.to(DEVICE)\n",
    "criterion = nn.CrossEntropyLoss()\n",
    "\n",
    "# 混淆矩阵\n",
    "M = np.zeros((4,4))\n",
    "with torch.no_grad():\n",
    "    test_loss=0\n",
    "    test_acc=0\n",
    "    for images,labels in tqdm(test_loader):\n",
    "        images = images.to(DEVICE)\n",
    "        labels = labels.to(DEVICE)\n",
    "\n",
    "        preds = model(images)\n",
    "        loss = criterion(preds, labels)\n",
    "        test_loss += loss.item()\n",
    "        test_acc += accuracy(preds, labels)\n",
    "        \n",
    "        M[preds.argmax(),labels[0]]+=1\n",
    "        \n",
    "    avg_test_loss = test_loss / len(test_loader)\n",
    "    avg_test_acc = test_acc / len(test_loader)\n",
    "    print(\"Test_loss : {:.6f}, \\tTest_acc : {:.6f}\".format(avg_test_loss,avg_test_acc))\n",
    "    \n",
    "    M = M.astype(\"int\")\n",
    "    print(M)\n",
    "    "
   ]
  }
 ],
 "metadata": {
  "kernelspec": {
   "display_name": "Python 3 (ipykernel)",
   "language": "python",
   "name": "python3"
  },
  "language_info": {
   "codemirror_mode": {
    "name": "ipython",
    "version": 3
   },
   "file_extension": ".py",
   "mimetype": "text/x-python",
   "name": "python",
   "nbconvert_exporter": "python",
   "pygments_lexer": "ipython3",
   "version": "3.9.15"
  },
  "vscode": {
   "interpreter": {
    "hash": "d9840a8de2b5de678e209fd904f7d6f8e9cbfcc43f84beeb436e5d7726cf947f"
   }
  }
 },
 "nbformat": 4,
 "nbformat_minor": 4
}
