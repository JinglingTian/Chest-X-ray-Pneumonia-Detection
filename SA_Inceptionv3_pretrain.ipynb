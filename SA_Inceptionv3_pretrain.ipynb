{
 "cells": [
  {
   "cell_type": "code",
   "execution_count": 1,
   "metadata": {
    "_cell_guid": "b1076dfc-b9ad-4769-8c92-a6c4dae69d19",
    "_uuid": "8f2839f25d086af736a60e9eeb907d3b93b6e0e5",
    "tags": []
   },
   "outputs": [
    {
     "data": {
      "text/plain": [
       "device(type='cuda', index=0)"
      ]
     },
     "execution_count": 1,
     "metadata": {},
     "output_type": "execute_result"
    }
   ],
   "source": [
    "import pandas as pd\n",
    "import os\n",
    "import shutil\n",
    "from tqdm import tqdm\n",
    "import torch\n",
    "import torch.nn as nn\n",
    "import numpy as np\n",
    "import torchvision\n",
    "from torchvision import transforms,datasets\n",
    "from torch.utils.data import Dataset,DataLoader,random_split\n",
    "from torch.nn.parameter import Parameter\n",
    "\n",
    "torch.manual_seed(666)\n",
    "torch.cuda.manual_seed(666)\n",
    "DEVICE = torch.device(\"cuda:0\" if torch.cuda.is_available() else \"cpu\")\n",
    "DEVICE"
   ]
  },
  {
   "cell_type": "markdown",
   "metadata": {},
   "source": [
    "## 数据集：多种肺炎X光图像"
   ]
  },
  {
   "cell_type": "markdown",
   "metadata": {},
   "source": [
    "### 数据集"
   ]
  },
  {
   "cell_type": "code",
   "execution_count": 2,
   "metadata": {
    "tags": []
   },
   "outputs": [
    {
     "data": {
      "text/plain": [
       "(439, 2706, 244)"
      ]
     },
     "execution_count": 2,
     "metadata": {},
     "output_type": "execute_result"
    }
   ],
   "source": [
    "data_dir = \"./data/COVID_Dataset\"\n",
    "TRAIN = 'train'\n",
    "TEST = 'test'\n",
    "VAL = 'val'\n",
    "\n",
    "def apply_transform(mode=None):\n",
    "    size = (299,299)\n",
    "    crop = 299\n",
    "    if mode == 'train':\n",
    "        transform = transforms.Compose([transforms.Resize(size),\n",
    "                               transforms.RandomHorizontalFlip(),\n",
    "                               transforms.RandomRotation((-20,+20)),\n",
    "                               transforms.CenterCrop(crop),\n",
    "                               transforms.ToTensor(),\n",
    "                               transforms.Normalize([0.485, 0.456, 0.406],\n",
    "                                           [0.229, 0.224, 0.225])\n",
    "                              ])\n",
    "\n",
    "    elif mode == 'test' or mode == 'val':\n",
    "        transform = transforms.Compose([transforms.Resize(size),\n",
    "                               transforms.CenterCrop(crop),\n",
    "                               transforms.ToTensor(),\n",
    "                               transforms.Normalize([0.485, 0.456, 0.406],\n",
    "                                           [0.229, 0.224, 0.225])\n",
    "                              ])\n",
    "\n",
    "    return transform\n",
    "\n",
    "trainset = datasets.ImageFolder(os.path.join(data_dir, TRAIN),\n",
    "                                transform = apply_transform(TRAIN))\n",
    "\n",
    "trainset,valset = random_split(trainset,[len(trainset)-int(len(trainset)*0.1),int(len(trainset)*0.1)])\n",
    "\n",
    "testset = datasets.ImageFolder(os.path.join(data_dir, TEST),\n",
    "                               transform = apply_transform(TEST))\n",
    "\n",
    "train_loader = DataLoader(trainset,\n",
    "                          batch_size=50,\n",
    "                          shuffle=True)\n",
    "\n",
    "val_loader = DataLoader(valset,\n",
    "                        batch_size=10)\n",
    "\n",
    "test_loader = DataLoader(testset,\n",
    "                         batch_size=1)\n",
    "\n",
    "len(train_loader),len(test_loader),len(val_loader)\n",
    "\n",
    "\n"
   ]
  },
  {
   "cell_type": "markdown",
   "metadata": {},
   "source": [
    "### 模型"
   ]
  },
  {
   "cell_type": "code",
   "execution_count": 3,
   "metadata": {
    "tags": []
   },
   "outputs": [],
   "source": [
    "# SA模块\n",
    "class SA_Layer(nn.Module):\n",
    "    def __init__(self,channels,groups=64) -> None:\n",
    "        super().__init__()\n",
    "        self.groups = groups\n",
    "        self.avg_pool = nn.AdaptiveAvgPool2d(1)\n",
    "        self.cweight = Parameter(torch.zeros(1,channels//(2*groups),1,1))\n",
    "        self.cbias = Parameter(torch.ones(1,channels//(2*groups),1,1))\n",
    "        self.sweight = Parameter(torch.zeros(1,channels//(2*groups),1,1))\n",
    "        self.sbias = Parameter(torch.ones(1,channels//(2*groups),1,1))\n",
    "        \n",
    "        self.sigmoid = nn.Sigmoid()\n",
    "        self.gn = nn.GroupNorm(channels//(2*groups),channels//(2*groups))\n",
    "\n",
    "    @staticmethod\n",
    "    def channel_suffle(x,groups):\n",
    "        b,c,h,w = x.shape\n",
    "        # 输入特征图分组\n",
    "        x = x.reshape(b,groups,-1,h,w)\n",
    "        # 洗牌\n",
    "        x = x.permute(0,2,1,3,4)\n",
    "        x = x.reshape(b,-1,h,w)\n",
    "        return x\n",
    "    \n",
    "\n",
    "    def forward(self,x):\n",
    "        b,c,h,w = x.shape\n",
    "        x = x.reshape(b*self.groups,-1,h,w)\n",
    "        x_0, x_1 = x.chunk(2,dim=1)\n",
    "\n",
    "        # 通道注意力\n",
    "        xn = self.avg_pool(x_0)\n",
    "        xn = self.cweight * xn + self.cbias\n",
    "        xn = x_0*self.sigmoid(xn)\n",
    "\n",
    "        # 空间注意力\n",
    "        xs = self.gn(x_1)\n",
    "        xs = self.sweight * xs + self.sbias\n",
    "        xs = x_1*self.sigmoid(xs)\n",
    "\n",
    "        # 在通道维度上拼接\n",
    "        out = torch.cat([xn,xs],dim=1)\n",
    "        out = out.reshape(b,-1,h,w)\n",
    "        out = self.channel_suffle(out,2)\n",
    "\n",
    "        return out\n",
    "\n",
    "\n",
    "# 预训练InceptionV3 + SA\n",
    "def get_deepLavV3(out_ch):\n",
    "    model = torchvision.models.inception_v3(pretrained=True)\n",
    "    # 在每个Inception层后 添加SA\n",
    "    model.Mixed_5d = nn.Sequential(\n",
    "        model.Mixed_5d,\n",
    "        SA_Layer(288,8)\n",
    "    )\n",
    "    model.Mixed_6e = nn.Sequential(\n",
    "        model.Mixed_6e,\n",
    "        SA_Layer(768,64)\n",
    "    )\n",
    "    model.Mixed_7c = nn.Sequential(\n",
    "        model.Mixed_7c,\n",
    "        SA_Layer(2048,128)\n",
    "    )\n",
    "    \n",
    "\n",
    "\n",
    "\n",
    "    # 冻结参数\n",
    "    for param in model.parameters():\n",
    "        param.requires_grad = False\n",
    "\n",
    "\n",
    "    in_features = model.fc.in_features\n",
    "    \n",
    "    # 改全连接层\n",
    "    classifier = nn.Sequential(\n",
    "        nn.Linear(in_features, 4096),\n",
    "        nn.ReLU(inplace=True),\n",
    "        nn.Dropout(0.5),\n",
    "        nn.Linear(4096, 4096),\n",
    "        nn.ReLU(inplace=True),\n",
    "        nn.Dropout(0.5),\n",
    "        nn.Linear(4096, out_ch),\n",
    "        nn.LogSoftmax(dim=1)\n",
    "    )\n",
    "    model.fc = classifier\n",
    "    return model\n",
    "\n",
    "# model = get_deepLavV3(4)\n",
    "# print(model)\n",
    "# x = torch.tensor(np.random.random((2,3,299,299))).float()\n",
    "# y,_ = model(x)\n",
    "# y.shape,_.shape\n"
   ]
  },
  {
   "cell_type": "markdown",
   "metadata": {},
   "source": [
    "### 评价指标"
   ]
  },
  {
   "cell_type": "code",
   "execution_count": 4,
   "metadata": {
    "tags": []
   },
   "outputs": [],
   "source": [
    "def accuracy(preds, labels):\n",
    "    preds = torch.exp(preds)\n",
    "    top_p,top_class = preds.topk(1, dim=1)\n",
    "    equals = top_class == labels.view(*top_class.shape)\n",
    "    return torch.mean(equals.type(torch.FloatTensor))"
   ]
  },
  {
   "cell_type": "markdown",
   "metadata": {},
   "source": [
    "### 冻结训练"
   ]
  },
  {
   "cell_type": "code",
   "execution_count": 5,
   "metadata": {
    "tags": []
   },
   "outputs": [
    {
     "name": "stderr",
     "output_type": "stream",
     "text": [
      "100%|██████████| 439/439 [03:28<00:00,  2.11it/s]\n",
      "100%|██████████| 244/244 [00:24<00:00,  9.94it/s]\n"
     ]
    },
    {
     "name": "stdout",
     "output_type": "stream",
     "text": [
      "Epoch : 1 \n",
      "train_loss : 1.181204, \tTrain_acc : 0.476250, \n",
      "Val_loss : 1.059953, \tVal_acc : 0.571175\n",
      "Validation loss decreased from (inf --> 1.059953).\n",
      "Saving model ...\n"
     ]
    },
    {
     "name": "stderr",
     "output_type": "stream",
     "text": [
      "100%|██████████| 439/439 [03:30<00:00,  2.08it/s]\n",
      "100%|██████████| 244/244 [00:23<00:00, 10.46it/s]\n"
     ]
    },
    {
     "name": "stdout",
     "output_type": "stream",
     "text": [
      "Epoch : 2 \n",
      "train_loss : 1.136686, \tTrain_acc : 0.505663, \n",
      "Val_loss : 1.083311, \tVal_acc : 0.560382\n"
     ]
    },
    {
     "name": "stderr",
     "output_type": "stream",
     "text": [
      "100%|██████████| 439/439 [03:25<00:00,  2.13it/s]\n",
      "100%|██████████| 244/244 [00:22<00:00, 10.99it/s]\n"
     ]
    },
    {
     "name": "stdout",
     "output_type": "stream",
     "text": [
      "Epoch : 3 \n",
      "train_loss : 1.123085, \tTrain_acc : 0.505616, \n",
      "Val_loss : 1.065743, \tVal_acc : 0.543306\n"
     ]
    },
    {
     "name": "stderr",
     "output_type": "stream",
     "text": [
      "100%|██████████| 439/439 [03:25<00:00,  2.14it/s]\n",
      "100%|██████████| 244/244 [00:24<00:00, 10.09it/s]\n"
     ]
    },
    {
     "name": "stdout",
     "output_type": "stream",
     "text": [
      "Epoch : 4 \n",
      "train_loss : 1.111259, \tTrain_acc : 0.512908, \n",
      "Val_loss : 1.031817, \tVal_acc : 0.587295\n",
      "Validation loss decreased from (1.059953 --> 1.031817).\n",
      "Saving model ...\n"
     ]
    },
    {
     "name": "stderr",
     "output_type": "stream",
     "text": [
      "100%|██████████| 439/439 [03:25<00:00,  2.13it/s]\n",
      "100%|██████████| 244/244 [00:23<00:00, 10.39it/s]\n"
     ]
    },
    {
     "name": "stdout",
     "output_type": "stream",
     "text": [
      "Epoch : 5 \n",
      "train_loss : 1.100511, \tTrain_acc : 0.517231, \n",
      "Val_loss : 1.026407, \tVal_acc : 0.597131\n",
      "Validation loss decreased from (1.031817 --> 1.026407).\n",
      "Saving model ...\n"
     ]
    },
    {
     "name": "stderr",
     "output_type": "stream",
     "text": [
      "100%|██████████| 439/439 [03:27<00:00,  2.12it/s]\n",
      "100%|██████████| 244/244 [00:23<00:00, 10.21it/s]\n"
     ]
    },
    {
     "name": "stdout",
     "output_type": "stream",
     "text": [
      "Epoch : 6 \n",
      "train_loss : 1.104783, \tTrain_acc : 0.516185, \n",
      "Val_loss : 1.053353, \tVal_acc : 0.553962\n"
     ]
    },
    {
     "name": "stderr",
     "output_type": "stream",
     "text": [
      "100%|██████████| 439/439 [03:23<00:00,  2.16it/s]\n",
      "100%|██████████| 244/244 [00:23<00:00, 10.27it/s]\n"
     ]
    },
    {
     "name": "stdout",
     "output_type": "stream",
     "text": [
      "Epoch : 7 \n",
      "train_loss : 1.095840, \tTrain_acc : 0.522677, \n",
      "Val_loss : 1.022222, \tVal_acc : 0.591120\n",
      "Validation loss decreased from (1.026407 --> 1.022222).\n",
      "Saving model ...\n"
     ]
    },
    {
     "name": "stderr",
     "output_type": "stream",
     "text": [
      "100%|██████████| 439/439 [03:31<00:00,  2.07it/s]\n",
      "100%|██████████| 244/244 [00:23<00:00, 10.25it/s]\n"
     ]
    },
    {
     "name": "stdout",
     "output_type": "stream",
     "text": [
      "Epoch : 8 \n",
      "train_loss : 1.094567, \tTrain_acc : 0.521470, \n",
      "Val_loss : 1.036007, \tVal_acc : 0.589891\n"
     ]
    },
    {
     "name": "stderr",
     "output_type": "stream",
     "text": [
      "100%|██████████| 439/439 [03:25<00:00,  2.13it/s]\n",
      "100%|██████████| 244/244 [00:22<00:00, 10.75it/s]\n"
     ]
    },
    {
     "name": "stdout",
     "output_type": "stream",
     "text": [
      "Epoch : 9 \n",
      "train_loss : 1.095666, \tTrain_acc : 0.520242, \n",
      "Val_loss : 1.039991, \tVal_acc : 0.593989\n"
     ]
    },
    {
     "name": "stderr",
     "output_type": "stream",
     "text": [
      "100%|██████████| 439/439 [03:24<00:00,  2.15it/s]\n",
      "100%|██████████| 244/244 [00:23<00:00, 10.51it/s]\n"
     ]
    },
    {
     "name": "stdout",
     "output_type": "stream",
     "text": [
      "Epoch : 10 \n",
      "train_loss : 1.095100, \tTrain_acc : 0.523928, \n",
      "Val_loss : 1.040453, \tVal_acc : 0.579372\n"
     ]
    },
    {
     "name": "stderr",
     "output_type": "stream",
     "text": [
      "100%|██████████| 439/439 [03:23<00:00,  2.15it/s]\n",
      "100%|██████████| 244/244 [00:23<00:00, 10.39it/s]\n"
     ]
    },
    {
     "name": "stdout",
     "output_type": "stream",
     "text": [
      "Epoch : 11 \n",
      "train_loss : 1.086179, \tTrain_acc : 0.525753, \n",
      "Val_loss : 0.993801, \tVal_acc : 0.599863\n",
      "Validation loss decreased from (1.022222 --> 0.993801).\n",
      "Saving model ...\n"
     ]
    },
    {
     "name": "stderr",
     "output_type": "stream",
     "text": [
      "100%|██████████| 439/439 [03:26<00:00,  2.12it/s]\n",
      "100%|██████████| 244/244 [00:24<00:00,  9.87it/s]\n"
     ]
    },
    {
     "name": "stdout",
     "output_type": "stream",
     "text": [
      "Epoch : 12 \n",
      "train_loss : 1.082989, \tTrain_acc : 0.532063, \n",
      "Val_loss : 1.034760, \tVal_acc : 0.589344\n"
     ]
    },
    {
     "name": "stderr",
     "output_type": "stream",
     "text": [
      "100%|██████████| 439/439 [03:22<00:00,  2.17it/s]\n",
      "100%|██████████| 244/244 [00:22<00:00, 10.88it/s]\n"
     ]
    },
    {
     "name": "stdout",
     "output_type": "stream",
     "text": [
      "Epoch : 13 \n",
      "train_loss : 1.087267, \tTrain_acc : 0.529011, \n",
      "Val_loss : 1.012582, \tVal_acc : 0.581557\n"
     ]
    },
    {
     "name": "stderr",
     "output_type": "stream",
     "text": [
      "100%|██████████| 439/439 [03:21<00:00,  2.18it/s]\n",
      "100%|██████████| 244/244 [00:22<00:00, 10.65it/s]\n"
     ]
    },
    {
     "name": "stdout",
     "output_type": "stream",
     "text": [
      "Epoch : 14 \n",
      "train_loss : 1.074978, \tTrain_acc : 0.535777, \n",
      "Val_loss : 1.022065, \tVal_acc : 0.605055\n"
     ]
    },
    {
     "name": "stderr",
     "output_type": "stream",
     "text": [
      "100%|██████████| 439/439 [03:25<00:00,  2.13it/s]\n",
      "100%|██████████| 244/244 [00:24<00:00, 10.02it/s]"
     ]
    },
    {
     "name": "stdout",
     "output_type": "stream",
     "text": [
      "Epoch : 15 \n",
      "train_loss : 1.078810, \tTrain_acc : 0.532198, \n",
      "Val_loss : 1.025394, \tVal_acc : 0.609426\n"
     ]
    },
    {
     "name": "stderr",
     "output_type": "stream",
     "text": [
      "\n"
     ]
    }
   ],
   "source": [
    "model = get_deepLavV3(4)\n",
    "criterion = nn.CrossEntropyLoss()\n",
    "optimizer = torch.optim.Adam(model.parameters(), lr=0.001)\n",
    "schedular = torch.optim.lr_scheduler.ReduceLROnPlateau(optimizer, factor=0.1, patience=3)\n",
    "\n",
    "epochs = 15\n",
    "val_loss_min = np.Inf\n",
    "max_e = 10\n",
    "\n",
    "# 模型存放路径\n",
    "model_path = os.path.join('./model')\n",
    "name = \"SA_InceptionV3_pre\"\n",
    "model = model.to(DEVICE)\n",
    "for epoch in range(epochs):\n",
    "\n",
    "    train_loss = 0.0\n",
    "    val_loss = 0.0\n",
    "    train_acc = 0.0\n",
    "    val_acc = 0.0\n",
    "\n",
    "    model.train()\n",
    "    for images,labels in tqdm(train_loader):\n",
    "        optimizer.zero_grad()\n",
    "        images = images.to(DEVICE)\n",
    "        labels = labels.to(DEVICE)\n",
    "        preds,_ = model(images)\n",
    "        loss = criterion(preds, labels)\n",
    "        loss.backward()\n",
    "        optimizer.step()\n",
    "\n",
    "        train_loss += loss.item()\n",
    "        train_acc += accuracy(preds, labels)\n",
    "\n",
    "    avg_train_loss = train_loss / len(train_loader)\n",
    "    avg_train_acc = train_acc / len(train_loader)\n",
    "\n",
    "    model.eval()\n",
    "    with torch.no_grad():\n",
    "        for images,labels in tqdm(val_loader):\n",
    "            images = images.to(DEVICE)\n",
    "            labels = labels.to(DEVICE)\n",
    "\n",
    "            preds = model(images)\n",
    "            loss = criterion(preds, labels)\n",
    "            val_loss += loss.item()\n",
    "            val_acc += accuracy(preds, labels)\n",
    "\n",
    "        avg_val_loss = val_loss / len(val_loader)\n",
    "        avg_val_acc = val_acc / len(val_loader)\n",
    "\n",
    "    schedular.step(avg_val_loss)\n",
    "\n",
    "    print(\"Epoch : {} \\ntrain_loss : {:.6f}, \\tTrain_acc : {:.6f}, \\nVal_loss : {:.6f}, \\tVal_acc : {:.6f}\".format(epoch + 1,\n",
    "                                                                                                                   avg_train_loss, avg_train_acc,\n",
    "                                                                                                                   avg_val_loss, avg_val_acc))\n",
    "    if avg_val_loss <= val_loss_min:\n",
    "        print('Validation loss decreased from ({:.6f} --> {:.6f}).\\nSaving model ...'.format(val_loss_min, avg_val_loss))\n",
    "        torch.save(model,os.path.join(model_path,f\"{name}.pth\"))\n",
    "        val_loss_min = avg_val_loss\n",
    "        max_e = 10\n",
    "    max_e -= 1\n",
    "    if max_e<=0:\n",
    "        break\n"
   ]
  },
  {
   "cell_type": "code",
   "execution_count": 6,
   "metadata": {},
   "outputs": [
    {
     "data": {
      "text/plain": [
       "0.993800625937884"
      ]
     },
     "execution_count": 6,
     "metadata": {},
     "output_type": "execute_result"
    }
   ],
   "source": [
    "val_loss_min"
   ]
  },
  {
   "cell_type": "markdown",
   "metadata": {},
   "source": [
    "### 解冻参数"
   ]
  },
  {
   "cell_type": "code",
   "execution_count": 7,
   "metadata": {},
   "outputs": [],
   "source": [
    "# 载入冻结训练的模型,解冻卷积层参数\n",
    "model_path = os.path.join('./model')\n",
    "name = \"SA_InceptionV3_pre\"\n",
    "model = torch.load(os.path.join(model_path,f\"{name}.pth\"))\n",
    "\n",
    "for param in model.parameters():\n",
    "        param.requires_grad = True\n",
    "\n",
    "# for k,v in model.named_parameters():\n",
    "#     print(f\"{k}: {v.requires_grad}\")\n",
    "# model"
   ]
  },
  {
   "cell_type": "markdown",
   "metadata": {},
   "source": [
    "### finetune"
   ]
  },
  {
   "cell_type": "code",
   "execution_count": 8,
   "metadata": {},
   "outputs": [
    {
     "name": "stderr",
     "output_type": "stream",
     "text": [
      "100%|██████████| 439/439 [04:26<00:00,  1.65it/s]\n",
      "100%|██████████| 244/244 [00:22<00:00, 10.70it/s]\n"
     ]
    },
    {
     "name": "stdout",
     "output_type": "stream",
     "text": [
      "Epoch : 1 \n",
      "train_loss : 0.693221, \tTrain_acc : 0.724438, \n",
      "Val_loss : 0.434616, \tVal_acc : 0.857240\n",
      "Validation loss decreased from (0.993801 --> 0.434616).\n",
      "Saving model ...\n"
     ]
    },
    {
     "name": "stderr",
     "output_type": "stream",
     "text": [
      "100%|██████████| 439/439 [04:20<00:00,  1.69it/s]\n",
      "100%|██████████| 244/244 [00:22<00:00, 10.75it/s]\n"
     ]
    },
    {
     "name": "stdout",
     "output_type": "stream",
     "text": [
      "Epoch : 2 \n",
      "train_loss : 0.405801, \tTrain_acc : 0.850861, \n",
      "Val_loss : 0.355279, \tVal_acc : 0.881284\n",
      "Validation loss decreased from (0.434616 --> 0.355279).\n",
      "Saving model ...\n"
     ]
    },
    {
     "name": "stderr",
     "output_type": "stream",
     "text": [
      "100%|██████████| 439/439 [04:24<00:00,  1.66it/s]\n",
      "100%|██████████| 244/244 [00:23<00:00, 10.25it/s]\n"
     ]
    },
    {
     "name": "stdout",
     "output_type": "stream",
     "text": [
      "Epoch : 3 \n",
      "train_loss : 0.333487, \tTrain_acc : 0.881296, \n",
      "Val_loss : 0.341112, \tVal_acc : 0.887978\n",
      "Validation loss decreased from (0.355279 --> 0.341112).\n",
      "Saving model ...\n"
     ]
    },
    {
     "name": "stderr",
     "output_type": "stream",
     "text": [
      "100%|██████████| 439/439 [04:25<00:00,  1.65it/s]\n",
      "100%|██████████| 244/244 [00:22<00:00, 10.65it/s]\n"
     ]
    },
    {
     "name": "stdout",
     "output_type": "stream",
     "text": [
      "Epoch : 4 \n",
      "train_loss : 0.296845, \tTrain_acc : 0.890795, \n",
      "Val_loss : 0.313671, \tVal_acc : 0.887841\n",
      "Validation loss decreased from (0.341112 --> 0.313671).\n",
      "Saving model ...\n"
     ]
    },
    {
     "name": "stderr",
     "output_type": "stream",
     "text": [
      "100%|██████████| 439/439 [04:25<00:00,  1.65it/s]\n",
      "100%|██████████| 244/244 [00:23<00:00, 10.42it/s]\n"
     ]
    },
    {
     "name": "stdout",
     "output_type": "stream",
     "text": [
      "Epoch : 5 \n",
      "train_loss : 0.262976, \tTrain_acc : 0.903029, \n",
      "Val_loss : 0.272745, \tVal_acc : 0.904644\n",
      "Validation loss decreased from (0.313671 --> 0.272745).\n",
      "Saving model ...\n"
     ]
    },
    {
     "name": "stderr",
     "output_type": "stream",
     "text": [
      "100%|██████████| 439/439 [04:24<00:00,  1.66it/s]\n",
      "100%|██████████| 244/244 [00:22<00:00, 10.78it/s]\n"
     ]
    },
    {
     "name": "stdout",
     "output_type": "stream",
     "text": [
      "Epoch : 6 \n",
      "train_loss : 0.250420, \tTrain_acc : 0.907629, \n",
      "Val_loss : 0.257853, \tVal_acc : 0.912021\n",
      "Validation loss decreased from (0.272745 --> 0.257853).\n",
      "Saving model ...\n"
     ]
    },
    {
     "name": "stderr",
     "output_type": "stream",
     "text": [
      "100%|██████████| 439/439 [04:24<00:00,  1.66it/s]\n",
      "100%|██████████| 244/244 [00:22<00:00, 10.87it/s]\n"
     ]
    },
    {
     "name": "stdout",
     "output_type": "stream",
     "text": [
      "Epoch : 7 \n",
      "train_loss : 0.222975, \tTrain_acc : 0.918472, \n",
      "Val_loss : 0.244942, \tVal_acc : 0.920628\n",
      "Validation loss decreased from (0.257853 --> 0.244942).\n",
      "Saving model ...\n"
     ]
    },
    {
     "name": "stderr",
     "output_type": "stream",
     "text": [
      "100%|██████████| 439/439 [04:26<00:00,  1.65it/s]\n",
      "100%|██████████| 244/244 [00:24<00:00, 10.13it/s]\n"
     ]
    },
    {
     "name": "stdout",
     "output_type": "stream",
     "text": [
      "Epoch : 8 \n",
      "train_loss : 0.218637, \tTrain_acc : 0.918518, \n",
      "Val_loss : 0.250373, \tVal_acc : 0.914480\n"
     ]
    },
    {
     "name": "stderr",
     "output_type": "stream",
     "text": [
      "100%|██████████| 439/439 [04:24<00:00,  1.66it/s]\n",
      "100%|██████████| 244/244 [00:22<00:00, 10.65it/s]\n"
     ]
    },
    {
     "name": "stdout",
     "output_type": "stream",
     "text": [
      "Epoch : 9 \n",
      "train_loss : 0.204279, \tTrain_acc : 0.925966, \n",
      "Val_loss : 0.246617, \tVal_acc : 0.910109\n"
     ]
    },
    {
     "name": "stderr",
     "output_type": "stream",
     "text": [
      "100%|██████████| 439/439 [04:20<00:00,  1.69it/s]\n",
      "100%|██████████| 244/244 [00:23<00:00, 10.55it/s]\n"
     ]
    },
    {
     "name": "stdout",
     "output_type": "stream",
     "text": [
      "Epoch : 10 \n",
      "train_loss : 0.193511, \tTrain_acc : 0.929135, \n",
      "Val_loss : 0.221338, \tVal_acc : 0.923087\n",
      "Validation loss decreased from (0.244942 --> 0.221338).\n",
      "Saving model ...\n"
     ]
    },
    {
     "name": "stderr",
     "output_type": "stream",
     "text": [
      "100%|██████████| 439/439 [04:23<00:00,  1.67it/s]\n",
      "100%|██████████| 244/244 [00:23<00:00, 10.44it/s]\n"
     ]
    },
    {
     "name": "stdout",
     "output_type": "stream",
     "text": [
      "Epoch : 11 \n",
      "train_loss : 0.183451, \tTrain_acc : 0.933554, \n",
      "Val_loss : 0.223082, \tVal_acc : 0.921857\n"
     ]
    },
    {
     "name": "stderr",
     "output_type": "stream",
     "text": [
      "100%|██████████| 439/439 [04:20<00:00,  1.69it/s]\n",
      "100%|██████████| 244/244 [00:23<00:00, 10.54it/s]\n"
     ]
    },
    {
     "name": "stdout",
     "output_type": "stream",
     "text": [
      "Epoch : 12 \n",
      "train_loss : 0.181779, \tTrain_acc : 0.933164, \n",
      "Val_loss : 0.217249, \tVal_acc : 0.926502\n",
      "Validation loss decreased from (0.221338 --> 0.217249).\n",
      "Saving model ...\n"
     ]
    },
    {
     "name": "stderr",
     "output_type": "stream",
     "text": [
      "100%|██████████| 439/439 [04:26<00:00,  1.65it/s]\n",
      "100%|██████████| 244/244 [00:23<00:00, 10.42it/s]\n"
     ]
    },
    {
     "name": "stdout",
     "output_type": "stream",
     "text": [
      "Epoch : 13 \n",
      "train_loss : 0.164476, \tTrain_acc : 0.939772, \n",
      "Val_loss : 0.218051, \tVal_acc : 0.921721\n"
     ]
    },
    {
     "name": "stderr",
     "output_type": "stream",
     "text": [
      "100%|██████████| 439/439 [04:30<00:00,  1.63it/s]\n",
      "100%|██████████| 244/244 [00:25<00:00,  9.60it/s]\n"
     ]
    },
    {
     "name": "stdout",
     "output_type": "stream",
     "text": [
      "Epoch : 14 \n",
      "train_loss : 0.160718, \tTrain_acc : 0.940705, \n",
      "Val_loss : 0.205843, \tVal_acc : 0.919672\n",
      "Validation loss decreased from (0.217249 --> 0.205843).\n",
      "Saving model ...\n"
     ]
    },
    {
     "name": "stderr",
     "output_type": "stream",
     "text": [
      "100%|██████████| 439/439 [04:22<00:00,  1.67it/s]\n",
      "100%|██████████| 244/244 [00:22<00:00, 10.78it/s]\n"
     ]
    },
    {
     "name": "stdout",
     "output_type": "stream",
     "text": [
      "Epoch : 15 \n",
      "train_loss : 0.159324, \tTrain_acc : 0.941594, \n",
      "Val_loss : 0.197504, \tVal_acc : 0.932786\n",
      "Validation loss decreased from (0.205843 --> 0.197504).\n",
      "Saving model ...\n"
     ]
    },
    {
     "name": "stderr",
     "output_type": "stream",
     "text": [
      "100%|██████████| 439/439 [04:28<00:00,  1.63it/s]\n",
      "100%|██████████| 244/244 [00:25<00:00,  9.73it/s]\n"
     ]
    },
    {
     "name": "stdout",
     "output_type": "stream",
     "text": [
      "Epoch : 16 \n",
      "train_loss : 0.145533, \tTrain_acc : 0.946196, \n",
      "Val_loss : 0.202259, \tVal_acc : 0.919262\n"
     ]
    },
    {
     "name": "stderr",
     "output_type": "stream",
     "text": [
      "100%|██████████| 439/439 [04:24<00:00,  1.66it/s]\n",
      "100%|██████████| 244/244 [00:23<00:00, 10.48it/s]\n"
     ]
    },
    {
     "name": "stdout",
     "output_type": "stream",
     "text": [
      "Epoch : 17 \n",
      "train_loss : 0.139006, \tTrain_acc : 0.948884, \n",
      "Val_loss : 0.185773, \tVal_acc : 0.924180\n",
      "Validation loss decreased from (0.197504 --> 0.185773).\n",
      "Saving model ...\n"
     ]
    },
    {
     "name": "stderr",
     "output_type": "stream",
     "text": [
      "100%|██████████| 439/439 [04:27<00:00,  1.64it/s]\n",
      "100%|██████████| 244/244 [00:23<00:00, 10.21it/s]\n"
     ]
    },
    {
     "name": "stdout",
     "output_type": "stream",
     "text": [
      "Epoch : 18 \n",
      "train_loss : 0.136202, \tTrain_acc : 0.949999, \n",
      "Val_loss : 0.208609, \tVal_acc : 0.920082\n"
     ]
    },
    {
     "name": "stderr",
     "output_type": "stream",
     "text": [
      "100%|██████████| 439/439 [04:21<00:00,  1.68it/s]\n",
      "100%|██████████| 244/244 [00:23<00:00, 10.31it/s]\n"
     ]
    },
    {
     "name": "stdout",
     "output_type": "stream",
     "text": [
      "Epoch : 19 \n",
      "train_loss : 0.129167, \tTrain_acc : 0.953053, \n",
      "Val_loss : 0.209262, \tVal_acc : 0.916803\n"
     ]
    },
    {
     "name": "stderr",
     "output_type": "stream",
     "text": [
      "100%|██████████| 439/439 [04:21<00:00,  1.68it/s]\n",
      "100%|██████████| 244/244 [00:22<00:00, 10.70it/s]\n"
     ]
    },
    {
     "name": "stdout",
     "output_type": "stream",
     "text": [
      "Epoch : 20 \n",
      "train_loss : 0.122246, \tTrain_acc : 0.955262, \n",
      "Val_loss : 0.185013, \tVal_acc : 0.933606\n",
      "Validation loss decreased from (0.185773 --> 0.185013).\n",
      "Saving model ...\n"
     ]
    },
    {
     "name": "stderr",
     "output_type": "stream",
     "text": [
      "100%|██████████| 439/439 [04:26<00:00,  1.65it/s]\n",
      "100%|██████████| 244/244 [00:23<00:00, 10.29it/s]\n"
     ]
    },
    {
     "name": "stdout",
     "output_type": "stream",
     "text": [
      "Epoch : 21 \n",
      "train_loss : 0.107115, \tTrain_acc : 0.960751, \n",
      "Val_loss : 0.198312, \tVal_acc : 0.926639\n"
     ]
    },
    {
     "name": "stderr",
     "output_type": "stream",
     "text": [
      "100%|██████████| 439/439 [04:22<00:00,  1.67it/s]\n",
      "100%|██████████| 244/244 [00:22<00:00, 10.79it/s]\n"
     ]
    },
    {
     "name": "stdout",
     "output_type": "stream",
     "text": [
      "Epoch : 22 \n",
      "train_loss : 0.114644, \tTrain_acc : 0.959045, \n",
      "Val_loss : 0.221509, \tVal_acc : 0.922540\n"
     ]
    },
    {
     "name": "stderr",
     "output_type": "stream",
     "text": [
      "100%|██████████| 439/439 [04:28<00:00,  1.63it/s]\n",
      "100%|██████████| 244/244 [00:23<00:00, 10.29it/s]\n"
     ]
    },
    {
     "name": "stdout",
     "output_type": "stream",
     "text": [
      "Epoch : 23 \n",
      "train_loss : 0.103171, \tTrain_acc : 0.963165, \n",
      "Val_loss : 0.209158, \tVal_acc : 0.931147\n"
     ]
    },
    {
     "name": "stderr",
     "output_type": "stream",
     "text": [
      "100%|██████████| 439/439 [04:29<00:00,  1.63it/s]\n",
      "100%|██████████| 244/244 [00:22<00:00, 10.74it/s]\n"
     ]
    },
    {
     "name": "stdout",
     "output_type": "stream",
     "text": [
      "Epoch : 24 \n",
      "train_loss : 0.092067, \tTrain_acc : 0.967427, \n",
      "Val_loss : 0.219146, \tVal_acc : 0.929098\n"
     ]
    },
    {
     "name": "stderr",
     "output_type": "stream",
     "text": [
      "100%|██████████| 439/439 [04:27<00:00,  1.64it/s]\n",
      "100%|██████████| 244/244 [00:22<00:00, 10.69it/s]\n"
     ]
    },
    {
     "name": "stdout",
     "output_type": "stream",
     "text": [
      "Epoch : 25 \n",
      "train_loss : 0.064158, \tTrain_acc : 0.977767, \n",
      "Val_loss : 0.181896, \tVal_acc : 0.939754\n",
      "Validation loss decreased from (0.185013 --> 0.181896).\n",
      "Saving model ...\n"
     ]
    },
    {
     "name": "stderr",
     "output_type": "stream",
     "text": [
      "100%|██████████| 439/439 [04:24<00:00,  1.66it/s]\n",
      "100%|██████████| 244/244 [00:24<00:00, 10.15it/s]\n"
     ]
    },
    {
     "name": "stdout",
     "output_type": "stream",
     "text": [
      "Epoch : 26 \n",
      "train_loss : 0.048955, \tTrain_acc : 0.982278, \n",
      "Val_loss : 0.182527, \tVal_acc : 0.941803\n"
     ]
    },
    {
     "name": "stderr",
     "output_type": "stream",
     "text": [
      "100%|██████████| 439/439 [04:24<00:00,  1.66it/s]\n",
      "100%|██████████| 244/244 [00:25<00:00,  9.75it/s]\n"
     ]
    },
    {
     "name": "stdout",
     "output_type": "stream",
     "text": [
      "Epoch : 27 \n",
      "train_loss : 0.044990, \tTrain_acc : 0.984055, \n",
      "Val_loss : 0.197718, \tVal_acc : 0.939344\n"
     ]
    },
    {
     "name": "stderr",
     "output_type": "stream",
     "text": [
      "100%|██████████| 439/439 [04:25<00:00,  1.65it/s]\n",
      "100%|██████████| 244/244 [00:23<00:00, 10.36it/s]\n"
     ]
    },
    {
     "name": "stdout",
     "output_type": "stream",
     "text": [
      "Epoch : 28 \n",
      "train_loss : 0.039294, \tTrain_acc : 0.986151, \n",
      "Val_loss : 0.199061, \tVal_acc : 0.936885\n"
     ]
    },
    {
     "name": "stderr",
     "output_type": "stream",
     "text": [
      "100%|██████████| 439/439 [04:25<00:00,  1.66it/s]\n",
      "100%|██████████| 244/244 [00:25<00:00,  9.46it/s]\n"
     ]
    },
    {
     "name": "stdout",
     "output_type": "stream",
     "text": [
      "Epoch : 29 \n",
      "train_loss : 0.031342, \tTrain_acc : 0.988885, \n",
      "Val_loss : 0.215062, \tVal_acc : 0.938524\n"
     ]
    },
    {
     "name": "stderr",
     "output_type": "stream",
     "text": [
      "100%|██████████| 439/439 [04:21<00:00,  1.68it/s]\n",
      "100%|██████████| 244/244 [00:22<00:00, 10.96it/s]\n"
     ]
    },
    {
     "name": "stdout",
     "output_type": "stream",
     "text": [
      "Epoch : 30 \n",
      "train_loss : 0.030256, \tTrain_acc : 0.989385, \n",
      "Val_loss : 0.202590, \tVal_acc : 0.942622\n"
     ]
    },
    {
     "name": "stderr",
     "output_type": "stream",
     "text": [
      "100%|██████████| 439/439 [04:21<00:00,  1.68it/s]\n",
      "100%|██████████| 244/244 [00:22<00:00, 10.73it/s]\n"
     ]
    },
    {
     "name": "stdout",
     "output_type": "stream",
     "text": [
      "Epoch : 31 \n",
      "train_loss : 0.029753, \tTrain_acc : 0.989614, \n",
      "Val_loss : 0.213156, \tVal_acc : 0.937295\n"
     ]
    },
    {
     "name": "stderr",
     "output_type": "stream",
     "text": [
      "100%|██████████| 439/439 [04:25<00:00,  1.65it/s]\n",
      "100%|██████████| 244/244 [00:22<00:00, 10.66it/s]\n"
     ]
    },
    {
     "name": "stdout",
     "output_type": "stream",
     "text": [
      "Epoch : 32 \n",
      "train_loss : 0.026630, \tTrain_acc : 0.990662, \n",
      "Val_loss : 0.197757, \tVal_acc : 0.942213\n"
     ]
    },
    {
     "name": "stderr",
     "output_type": "stream",
     "text": [
      "100%|██████████| 439/439 [04:21<00:00,  1.68it/s]\n",
      "100%|██████████| 244/244 [00:22<00:00, 10.79it/s]\n"
     ]
    },
    {
     "name": "stdout",
     "output_type": "stream",
     "text": [
      "Epoch : 33 \n",
      "train_loss : 0.025757, \tTrain_acc : 0.990501, \n",
      "Val_loss : 0.206194, \tVal_acc : 0.937295\n"
     ]
    },
    {
     "name": "stderr",
     "output_type": "stream",
     "text": [
      "100%|██████████| 439/439 [04:22<00:00,  1.67it/s]\n",
      "100%|██████████| 244/244 [00:24<00:00, 10.16it/s]"
     ]
    },
    {
     "name": "stdout",
     "output_type": "stream",
     "text": [
      "Epoch : 34 \n",
      "train_loss : 0.026983, \tTrain_acc : 0.989751, \n",
      "Val_loss : 0.204006, \tVal_acc : 0.939344\n"
     ]
    },
    {
     "name": "stderr",
     "output_type": "stream",
     "text": [
      "\n"
     ]
    }
   ],
   "source": [
    "criterion = nn.CrossEntropyLoss()\n",
    "optimizer = torch.optim.Adam(model.parameters(), lr=1e-4)\n",
    "schedular = torch.optim.lr_scheduler.ReduceLROnPlateau(optimizer, factor=0.1, patience=3)\n",
    "\n",
    "epochs =50\n",
    "max_e = 10\n",
    "\n",
    "name = \"SA_InceptionV3_pre_finetune\"\n",
    "model = model.to(DEVICE)\n",
    "for epoch in range(epochs):\n",
    "\n",
    "    train_loss = 0.0\n",
    "    val_loss = 0.0\n",
    "    train_acc = 0.0\n",
    "    val_acc = 0.0\n",
    "\n",
    "    model.train()\n",
    "    for images,labels in tqdm(train_loader):\n",
    "        optimizer.zero_grad()\n",
    "        images = images.to(DEVICE)\n",
    "        labels = labels.to(DEVICE)\n",
    "\n",
    "        preds,_ = model(images)\n",
    "        loss = criterion(preds, labels)\n",
    "        loss.backward()\n",
    "        optimizer.step()\n",
    "\n",
    "        train_loss += loss.item()\n",
    "        train_acc += accuracy(preds, labels)\n",
    "\n",
    "    avg_train_loss = train_loss / len(train_loader)\n",
    "    avg_train_acc = train_acc / len(train_loader)\n",
    "\n",
    "    model.eval()\n",
    "    with torch.no_grad():\n",
    "        for images,labels in tqdm(val_loader):\n",
    "            images = images.to(DEVICE)\n",
    "            labels = labels.to(DEVICE)\n",
    "\n",
    "            preds = model(images)\n",
    "            loss = criterion(preds, labels)\n",
    "            val_loss += loss.item()\n",
    "            val_acc += accuracy(preds, labels)\n",
    "\n",
    "        avg_val_loss = val_loss / len(val_loader)\n",
    "        avg_val_acc = val_acc / len(val_loader)\n",
    "\n",
    "    schedular.step(avg_val_loss)\n",
    "\n",
    "    print(\"Epoch : {} \\ntrain_loss : {:.6f}, \\tTrain_acc : {:.6f}, \\nVal_loss : {:.6f}, \\tVal_acc : {:.6f}\".format(epoch + 1,\n",
    "                                                                                                                   avg_train_loss, avg_train_acc,\n",
    "                                                                                                                   avg_val_loss, avg_val_acc))\n",
    "    if avg_val_loss <= val_loss_min:\n",
    "        print('Validation loss decreased from ({:.6f} --> {:.6f}).\\nSaving model ...'.format(val_loss_min, avg_val_loss))\n",
    "        torch.save(model, os.path.join(model_path,f\"{name}.pth\"))\n",
    "        val_loss_min = avg_val_loss\n",
    "        max_e = 10\n",
    "    max_e -= 1\n",
    "    if max_e<=0:\n",
    "        break\n"
   ]
  },
  {
   "cell_type": "code",
   "execution_count": 9,
   "metadata": {},
   "outputs": [
    {
     "data": {
      "text/plain": [
       "0.18189562410550367"
      ]
     },
     "execution_count": 9,
     "metadata": {},
     "output_type": "execute_result"
    }
   ],
   "source": [
    "val_loss_min"
   ]
  },
  {
   "cell_type": "markdown",
   "metadata": {},
   "source": [
    "### 测试"
   ]
  },
  {
   "cell_type": "code",
   "execution_count": 11,
   "metadata": {
    "tags": []
   },
   "outputs": [
    {
     "name": "stderr",
     "output_type": "stream",
     "text": [
      "100%|██████████| 2706/2706 [01:05<00:00, 41.05it/s]"
     ]
    },
    {
     "name": "stdout",
     "output_type": "stream",
     "text": [
      "Test_loss : 0.159676, \tTest_acc : 0.946415\n",
      "[[ 361    3    2    0]\n",
      " [   4  809   28   33]\n",
      " [   2   43 1141    1]\n",
      " [   0   24    5  250]]\n"
     ]
    },
    {
     "name": "stderr",
     "output_type": "stream",
     "text": [
      "\n"
     ]
    }
   ],
   "source": [
    "name = \"SA_InceptionV3_pre_finetune\"\n",
    "model = torch.load(os.path.join(model_path,f\"{name}.pth\"))\n",
    "model = model.to(DEVICE)\n",
    "\n",
    "# 混淆矩阵\n",
    "M = np.zeros((4,4))\n",
    "with torch.no_grad():\n",
    "    test_loss=0\n",
    "    test_acc=0\n",
    "    for images,labels in tqdm(test_loader):\n",
    "        images = images.to(DEVICE)\n",
    "        labels = labels.to(DEVICE)\n",
    "\n",
    "        preds = model(images)\n",
    "        loss = criterion(preds, labels)\n",
    "        test_loss += loss.item()\n",
    "        test_acc += accuracy(preds, labels)\n",
    "        \n",
    "        M[preds.argmax(),labels[0]]+=1\n",
    "        \n",
    "    avg_test_loss = test_loss / len(test_loader)\n",
    "    avg_test_acc = test_acc / len(test_loader)\n",
    "    print(\"Test_loss : {:.6f}, \\tTest_acc : {:.6f}\".format(avg_test_loss,avg_test_acc))\n",
    "    \n",
    "    M = M.astype(\"int\")\n",
    "    print(M)\n",
    "    "
   ]
  }
 ],
 "metadata": {
  "kernelspec": {
   "display_name": "Python 3 (ipykernel)",
   "language": "python",
   "name": "python3"
  },
  "language_info": {
   "codemirror_mode": {
    "name": "ipython",
    "version": 3
   },
   "file_extension": ".py",
   "mimetype": "text/x-python",
   "name": "python",
   "nbconvert_exporter": "python",
   "pygments_lexer": "ipython3",
   "version": "3.7.10"
  },
  "vscode": {
   "interpreter": {
    "hash": "d9840a8de2b5de678e209fd904f7d6f8e9cbfcc43f84beeb436e5d7726cf947f"
   }
  }
 },
 "nbformat": 4,
 "nbformat_minor": 4
}
