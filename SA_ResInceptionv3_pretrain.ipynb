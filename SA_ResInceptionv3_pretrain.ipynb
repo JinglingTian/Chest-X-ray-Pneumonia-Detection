{
 "cells": [
  {
   "cell_type": "code",
   "execution_count": 1,
   "metadata": {
    "_cell_guid": "b1076dfc-b9ad-4769-8c92-a6c4dae69d19",
    "_uuid": "8f2839f25d086af736a60e9eeb907d3b93b6e0e5",
    "tags": []
   },
   "outputs": [
    {
     "data": {
      "text/plain": [
       "device(type='cuda', index=0)"
      ]
     },
     "execution_count": 1,
     "metadata": {},
     "output_type": "execute_result"
    }
   ],
   "source": [
    "import pandas as pd\n",
    "import os\n",
    "import torch.nn.functional as F\n",
    "from tqdm import tqdm\n",
    "import torch\n",
    "import torch.nn as nn\n",
    "import numpy as np\n",
    "import torchvision\n",
    "from torchvision import transforms,datasets\n",
    "from torch.utils.data import Dataset,DataLoader,random_split\n",
    "from torch.nn.parameter import Parameter\n",
    "\n",
    "\n",
    "torch.manual_seed(666)\n",
    "torch.cuda.manual_seed(666)\n",
    "DEVICE = torch.device(\"cuda:0\" if torch.cuda.is_available() else \"cpu\")\n",
    "DEVICE"
   ]
  },
  {
   "cell_type": "markdown",
   "metadata": {},
   "source": [
    "## 数据集：多种肺炎X光图像"
   ]
  },
  {
   "cell_type": "markdown",
   "metadata": {},
   "source": [
    "### 数据集"
   ]
  },
  {
   "cell_type": "code",
   "execution_count": 2,
   "metadata": {
    "tags": []
   },
   "outputs": [
    {
     "name": "stdout",
     "output_type": "stream",
     "text": [
      "{'COVID': 0, 'Lung_Opacity': 1, 'Normal': 2, 'Viral': 3}\n",
      "torch.Size([1, 3, 299, 299]) torch.Size([1])\n",
      "439 2706 244\n"
     ]
    }
   ],
   "source": [
    "data_dir = \"../data/COVID_Dataset\"\n",
    "TRAIN = 'train'\n",
    "TEST = 'test'\n",
    "VAL = 'val'\n",
    "\n",
    "def apply_transform(mode=None):\n",
    "    size = (299,299)\n",
    "    crop = 299\n",
    "    if mode == 'train':\n",
    "        transform = transforms.Compose([transforms.Resize(size),\n",
    "                               transforms.RandomHorizontalFlip(),\n",
    "                               transforms.RandomRotation((-20,+20)),\n",
    "                               transforms.CenterCrop(crop),\n",
    "                               transforms.ToTensor(),\n",
    "                               transforms.Normalize([0.485, 0.456, 0.406],\n",
    "                                           [0.229, 0.224, 0.225])\n",
    "                              ])\n",
    "\n",
    "    elif mode == 'test' or mode == 'val':\n",
    "        transform = transforms.Compose([transforms.Resize(size),\n",
    "                               transforms.CenterCrop(crop),\n",
    "                               transforms.ToTensor(),\n",
    "                               transforms.Normalize([0.485, 0.456, 0.406],\n",
    "                                           [0.229, 0.224, 0.225])\n",
    "                              ])\n",
    "\n",
    "    return transform\n",
    "\n",
    "trainset = datasets.ImageFolder(os.path.join(data_dir, TRAIN),\n",
    "                                transform = apply_transform(TRAIN))\n",
    "\n",
    "trainset,valset = random_split(trainset,[len(trainset)-int(len(trainset)*0.1),int(len(trainset)*0.1)])\n",
    "\n",
    "testset = datasets.ImageFolder(os.path.join(data_dir, TEST),\n",
    "                               transform = apply_transform(TEST))\n",
    "\n",
    "train_loader = DataLoader(trainset,\n",
    "                          batch_size=50,\n",
    "                          shuffle=True)\n",
    "\n",
    "val_loader = DataLoader(valset,\n",
    "                        batch_size=10)\n",
    "\n",
    "test_loader = DataLoader(testset,\n",
    "                         batch_size=1)\n",
    "\n",
    "\n",
    "print(testset.class_to_idx)\n",
    "x,y = next(iter(test_loader))\n",
    "print(x.shape,y.shape)\n",
    "print(len(train_loader),len(test_loader),len(val_loader))\n",
    "\n",
    "\n"
   ]
  },
  {
   "cell_type": "markdown",
   "metadata": {},
   "source": [
    "### 模型"
   ]
  },
  {
   "cell_type": "code",
   "execution_count": 3,
   "metadata": {
    "tags": []
   },
   "outputs": [
    {
     "name": "stderr",
     "output_type": "stream",
     "text": [
      "Downloading: \"https://download.pytorch.org/models/inception_v3_google-0cc3c7bd.pth\" to /home/featurize/.cache/torch/hub/checkpoints/inception_v3_google-0cc3c7bd.pth\n"
     ]
    },
    {
     "data": {
      "application/vnd.jupyter.widget-view+json": {
       "model_id": "7cac4b619c1342e09375bf8928b6d397",
       "version_major": 2,
       "version_minor": 0
      },
      "text/plain": [
       "  0%|          | 0.00/104M [00:00<?, ?B/s]"
      ]
     },
     "metadata": {},
     "output_type": "display_data"
    },
    {
     "data": {
      "text/plain": [
       "(torch.Size([2, 4]), torch.Size([2, 1000]))"
      ]
     },
     "execution_count": 3,
     "metadata": {},
     "output_type": "execute_result"
    }
   ],
   "source": [
    "# SA模块\n",
    "class SA_Layer(nn.Module):\n",
    "    def __init__(self,channels,groups=64) -> None:\n",
    "        super().__init__()\n",
    "        self.groups = groups\n",
    "        self.avg_pool = nn.AdaptiveAvgPool2d(1)\n",
    "        self.cweight = Parameter(torch.zeros(1,channels//(2*groups),1,1))\n",
    "        self.cbias = Parameter(torch.ones(1,channels//(2*groups),1,1))\n",
    "        self.sweight = Parameter(torch.zeros(1,channels//(2*groups),1,1))\n",
    "        self.sbias = Parameter(torch.ones(1,channels//(2*groups),1,1))\n",
    "        \n",
    "        self.sigmoid = nn.Sigmoid()\n",
    "        self.gn = nn.GroupNorm(channels//(2*groups),channels//(2*groups))\n",
    "\n",
    "    @staticmethod\n",
    "    def channel_suffle(x,groups):\n",
    "        b,c,h,w = x.shape\n",
    "        # 输入特征图分组\n",
    "        x = x.reshape(b,groups,-1,h,w)\n",
    "        # 洗牌\n",
    "        x = x.permute(0,2,1,3,4)\n",
    "        x = x.reshape(b,-1,h,w)\n",
    "        return x\n",
    "    \n",
    "\n",
    "    def forward(self,x):\n",
    "        b,c,h,w = x.shape\n",
    "        x = x.reshape(b*self.groups,-1,h,w)\n",
    "        x_0, x_1 = x.chunk(2,dim=1)\n",
    "\n",
    "        # 通道注意力\n",
    "        xn = self.avg_pool(x_0)\n",
    "        xn = self.cweight * xn + self.cbias\n",
    "        xn = x_0*self.sigmoid(xn)\n",
    "\n",
    "        # 空间注意力\n",
    "        xs = self.gn(x_1)\n",
    "        xs = self.sweight * xs + self.sbias\n",
    "        xs = x_1*self.sigmoid(xs)\n",
    "\n",
    "        # 在通道维度上拼接\n",
    "        out = torch.cat([xn,xs],dim=1)\n",
    "        out = out.reshape(b,-1,h,w)\n",
    "        out = self.channel_suffle(out,2)\n",
    "\n",
    "        return out\n",
    "\n",
    "# Inception 残差块\n",
    "class Residual(nn.Module):\n",
    "    def __init__(self,in_channels,out_channels,inception,kernel_size=(1,1),stride=1,padding=0) -> None:\n",
    "        super().__init__()\n",
    "        self.conv1 = nn.Conv2d(in_channels,out_channels,kernel_size=kernel_size,stride=stride,padding=padding)\n",
    "        self.inception = inception\n",
    "    def forward(self,x):\n",
    "        conv = self.conv1(x)\n",
    "        y = self.inception(x)\n",
    "        out = F.relu(conv+y)\n",
    "        return out\n",
    "\n",
    "\n",
    "# 预训练InceptionV3 + SA\n",
    "def get_deepLavV3(out_ch):\n",
    "    model = torchvision.models.inception_v3(pretrained=True)\n",
    "    \n",
    "    # 在每个Inception层 添加残差\n",
    "    model.Mixed_5b = Residual(192,256,model.Mixed_5b)\n",
    "    model.Mixed_5c = Residual(256,288,model.Mixed_5c)\n",
    "    model.Mixed_5d = Residual(288,288,model.Mixed_5d)\n",
    "    model.Mixed_6a = Residual(288,768,model.Mixed_6a,(5,5),2,1)\n",
    "    model.Mixed_6b = Residual(768,768,model.Mixed_6b)\n",
    "    model.Mixed_6c = Residual(768,768,model.Mixed_6c)\n",
    "    model.Mixed_6d = Residual(768,768,model.Mixed_6d)\n",
    "    model.Mixed_6e = Residual(768,768,model.Mixed_6e)\n",
    "    model.Mixed_7a = Residual(768,1280,model.Mixed_7a,(5,5),2,1)\n",
    "    model.Mixed_7b = Residual(1280,2048,model.Mixed_7b)\n",
    "    model.Mixed_7c = Residual(2048,2048,model.Mixed_7c)\n",
    "\n",
    "    # 在每个Inception层后 添加SA\n",
    "    model.Mixed_5d = nn.Sequential(\n",
    "        model.Mixed_5d,\n",
    "        SA_Layer(288,8)\n",
    "    )\n",
    "    model.Mixed_6e = nn.Sequential(\n",
    "        model.Mixed_6e,\n",
    "        SA_Layer(768,64)\n",
    "    )\n",
    "    model.Mixed_7c = nn.Sequential(\n",
    "        model.Mixed_7c,\n",
    "        SA_Layer(2048,128)\n",
    "    )\n",
    "    \n",
    "    # 冻结参数\n",
    "    for param in model.parameters():\n",
    "        param.requires_grad = False\n",
    "    \n",
    "    # 改全连接层\n",
    "    in_features = model.fc.in_features\n",
    "    classifier = nn.Sequential(\n",
    "        nn.Linear(in_features, 4096),\n",
    "        nn.ReLU(inplace=True),\n",
    "        nn.Dropout(0.5),\n",
    "        nn.Linear(4096, 4096),\n",
    "        nn.ReLU(inplace=True),\n",
    "        nn.Dropout(0.5),\n",
    "        nn.Linear(4096, out_ch),\n",
    "        nn.LogSoftmax(dim=1)\n",
    "    )\n",
    "    model.fc = classifier\n",
    "    return model\n",
    "\n",
    "model = get_deepLavV3(4)\n",
    "# print(model)\n",
    "x = torch.tensor(np.random.random((2,3,299,299))).float()\n",
    "y,_ = model(x)\n",
    "y.shape,_.shape\n"
   ]
  },
  {
   "cell_type": "markdown",
   "metadata": {},
   "source": [
    "### 评价指标"
   ]
  },
  {
   "cell_type": "code",
   "execution_count": 4,
   "metadata": {
    "tags": []
   },
   "outputs": [],
   "source": [
    "def accuracy(preds, labels):\n",
    "    preds = torch.exp(preds)\n",
    "    top_p,top_class = preds.topk(1, dim=1)\n",
    "    equals = top_class == labels.view(*top_class.shape)\n",
    "    return torch.mean(equals.type(torch.FloatTensor))"
   ]
  },
  {
   "cell_type": "markdown",
   "metadata": {},
   "source": [
    "### 损失函数"
   ]
  },
  {
   "cell_type": "code",
   "execution_count": 5,
   "metadata": {},
   "outputs": [],
   "source": [
    "# Focal Loss: alpha类型为tensor,是类别权重\n",
    "class FocalLoss(nn.Module):\n",
    "    def __init__(self,class_num,gamma=2,alpha=None,reduction=\"mean\") -> None:\n",
    "        super().__init__()\n",
    "        if alpha is None:\n",
    "            self.alpha = torch.ones((class_num,1))\n",
    "        else:\n",
    "            self.alpha = alpha\n",
    "        self.gamma = gamma\n",
    "        self.reduction = reduction\n",
    "        self.class_num = class_num\n",
    "    \n",
    "    def forward(self,predict,target):\n",
    "        pt = torch.nn.functional.softmax(predict,dim=1)\n",
    "        class_mask = torch.nn.functional.one_hot(target,self.class_num)\n",
    "        ids = target.view(-1,1)\n",
    "        alpha = self.alpha[ids.data.view(-1)]\n",
    "\n",
    "        probs = (pt*class_mask).sum(1).view(-1,1)\n",
    "        log_p = probs.log()\n",
    "        loss = -alpha*(torch.pow(1-probs,self.gamma))*log_p\n",
    "        if self.reduction==\"mean\":\n",
    "            loss = loss.mean()\n",
    "        elif self.reduction==\"sum\":\n",
    "            loss = loss.sum()\n",
    "        return loss\n",
    "\n",
    "\n",
    "# loss = FocalLoss(4,alpha=torch.tensor([0.135,0.325,0.435,0.105]))\n",
    "# predict = torch.tensor([[1,2,3,4],[100,3,2,1]]).float()\n",
    "# label = torch.tensor([3,0])\n",
    "# print(predict.shape,label.shape)\n",
    "# loss(predict,label)\n"
   ]
  },
  {
   "cell_type": "markdown",
   "metadata": {},
   "source": [
    "### 冻结训练"
   ]
  },
  {
   "cell_type": "code",
   "execution_count": 6,
   "metadata": {
    "tags": []
   },
   "outputs": [
    {
     "name": "stderr",
     "output_type": "stream",
     "text": [
      "100%|██████████| 439/439 [03:32<00:00,  2.06it/s]\n",
      "100%|██████████| 244/244 [00:24<00:00, 10.03it/s]\n"
     ]
    },
    {
     "name": "stdout",
     "output_type": "stream",
     "text": [
      "Epoch : 1 \n",
      "train_loss : 1.221208, \tTrain_acc : 0.472107, \n",
      "Val_loss : 1.196583, \tVal_acc : 0.481831\n",
      "Validation loss decreased from (inf --> 1.196583).\n",
      "Saving model ...\n"
     ]
    },
    {
     "name": "stderr",
     "output_type": "stream",
     "text": [
      "100%|██████████| 439/439 [03:31<00:00,  2.07it/s]\n",
      "100%|██████████| 244/244 [00:24<00:00,  9.80it/s]\n"
     ]
    },
    {
     "name": "stdout",
     "output_type": "stream",
     "text": [
      "Epoch : 2 \n",
      "train_loss : 1.189612, \tTrain_acc : 0.488551, \n",
      "Val_loss : 1.212457, \tVal_acc : 0.449044\n"
     ]
    },
    {
     "name": "stderr",
     "output_type": "stream",
     "text": [
      "100%|██████████| 439/439 [03:36<00:00,  2.03it/s]\n",
      "100%|██████████| 244/244 [00:24<00:00, 10.02it/s]\n"
     ]
    },
    {
     "name": "stdout",
     "output_type": "stream",
     "text": [
      "Epoch : 3 \n",
      "train_loss : 1.192763, \tTrain_acc : 0.470628, \n",
      "Val_loss : 1.175332, \tVal_acc : 0.556011\n",
      "Validation loss decreased from (1.196583 --> 1.175332).\n",
      "Saving model ...\n"
     ]
    },
    {
     "name": "stderr",
     "output_type": "stream",
     "text": [
      "100%|██████████| 439/439 [03:33<00:00,  2.06it/s]\n",
      "100%|██████████| 244/244 [00:25<00:00,  9.62it/s]\n"
     ]
    },
    {
     "name": "stdout",
     "output_type": "stream",
     "text": [
      "Epoch : 4 \n",
      "train_loss : 1.179735, \tTrain_acc : 0.486846, \n",
      "Val_loss : 1.172207, \tVal_acc : 0.456831\n",
      "Validation loss decreased from (1.175332 --> 1.172207).\n",
      "Saving model ...\n"
     ]
    },
    {
     "name": "stderr",
     "output_type": "stream",
     "text": [
      "100%|██████████| 439/439 [03:30<00:00,  2.09it/s]\n",
      "100%|██████████| 244/244 [00:25<00:00,  9.75it/s]\n"
     ]
    },
    {
     "name": "stdout",
     "output_type": "stream",
     "text": [
      "Epoch : 5 \n",
      "train_loss : 1.180675, \tTrain_acc : 0.478096, \n",
      "Val_loss : 1.152519, \tVal_acc : 0.556967\n",
      "Validation loss decreased from (1.172207 --> 1.152519).\n",
      "Saving model ...\n"
     ]
    },
    {
     "name": "stderr",
     "output_type": "stream",
     "text": [
      "100%|██████████| 439/439 [03:30<00:00,  2.09it/s]\n",
      "100%|██████████| 244/244 [00:24<00:00,  9.99it/s]\n"
     ]
    },
    {
     "name": "stdout",
     "output_type": "stream",
     "text": [
      "Epoch : 6 \n",
      "train_loss : 1.169997, \tTrain_acc : 0.503591, \n",
      "Val_loss : 1.148966, \tVal_acc : 0.555874\n",
      "Validation loss decreased from (1.152519 --> 1.148966).\n",
      "Saving model ...\n"
     ]
    },
    {
     "name": "stderr",
     "output_type": "stream",
     "text": [
      "100%|██████████| 439/439 [03:28<00:00,  2.10it/s]\n",
      "100%|██████████| 244/244 [00:23<00:00, 10.22it/s]\n"
     ]
    },
    {
     "name": "stdout",
     "output_type": "stream",
     "text": [
      "Epoch : 7 \n",
      "train_loss : 1.173980, \tTrain_acc : 0.498485, \n",
      "Val_loss : 1.155701, \tVal_acc : 0.496585\n"
     ]
    },
    {
     "name": "stderr",
     "output_type": "stream",
     "text": [
      "100%|██████████| 439/439 [03:29<00:00,  2.09it/s]\n",
      "100%|██████████| 244/244 [00:24<00:00,  9.92it/s]\n"
     ]
    },
    {
     "name": "stdout",
     "output_type": "stream",
     "text": [
      "Epoch : 8 \n",
      "train_loss : 1.157942, \tTrain_acc : 0.511289, \n",
      "Val_loss : 1.131294, \tVal_acc : 0.569399\n",
      "Validation loss decreased from (1.148966 --> 1.131294).\n",
      "Saving model ...\n"
     ]
    },
    {
     "name": "stderr",
     "output_type": "stream",
     "text": [
      "100%|██████████| 439/439 [03:25<00:00,  2.14it/s]\n",
      "100%|██████████| 244/244 [00:23<00:00, 10.47it/s]\n"
     ]
    },
    {
     "name": "stdout",
     "output_type": "stream",
     "text": [
      "Epoch : 9 \n",
      "train_loss : 1.163224, \tTrain_acc : 0.509285, \n",
      "Val_loss : 1.137196, \tVal_acc : 0.547131\n"
     ]
    },
    {
     "name": "stderr",
     "output_type": "stream",
     "text": [
      "100%|██████████| 439/439 [03:22<00:00,  2.16it/s]\n",
      "100%|██████████| 244/244 [00:24<00:00, 10.07it/s]\n"
     ]
    },
    {
     "name": "stdout",
     "output_type": "stream",
     "text": [
      "Epoch : 10 \n",
      "train_loss : 1.160836, \tTrain_acc : 0.509987, \n",
      "Val_loss : 1.148393, \tVal_acc : 0.535792\n"
     ]
    },
    {
     "name": "stderr",
     "output_type": "stream",
     "text": [
      "100%|██████████| 439/439 [03:26<00:00,  2.13it/s]\n",
      "100%|██████████| 244/244 [00:23<00:00, 10.20it/s]\n"
     ]
    },
    {
     "name": "stdout",
     "output_type": "stream",
     "text": [
      "Epoch : 11 \n",
      "train_loss : 1.153625, \tTrain_acc : 0.513772, \n",
      "Val_loss : 1.093538, \tVal_acc : 0.593169\n",
      "Validation loss decreased from (1.131294 --> 1.093538).\n",
      "Saving model ...\n"
     ]
    },
    {
     "name": "stderr",
     "output_type": "stream",
     "text": [
      "100%|██████████| 439/439 [03:29<00:00,  2.09it/s]\n",
      "100%|██████████| 244/244 [00:25<00:00,  9.75it/s]\n"
     ]
    },
    {
     "name": "stdout",
     "output_type": "stream",
     "text": [
      "Epoch : 12 \n",
      "train_loss : 1.156053, \tTrain_acc : 0.509148, \n",
      "Val_loss : 1.119251, \tVal_acc : 0.549454\n"
     ]
    },
    {
     "name": "stderr",
     "output_type": "stream",
     "text": [
      "100%|██████████| 439/439 [03:26<00:00,  2.13it/s]\n",
      "100%|██████████| 244/244 [00:23<00:00, 10.29it/s]\n"
     ]
    },
    {
     "name": "stdout",
     "output_type": "stream",
     "text": [
      "Epoch : 13 \n",
      "train_loss : 1.149971, \tTrain_acc : 0.516415, \n",
      "Val_loss : 1.107236, \tVal_acc : 0.555601\n"
     ]
    },
    {
     "name": "stderr",
     "output_type": "stream",
     "text": [
      "100%|██████████| 439/439 [03:23<00:00,  2.15it/s]\n",
      "100%|██████████| 244/244 [00:23<00:00, 10.17it/s]\n"
     ]
    },
    {
     "name": "stdout",
     "output_type": "stream",
     "text": [
      "Epoch : 14 \n",
      "train_loss : 1.144787, \tTrain_acc : 0.513931, \n",
      "Val_loss : 1.121097, \tVal_acc : 0.582924\n"
     ]
    },
    {
     "name": "stderr",
     "output_type": "stream",
     "text": [
      "100%|██████████| 439/439 [03:22<00:00,  2.17it/s]\n",
      "100%|██████████| 244/244 [00:23<00:00, 10.42it/s]\n"
     ]
    },
    {
     "name": "stdout",
     "output_type": "stream",
     "text": [
      "Epoch : 15 \n",
      "train_loss : 1.150418, \tTrain_acc : 0.512153, \n",
      "Val_loss : 1.081674, \tVal_acc : 0.568443\n",
      "Validation loss decreased from (1.093538 --> 1.081674).\n",
      "Saving model ...\n"
     ]
    },
    {
     "name": "stderr",
     "output_type": "stream",
     "text": [
      "100%|██████████| 439/439 [03:23<00:00,  2.15it/s]\n",
      "100%|██████████| 244/244 [00:24<00:00,  9.99it/s]\n"
     ]
    },
    {
     "name": "stdout",
     "output_type": "stream",
     "text": [
      "Epoch : 16 \n",
      "train_loss : 1.144337, \tTrain_acc : 0.512628, \n",
      "Val_loss : 1.105959, \tVal_acc : 0.587842\n"
     ]
    },
    {
     "name": "stderr",
     "output_type": "stream",
     "text": [
      "100%|██████████| 439/439 [03:25<00:00,  2.13it/s]\n",
      "100%|██████████| 244/244 [00:24<00:00,  9.87it/s]\n"
     ]
    },
    {
     "name": "stdout",
     "output_type": "stream",
     "text": [
      "Epoch : 17 \n",
      "train_loss : 1.147061, \tTrain_acc : 0.511699, \n",
      "Val_loss : 1.099244, \tVal_acc : 0.558470\n"
     ]
    },
    {
     "name": "stderr",
     "output_type": "stream",
     "text": [
      "100%|██████████| 439/439 [03:24<00:00,  2.14it/s]\n",
      "100%|██████████| 244/244 [00:23<00:00, 10.23it/s]\n"
     ]
    },
    {
     "name": "stdout",
     "output_type": "stream",
     "text": [
      "Epoch : 18 \n",
      "train_loss : 1.146056, \tTrain_acc : 0.511083, \n",
      "Val_loss : 1.119119, \tVal_acc : 0.578825\n"
     ]
    },
    {
     "name": "stderr",
     "output_type": "stream",
     "text": [
      "100%|██████████| 439/439 [03:26<00:00,  2.13it/s]\n",
      "100%|██████████| 244/244 [00:24<00:00,  9.86it/s]\n"
     ]
    },
    {
     "name": "stdout",
     "output_type": "stream",
     "text": [
      "Epoch : 19 \n",
      "train_loss : 1.137377, \tTrain_acc : 0.513562, \n",
      "Val_loss : 1.084656, \tVal_acc : 0.557240\n"
     ]
    },
    {
     "name": "stderr",
     "output_type": "stream",
     "text": [
      "100%|██████████| 439/439 [03:24<00:00,  2.15it/s]\n",
      "100%|██████████| 244/244 [00:23<00:00, 10.29it/s]\n"
     ]
    },
    {
     "name": "stdout",
     "output_type": "stream",
     "text": [
      "Epoch : 20 \n",
      "train_loss : 1.129827, \tTrain_acc : 0.519968, \n",
      "Val_loss : 1.095895, \tVal_acc : 0.564891\n"
     ]
    },
    {
     "name": "stderr",
     "output_type": "stream",
     "text": [
      "100%|██████████| 439/439 [03:29<00:00,  2.10it/s]\n",
      "100%|██████████| 244/244 [00:25<00:00,  9.72it/s]\n"
     ]
    },
    {
     "name": "stdout",
     "output_type": "stream",
     "text": [
      "Epoch : 21 \n",
      "train_loss : 1.124647, \tTrain_acc : 0.521173, \n",
      "Val_loss : 1.095177, \tVal_acc : 0.566940\n"
     ]
    },
    {
     "name": "stderr",
     "output_type": "stream",
     "text": [
      "100%|██████████| 439/439 [03:28<00:00,  2.11it/s]\n",
      "100%|██████████| 244/244 [00:23<00:00, 10.30it/s]\n"
     ]
    },
    {
     "name": "stdout",
     "output_type": "stream",
     "text": [
      "Epoch : 22 \n",
      "train_loss : 1.125574, \tTrain_acc : 0.523813, \n",
      "Val_loss : 1.080096, \tVal_acc : 0.583060\n",
      "Validation loss decreased from (1.081674 --> 1.080096).\n",
      "Saving model ...\n"
     ]
    },
    {
     "name": "stderr",
     "output_type": "stream",
     "text": [
      "100%|██████████| 439/439 [03:26<00:00,  2.13it/s]\n",
      "100%|██████████| 244/244 [00:24<00:00, 10.03it/s]\n"
     ]
    },
    {
     "name": "stdout",
     "output_type": "stream",
     "text": [
      "Epoch : 23 \n",
      "train_loss : 1.124657, \tTrain_acc : 0.523839, \n",
      "Val_loss : 1.083196, \tVal_acc : 0.580464\n"
     ]
    },
    {
     "name": "stderr",
     "output_type": "stream",
     "text": [
      "100%|██████████| 439/439 [03:22<00:00,  2.16it/s]\n",
      "100%|██████████| 244/244 [00:23<00:00, 10.45it/s]\n"
     ]
    },
    {
     "name": "stdout",
     "output_type": "stream",
     "text": [
      "Epoch : 24 \n",
      "train_loss : 1.118247, \tTrain_acc : 0.526117, \n",
      "Val_loss : 1.083535, \tVal_acc : 0.566940\n"
     ]
    },
    {
     "name": "stderr",
     "output_type": "stream",
     "text": [
      "100%|██████████| 439/439 [03:19<00:00,  2.20it/s]\n",
      "100%|██████████| 244/244 [00:23<00:00, 10.33it/s]"
     ]
    },
    {
     "name": "stdout",
     "output_type": "stream",
     "text": [
      "Epoch : 25 \n",
      "train_loss : 1.118473, \tTrain_acc : 0.525888, \n",
      "Val_loss : 1.081554, \tVal_acc : 0.579781\n"
     ]
    },
    {
     "name": "stderr",
     "output_type": "stream",
     "text": [
      "\n"
     ]
    }
   ],
   "source": [
    "model = get_deepLavV3(4)\n",
    "criterion = nn.CrossEntropyLoss()\n",
    "optimizer = torch.optim.Adam(model.parameters(), lr=0.001)\n",
    "schedular = torch.optim.lr_scheduler.ReduceLROnPlateau(optimizer, factor=0.1, patience=3)\n",
    "\n",
    "epochs = 25\n",
    "val_loss_min = np.Inf\n",
    "max_e = 10\n",
    "\n",
    "# 模型存放路径\n",
    "model_path = os.path.join('./model')\n",
    "name = \"SA_ResInceptionV3_pre\"\n",
    "model = model.to(DEVICE)\n",
    "for epoch in range(epochs):\n",
    "\n",
    "    train_loss = 0.0\n",
    "    val_loss = 0.0\n",
    "    train_acc = 0.0\n",
    "    val_acc = 0.0\n",
    "\n",
    "    model.train()\n",
    "    for images,labels in tqdm(train_loader):\n",
    "        optimizer.zero_grad()\n",
    "        images = images.to(DEVICE)\n",
    "        labels = labels.to(DEVICE)\n",
    "        preds,_ = model(images)\n",
    "        loss = criterion(preds, labels)\n",
    "        loss.backward()\n",
    "        optimizer.step()\n",
    "\n",
    "        train_loss += loss.item()\n",
    "        train_acc += accuracy(preds, labels)\n",
    "\n",
    "    avg_train_loss = train_loss / len(train_loader)\n",
    "    avg_train_acc = train_acc / len(train_loader)\n",
    "\n",
    "    model.eval()\n",
    "    with torch.no_grad():\n",
    "        for images,labels in tqdm(val_loader):\n",
    "            images = images.to(DEVICE)\n",
    "            labels = labels.to(DEVICE)\n",
    "\n",
    "            preds = model(images)\n",
    "            loss = criterion(preds, labels)\n",
    "            val_loss += loss.item()\n",
    "            val_acc += accuracy(preds, labels)\n",
    "\n",
    "        avg_val_loss = val_loss / len(val_loader)\n",
    "        avg_val_acc = val_acc / len(val_loader)\n",
    "\n",
    "    schedular.step(avg_val_loss)\n",
    "\n",
    "    print(\"Epoch : {} \\ntrain_loss : {:.6f}, \\tTrain_acc : {:.6f}, \\nVal_loss : {:.6f}, \\tVal_acc : {:.6f}\".format(epoch + 1,\n",
    "                                                                                                                   avg_train_loss, avg_train_acc,\n",
    "                                                                                                                   avg_val_loss, avg_val_acc))\n",
    "    if avg_val_loss <= val_loss_min:\n",
    "        print('Validation loss decreased from ({:.6f} --> {:.6f}).\\nSaving model ...'.format(val_loss_min, avg_val_loss))\n",
    "        torch.save(model,os.path.join(model_path,f\"{name}.pth\"))\n",
    "        val_loss_min = avg_val_loss\n",
    "        max_e = 10\n",
    "    max_e -= 1\n",
    "    if max_e<=0:\n",
    "        break\n"
   ]
  },
  {
   "cell_type": "code",
   "execution_count": 7,
   "metadata": {},
   "outputs": [
    {
     "data": {
      "text/plain": [
       "1.0800955942908272"
      ]
     },
     "execution_count": 7,
     "metadata": {},
     "output_type": "execute_result"
    }
   ],
   "source": [
    "val_loss_min"
   ]
  },
  {
   "cell_type": "markdown",
   "metadata": {},
   "source": [
    "### 解冻参数"
   ]
  },
  {
   "cell_type": "code",
   "execution_count": 8,
   "metadata": {},
   "outputs": [],
   "source": [
    "# 载入冻结训练的模型,解冻卷积层参数\n",
    "model_path = os.path.join('./model')\n",
    "name = \"SA_ResInceptionV3_pre\"\n",
    "model = torch.load(os.path.join(model_path,f\"{name}.pth\"))\n",
    "\n",
    "for param in model.parameters():\n",
    "        param.requires_grad = True\n",
    "\n",
    "# for k,v in model.named_parameters():\n",
    "#     print(f\"{k}: {v.requires_grad}\")\n",
    "# model"
   ]
  },
  {
   "cell_type": "markdown",
   "metadata": {},
   "source": [
    "### finetune"
   ]
  },
  {
   "cell_type": "code",
   "execution_count": 9,
   "metadata": {},
   "outputs": [
    {
     "name": "stderr",
     "output_type": "stream",
     "text": [
      "100%|██████████| 439/439 [04:44<00:00,  1.54it/s]\n",
      "100%|██████████| 244/244 [00:23<00:00, 10.34it/s]\n"
     ]
    },
    {
     "name": "stdout",
     "output_type": "stream",
     "text": [
      "Epoch : 1 \n",
      "train_loss : 0.737462, \tTrain_acc : 0.695121, \n",
      "Val_loss : 0.787989, \tVal_acc : 0.673770\n",
      "Validation loss decreased from (1.080096 --> 0.787989).\n",
      "Saving model ...\n"
     ]
    },
    {
     "name": "stderr",
     "output_type": "stream",
     "text": [
      "100%|██████████| 439/439 [04:52<00:00,  1.50it/s]\n",
      "100%|██████████| 244/244 [00:23<00:00, 10.17it/s]\n"
     ]
    },
    {
     "name": "stdout",
     "output_type": "stream",
     "text": [
      "Epoch : 2 \n",
      "train_loss : 0.383825, \tTrain_acc : 0.855122, \n",
      "Val_loss : 0.490741, \tVal_acc : 0.824590\n",
      "Validation loss decreased from (0.787989 --> 0.490741).\n",
      "Saving model ...\n"
     ]
    },
    {
     "name": "stderr",
     "output_type": "stream",
     "text": [
      "100%|██████████| 439/439 [04:52<00:00,  1.50it/s]\n",
      "100%|██████████| 244/244 [00:24<00:00, 10.00it/s]\n"
     ]
    },
    {
     "name": "stdout",
     "output_type": "stream",
     "text": [
      "Epoch : 3 \n",
      "train_loss : 0.320856, \tTrain_acc : 0.882912, \n",
      "Val_loss : 0.478174, \tVal_acc : 0.818169\n",
      "Validation loss decreased from (0.490741 --> 0.478174).\n",
      "Saving model ...\n"
     ]
    },
    {
     "name": "stderr",
     "output_type": "stream",
     "text": [
      "100%|██████████| 439/439 [04:54<00:00,  1.49it/s]\n",
      "100%|██████████| 244/244 [00:24<00:00, 10.13it/s]\n"
     ]
    },
    {
     "name": "stdout",
     "output_type": "stream",
     "text": [
      "Epoch : 4 \n",
      "train_loss : 0.286972, \tTrain_acc : 0.895781, \n",
      "Val_loss : 0.407104, \tVal_acc : 0.847678\n",
      "Validation loss decreased from (0.478174 --> 0.407104).\n",
      "Saving model ...\n"
     ]
    },
    {
     "name": "stderr",
     "output_type": "stream",
     "text": [
      "100%|██████████| 439/439 [04:50<00:00,  1.51it/s]\n",
      "100%|██████████| 244/244 [00:24<00:00, 10.09it/s]\n"
     ]
    },
    {
     "name": "stdout",
     "output_type": "stream",
     "text": [
      "Epoch : 5 \n",
      "train_loss : 0.267528, \tTrain_acc : 0.902823, \n",
      "Val_loss : 0.267089, \tVal_acc : 0.909563\n",
      "Validation loss decreased from (0.407104 --> 0.267089).\n",
      "Saving model ...\n"
     ]
    },
    {
     "name": "stderr",
     "output_type": "stream",
     "text": [
      "100%|██████████| 439/439 [04:56<00:00,  1.48it/s]\n",
      "100%|██████████| 244/244 [00:24<00:00,  9.77it/s]\n"
     ]
    },
    {
     "name": "stdout",
     "output_type": "stream",
     "text": [
      "Epoch : 6 \n",
      "train_loss : 0.251985, \tTrain_acc : 0.909426, \n",
      "Val_loss : 0.257137, \tVal_acc : 0.901366\n",
      "Validation loss decreased from (0.267089 --> 0.257137).\n",
      "Saving model ...\n"
     ]
    },
    {
     "name": "stderr",
     "output_type": "stream",
     "text": [
      "100%|██████████| 439/439 [05:00<00:00,  1.46it/s]\n",
      "100%|██████████| 244/244 [00:24<00:00,  9.86it/s]\n"
     ]
    },
    {
     "name": "stdout",
     "output_type": "stream",
     "text": [
      "Epoch : 7 \n",
      "train_loss : 0.231268, \tTrain_acc : 0.914713, \n",
      "Val_loss : 0.292557, \tVal_acc : 0.886612\n"
     ]
    },
    {
     "name": "stderr",
     "output_type": "stream",
     "text": [
      "100%|██████████| 439/439 [05:03<00:00,  1.44it/s]\n",
      "100%|██████████| 244/244 [00:25<00:00,  9.66it/s]\n"
     ]
    },
    {
     "name": "stdout",
     "output_type": "stream",
     "text": [
      "Epoch : 8 \n",
      "train_loss : 0.220691, \tTrain_acc : 0.919292, \n",
      "Val_loss : 0.247322, \tVal_acc : 0.902459\n",
      "Validation loss decreased from (0.257137 --> 0.247322).\n",
      "Saving model ...\n"
     ]
    },
    {
     "name": "stderr",
     "output_type": "stream",
     "text": [
      "100%|██████████| 439/439 [05:00<00:00,  1.46it/s]\n",
      "100%|██████████| 244/244 [00:25<00:00,  9.72it/s]\n"
     ]
    },
    {
     "name": "stdout",
     "output_type": "stream",
     "text": [
      "Epoch : 9 \n",
      "train_loss : 0.214383, \tTrain_acc : 0.922233, \n",
      "Val_loss : 0.219643, \tVal_acc : 0.918579\n",
      "Validation loss decreased from (0.247322 --> 0.219643).\n",
      "Saving model ...\n"
     ]
    },
    {
     "name": "stderr",
     "output_type": "stream",
     "text": [
      "100%|██████████| 439/439 [04:58<00:00,  1.47it/s]\n",
      "100%|██████████| 244/244 [00:23<00:00, 10.28it/s]\n"
     ]
    },
    {
     "name": "stdout",
     "output_type": "stream",
     "text": [
      "Epoch : 10 \n",
      "train_loss : 0.201048, \tTrain_acc : 0.924987, \n",
      "Val_loss : 0.251653, \tVal_acc : 0.910655\n"
     ]
    },
    {
     "name": "stderr",
     "output_type": "stream",
     "text": [
      "100%|██████████| 439/439 [05:07<00:00,  1.43it/s]\n",
      "100%|██████████| 244/244 [00:26<00:00,  9.23it/s]\n"
     ]
    },
    {
     "name": "stdout",
     "output_type": "stream",
     "text": [
      "Epoch : 11 \n",
      "train_loss : 0.196083, \tTrain_acc : 0.926399, \n",
      "Val_loss : 0.244364, \tVal_acc : 0.910792\n"
     ]
    },
    {
     "name": "stderr",
     "output_type": "stream",
     "text": [
      "100%|██████████| 439/439 [05:04<00:00,  1.44it/s]\n",
      "100%|██████████| 244/244 [00:26<00:00,  9.18it/s]\n"
     ]
    },
    {
     "name": "stdout",
     "output_type": "stream",
     "text": [
      "Epoch : 12 \n",
      "train_loss : 0.189166, \tTrain_acc : 0.929908, \n",
      "Val_loss : 0.251765, \tVal_acc : 0.899590\n"
     ]
    },
    {
     "name": "stderr",
     "output_type": "stream",
     "text": [
      "100%|██████████| 439/439 [05:09<00:00,  1.42it/s]\n",
      "100%|██████████| 244/244 [00:25<00:00,  9.41it/s]\n"
     ]
    },
    {
     "name": "stdout",
     "output_type": "stream",
     "text": [
      "Epoch : 13 \n",
      "train_loss : 0.182146, \tTrain_acc : 0.931982, \n",
      "Val_loss : 0.246450, \tVal_acc : 0.911065\n"
     ]
    },
    {
     "name": "stderr",
     "output_type": "stream",
     "text": [
      "100%|██████████| 439/439 [05:05<00:00,  1.44it/s]\n",
      "100%|██████████| 244/244 [00:25<00:00,  9.46it/s]\n"
     ]
    },
    {
     "name": "stdout",
     "output_type": "stream",
     "text": [
      "Epoch : 14 \n",
      "train_loss : 0.133089, \tTrain_acc : 0.950660, \n",
      "Val_loss : 0.179377, \tVal_acc : 0.930328\n",
      "Validation loss decreased from (0.219643 --> 0.179377).\n",
      "Saving model ...\n"
     ]
    },
    {
     "name": "stderr",
     "output_type": "stream",
     "text": [
      "100%|██████████| 439/439 [05:05<00:00,  1.44it/s]\n",
      "100%|██████████| 244/244 [00:24<00:00,  9.99it/s]\n"
     ]
    },
    {
     "name": "stdout",
     "output_type": "stream",
     "text": [
      "Epoch : 15 \n",
      "train_loss : 0.121078, \tTrain_acc : 0.953962, \n",
      "Val_loss : 0.167714, \tVal_acc : 0.940164\n",
      "Validation loss decreased from (0.179377 --> 0.167714).\n",
      "Saving model ...\n"
     ]
    },
    {
     "name": "stderr",
     "output_type": "stream",
     "text": [
      "100%|██████████| 439/439 [05:05<00:00,  1.44it/s]\n",
      "100%|██████████| 244/244 [00:25<00:00,  9.53it/s]\n"
     ]
    },
    {
     "name": "stdout",
     "output_type": "stream",
     "text": [
      "Epoch : 16 \n",
      "train_loss : 0.107092, \tTrain_acc : 0.959522, \n",
      "Val_loss : 0.166487, \tVal_acc : 0.941939\n",
      "Validation loss decreased from (0.167714 --> 0.166487).\n",
      "Saving model ...\n"
     ]
    },
    {
     "name": "stderr",
     "output_type": "stream",
     "text": [
      "100%|██████████| 439/439 [05:08<00:00,  1.42it/s]\n",
      "100%|██████████| 244/244 [00:26<00:00,  9.34it/s]\n"
     ]
    },
    {
     "name": "stdout",
     "output_type": "stream",
     "text": [
      "Epoch : 17 \n",
      "train_loss : 0.104198, \tTrain_acc : 0.961093, \n",
      "Val_loss : 0.174143, \tVal_acc : 0.934425\n"
     ]
    },
    {
     "name": "stderr",
     "output_type": "stream",
     "text": [
      "100%|██████████| 439/439 [05:05<00:00,  1.44it/s]\n",
      "100%|██████████| 244/244 [00:26<00:00,  9.38it/s]\n"
     ]
    },
    {
     "name": "stdout",
     "output_type": "stream",
     "text": [
      "Epoch : 18 \n",
      "train_loss : 0.097041, \tTrain_acc : 0.963509, \n",
      "Val_loss : 0.183033, \tVal_acc : 0.933196\n"
     ]
    },
    {
     "name": "stderr",
     "output_type": "stream",
     "text": [
      "100%|██████████| 439/439 [05:03<00:00,  1.44it/s]\n",
      "100%|██████████| 244/244 [00:25<00:00,  9.54it/s]\n"
     ]
    },
    {
     "name": "stdout",
     "output_type": "stream",
     "text": [
      "Epoch : 19 \n",
      "train_loss : 0.089136, \tTrain_acc : 0.966902, \n",
      "Val_loss : 0.181977, \tVal_acc : 0.940573\n"
     ]
    },
    {
     "name": "stderr",
     "output_type": "stream",
     "text": [
      "100%|██████████| 439/439 [05:02<00:00,  1.45it/s]\n",
      "100%|██████████| 244/244 [00:25<00:00,  9.62it/s]\n"
     ]
    },
    {
     "name": "stdout",
     "output_type": "stream",
     "text": [
      "Epoch : 20 \n",
      "train_loss : 0.086710, \tTrain_acc : 0.966424, \n",
      "Val_loss : 0.180540, \tVal_acc : 0.941803\n"
     ]
    },
    {
     "name": "stderr",
     "output_type": "stream",
     "text": [
      "100%|██████████| 439/439 [05:01<00:00,  1.46it/s]\n",
      "100%|██████████| 244/244 [00:25<00:00,  9.51it/s]\n"
     ]
    },
    {
     "name": "stdout",
     "output_type": "stream",
     "text": [
      "Epoch : 21 \n",
      "train_loss : 0.078191, \tTrain_acc : 0.971117, \n",
      "Val_loss : 0.170797, \tVal_acc : 0.941803\n"
     ]
    },
    {
     "name": "stderr",
     "output_type": "stream",
     "text": [
      "100%|██████████| 439/439 [05:00<00:00,  1.46it/s]\n",
      "100%|██████████| 244/244 [00:24<00:00,  9.92it/s]\n"
     ]
    },
    {
     "name": "stdout",
     "output_type": "stream",
     "text": [
      "Epoch : 22 \n",
      "train_loss : 0.074339, \tTrain_acc : 0.972187, \n",
      "Val_loss : 0.195507, \tVal_acc : 0.934016\n"
     ]
    },
    {
     "name": "stderr",
     "output_type": "stream",
     "text": [
      "100%|██████████| 439/439 [05:00<00:00,  1.46it/s]\n",
      "100%|██████████| 244/244 [00:25<00:00,  9.67it/s]\n"
     ]
    },
    {
     "name": "stdout",
     "output_type": "stream",
     "text": [
      "Epoch : 23 \n",
      "train_loss : 0.075144, \tTrain_acc : 0.970753, \n",
      "Val_loss : 0.184421, \tVal_acc : 0.935246\n"
     ]
    },
    {
     "name": "stderr",
     "output_type": "stream",
     "text": [
      "100%|██████████| 439/439 [05:03<00:00,  1.44it/s]\n",
      "100%|██████████| 244/244 [00:25<00:00,  9.57it/s]\n"
     ]
    },
    {
     "name": "stdout",
     "output_type": "stream",
     "text": [
      "Epoch : 24 \n",
      "train_loss : 0.074019, \tTrain_acc : 0.972072, \n",
      "Val_loss : 0.182784, \tVal_acc : 0.942622\n"
     ]
    },
    {
     "name": "stderr",
     "output_type": "stream",
     "text": [
      "100%|██████████| 439/439 [04:56<00:00,  1.48it/s]\n",
      "100%|██████████| 244/244 [00:24<00:00,  9.89it/s]"
     ]
    },
    {
     "name": "stdout",
     "output_type": "stream",
     "text": [
      "Epoch : 25 \n",
      "train_loss : 0.073104, \tTrain_acc : 0.971641, \n",
      "Val_loss : 0.190575, \tVal_acc : 0.931147\n"
     ]
    },
    {
     "name": "stderr",
     "output_type": "stream",
     "text": [
      "\n"
     ]
    }
   ],
   "source": [
    "criterion = nn.CrossEntropyLoss()\n",
    "optimizer = torch.optim.Adam(model.parameters(), lr=1e-4)\n",
    "schedular = torch.optim.lr_scheduler.ReduceLROnPlateau(optimizer, factor=0.1, patience=3)\n",
    "\n",
    "epochs =50\n",
    "max_e = 10\n",
    "\n",
    "name = \"SA_ResInceptionV3_pre_finetune\"\n",
    "model = model.to(DEVICE)\n",
    "for epoch in range(epochs):\n",
    "\n",
    "    train_loss = 0.0\n",
    "    val_loss = 0.0\n",
    "    train_acc = 0.0\n",
    "    val_acc = 0.0\n",
    "\n",
    "    model.train()\n",
    "    for images,labels in tqdm(train_loader):\n",
    "        optimizer.zero_grad()\n",
    "        images = images.to(DEVICE)\n",
    "        labels = labels.to(DEVICE)\n",
    "\n",
    "        preds,_ = model(images)\n",
    "        loss = criterion(preds, labels)\n",
    "        loss.backward()\n",
    "        optimizer.step()\n",
    "\n",
    "        train_loss += loss.item()\n",
    "        train_acc += accuracy(preds, labels)\n",
    "\n",
    "    avg_train_loss = train_loss / len(train_loader)\n",
    "    avg_train_acc = train_acc / len(train_loader)\n",
    "\n",
    "    model.eval()\n",
    "    with torch.no_grad():\n",
    "        for images,labels in tqdm(val_loader):\n",
    "            images = images.to(DEVICE)\n",
    "            labels = labels.to(DEVICE)\n",
    "\n",
    "            preds = model(images)\n",
    "            loss = criterion(preds, labels)\n",
    "            val_loss += loss.item()\n",
    "            val_acc += accuracy(preds, labels)\n",
    "\n",
    "        avg_val_loss = val_loss / len(val_loader)\n",
    "        avg_val_acc = val_acc / len(val_loader)\n",
    "\n",
    "    schedular.step(avg_val_loss)\n",
    "\n",
    "    print(\"Epoch : {} \\ntrain_loss : {:.6f}, \\tTrain_acc : {:.6f}, \\nVal_loss : {:.6f}, \\tVal_acc : {:.6f}\".format(epoch + 1,\n",
    "                                                                                                                   avg_train_loss, avg_train_acc,\n",
    "                                                                                                                   avg_val_loss, avg_val_acc))\n",
    "    if avg_val_loss <= val_loss_min:\n",
    "        print('Validation loss decreased from ({:.6f} --> {:.6f}).\\nSaving model ...'.format(val_loss_min, avg_val_loss))\n",
    "        torch.save(model, os.path.join(model_path,f\"{name}.pth\"))\n",
    "        val_loss_min = avg_val_loss\n",
    "        max_e = 10\n",
    "    max_e -= 1\n",
    "    if max_e<=0:\n",
    "        break\n"
   ]
  },
  {
   "cell_type": "code",
   "execution_count": 10,
   "metadata": {},
   "outputs": [
    {
     "data": {
      "text/plain": [
       "0.16648661456410543"
      ]
     },
     "execution_count": 10,
     "metadata": {},
     "output_type": "execute_result"
    }
   ],
   "source": [
    "val_loss_min"
   ]
  },
  {
   "cell_type": "markdown",
   "metadata": {},
   "source": [
    "### 测试"
   ]
  },
  {
   "cell_type": "code",
   "execution_count": 11,
   "metadata": {
    "tags": []
   },
   "outputs": [
    {
     "name": "stderr",
     "output_type": "stream",
     "text": [
      "100%|██████████| 2706/2706 [01:14<00:00, 36.49it/s]"
     ]
    },
    {
     "name": "stdout",
     "output_type": "stream",
     "text": [
      "Test_loss : 0.156628, \tTest_acc : 0.944568\n",
      "[[ 360    0    1    0]\n",
      " [   4  801   28   26]\n",
      " [   3   37 1140    3]\n",
      " [   0   41    7  255]]\n"
     ]
    },
    {
     "name": "stderr",
     "output_type": "stream",
     "text": [
      "\n"
     ]
    }
   ],
   "source": [
    "name = \"SA_ResInceptionV3_pre_finetune\"\n",
    "model = torch.load(os.path.join(model_path,f\"{name}.pth\"))\n",
    "model = model.to(DEVICE)\n",
    "\n",
    "# 混淆矩阵\n",
    "M = np.zeros((4,4))\n",
    "with torch.no_grad():\n",
    "    test_loss=0\n",
    "    test_acc=0\n",
    "    for images,labels in tqdm(test_loader):\n",
    "        images = images.to(DEVICE)\n",
    "        labels = labels.to(DEVICE)\n",
    "\n",
    "        preds = model(images)\n",
    "        loss = criterion(preds, labels)\n",
    "        test_loss += loss.item()\n",
    "        test_acc += accuracy(preds, labels)\n",
    "        \n",
    "        M[preds.argmax(),labels[0]]+=1\n",
    "        \n",
    "    avg_test_loss = test_loss / len(test_loader)\n",
    "    avg_test_acc = test_acc / len(test_loader)\n",
    "    print(\"Test_loss : {:.6f}, \\tTest_acc : {:.6f}\".format(avg_test_loss,avg_test_acc))\n",
    "    \n",
    "    M = M.astype(\"int\")\n",
    "    print(M)\n",
    "    "
   ]
  }
 ],
 "metadata": {
  "kernelspec": {
   "display_name": "Python 3 (ipykernel)",
   "language": "python",
   "name": "python3"
  },
  "language_info": {
   "codemirror_mode": {
    "name": "ipython",
    "version": 3
   },
   "file_extension": ".py",
   "mimetype": "text/x-python",
   "name": "python",
   "nbconvert_exporter": "python",
   "pygments_lexer": "ipython3",
   "version": "3.7.10"
  },
  "vscode": {
   "interpreter": {
    "hash": "d9840a8de2b5de678e209fd904f7d6f8e9cbfcc43f84beeb436e5d7726cf947f"
   }
  }
 },
 "nbformat": 4,
 "nbformat_minor": 4
}
